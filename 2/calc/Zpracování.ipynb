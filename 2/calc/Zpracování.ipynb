{
 "cells": [
  {
   "cell_type": "markdown",
   "metadata": {},
   "source": [
    "# Měření odporů"
   ]
  },
  {
   "cell_type": "code",
   "execution_count": 9,
   "metadata": {
    "collapsed": true
   },
   "outputs": [],
   "source": [
    "from protokol import *\n",
    "from uncertainties import ufloat\n",
    "from uncertainties.unumpy import nominal_values as noms\n",
    "from uncertainties.unumpy import std_devs as stds\n",
    "import uncertainties.umath as um"
   ]
  },
  {
   "cell_type": "code",
   "execution_count": 48,
   "metadata": {
    "collapsed": true
   },
   "outputs": [],
   "source": [
    "%matplotlib inline\n",
    "plt.rcParams[\"figure.figsize\"] = (4*1.5,2.5*1.5)\n",
    "plt.rcParams[\"figure.dpi\"] = 100\n",
    "plt.rcParams[\"text.usetex\"] = True\n",
    "plt.rcParams['text.latex.unicode'] = True\n",
    "plt.rcParams[\"font.family\"] = \"serif\"\n",
    "plt.rcParams[\"font.serif\"] = [\"Computer Modern\"]\n",
    "plt.rcParams[\"text.latex.preamble\"] = r\"\"\"\n",
    "\\usepackage[decimalsymbol=comma]{siunitx}\n",
    "\"\"\""
   ]
  },
  {
   "cell_type": "markdown",
   "metadata": {},
   "source": [
    "### Definice"
   ]
  },
  {
   "cell_type": "markdown",
   "metadata": {},
   "source": [
    "chyba dekády: 0,1% z naměřené hodnoty\n",
    "\n",
    "chyba amp/voltmetru: 0,2% z rozsahu\n",
    "\n",
    "chyba multimetru pro voltmetr: 0,8% $\\pm$ 2d\n",
    "\n",
    "chyba multimetru pro ampérmetr: 0,8% $\\pm$ 4d"
   ]
  },
  {
   "cell_type": "code",
   "execution_count": 30,
   "metadata": {
    "collapsed": true
   },
   "outputs": [],
   "source": [
    "def primka(x, a, b):\n",
    "    return a*x + b\n",
    "\n",
    "def parabola(x, a, b, c):\n",
    "    return a*x**2 + b*x + c"
   ]
  },
  {
   "cell_type": "code",
   "execution_count": 130,
   "metadata": {
    "collapsed": true
   },
   "outputs": [],
   "source": [
    "odpor_ampermetru = {\n",
    "    1.5 : ufloat( 110.2 , 1.3),\n",
    "    3   : ufloat( 82.9  , 1.1),\n",
    "    7.5 : ufloat( 39.8  , 0.7),\n",
    "    15  : ufloat( 21.1  , 0.6),\n",
    "    30  : ufloat( 10.9  , 0.5),\n",
    "    75  : ufloat( 4.1   , 0.04)\n",
    "}\n",
    "\n",
    "odpor_voltmetru = {\n",
    "    1.5 : ufloat(  770 , 8   ),                 \n",
    "    3   : ufloat( 1500 , 32  ),             \n",
    "    7.5 : ufloat( 3750 , 50  ),                    \n",
    "    15  : ufloat( 7480 , 80  ),                    \n",
    "    30  : ufloat( 14970, 140)\n",
    "}"
   ]
  },
  {
   "cell_type": "markdown",
   "metadata": {},
   "source": [
    "### Úkol 1"
   ]
  },
  {
   "cell_type": "code",
   "execution_count": 79,
   "metadata": {},
   "outputs": [
    {
     "name": "stderr",
     "output_type": "stream",
     "text": [
      "C:\\tools\\Anaconda3\\lib\\site-packages\\ipykernel_launcher.py:1: FutureWarning: convert_objects is deprecated.  Use the data-type specific converters pd.to_datetime, pd.to_timedelta and pd.to_numeric.\n",
      "  \"\"\"Entry point for launching an IPython kernel.\n",
      "C:\\tools\\Anaconda3\\lib\\site-packages\\ipykernel_launcher.py:2: FutureWarning: convert_objects is deprecated.  Use the data-type specific converters pd.to_datetime, pd.to_timedelta and pd.to_numeric.\n",
      "  \n"
     ]
    }
   ],
   "source": [
    "df_a = pd.read_csv(\"../raw/ukol1_a.txt\", delim_whitespace=True).convert_objects(convert_numeric=True)\n",
    "df_b = pd.read_csv(\"../raw/ukol1_b.txt\", delim_whitespace=True).convert_objects(convert_numeric=True)"
   ]
  },
  {
   "cell_type": "code",
   "execution_count": null,
   "metadata": {
    "collapsed": true
   },
   "outputs": [],
   "source": [
    "df_a[\"mA\"] = sp.array([ufloat(df_a.iloc[i].mA, df_a.iloc[i].rozmA * 0.002) for i in range(len(df_a))])"
   ]
  },
  {
   "cell_type": "code",
   "execution_count": 107,
   "metadata": {},
   "outputs": [
    {
     "data": {
      "text/html": [
       "<div>\n",
       "<style>\n",
       "    .dataframe thead tr:only-child th {\n",
       "        text-align: right;\n",
       "    }\n",
       "\n",
       "    .dataframe thead th {\n",
       "        text-align: left;\n",
       "    }\n",
       "\n",
       "    .dataframe tbody tr th {\n",
       "        vertical-align: top;\n",
       "    }\n",
       "</style>\n",
       "<table border=\"1\" class=\"dataframe\">\n",
       "  <thead>\n",
       "    <tr style=\"text-align: right;\">\n",
       "      <th></th>\n",
       "      <th>V</th>\n",
       "      <th>rozV</th>\n",
       "      <th>mA</th>\n",
       "      <th>rozmA</th>\n",
       "    </tr>\n",
       "  </thead>\n",
       "  <tbody>\n",
       "    <tr>\n",
       "      <th>0</th>\n",
       "      <td>0.1500+/-0.0030</td>\n",
       "      <td>1.5</td>\n",
       "      <td>1.1100+/-0.0030</td>\n",
       "      <td>1.5</td>\n",
       "    </tr>\n",
       "    <tr>\n",
       "      <th>1</th>\n",
       "      <td>0.3500+/-0.0030</td>\n",
       "      <td>1.5</td>\n",
       "      <td>4.450+/-0.015</td>\n",
       "      <td>7.5</td>\n",
       "    </tr>\n",
       "    <tr>\n",
       "      <th>2</th>\n",
       "      <td>0.5100+/-0.0030</td>\n",
       "      <td>1.5</td>\n",
       "      <td>6.300+/-0.015</td>\n",
       "      <td>7.5</td>\n",
       "    </tr>\n",
       "    <tr>\n",
       "      <th>3</th>\n",
       "      <td>0.7000+/-0.0030</td>\n",
       "      <td>1.5</td>\n",
       "      <td>9.100+/-0.030</td>\n",
       "      <td>15.0</td>\n",
       "    </tr>\n",
       "    <tr>\n",
       "      <th>4</th>\n",
       "      <td>0.8500+/-0.0030</td>\n",
       "      <td>1.5</td>\n",
       "      <td>10.000+/-0.030</td>\n",
       "      <td>15.0</td>\n",
       "    </tr>\n",
       "    <tr>\n",
       "      <th>5</th>\n",
       "      <td>1.0900+/-0.0030</td>\n",
       "      <td>1.5</td>\n",
       "      <td>11.000+/-0.030</td>\n",
       "      <td>15.0</td>\n",
       "    </tr>\n",
       "    <tr>\n",
       "      <th>6</th>\n",
       "      <td>1.640+/-0.006</td>\n",
       "      <td>3.0</td>\n",
       "      <td>12.700+/-0.030</td>\n",
       "      <td>15.0</td>\n",
       "    </tr>\n",
       "    <tr>\n",
       "      <th>7</th>\n",
       "      <td>2.560+/-0.006</td>\n",
       "      <td>3.0</td>\n",
       "      <td>15.00+/-0.06</td>\n",
       "      <td>30.0</td>\n",
       "    </tr>\n",
       "    <tr>\n",
       "      <th>8</th>\n",
       "      <td>2.900+/-0.006</td>\n",
       "      <td>3.0</td>\n",
       "      <td>15.80+/-0.06</td>\n",
       "      <td>30.0</td>\n",
       "    </tr>\n",
       "    <tr>\n",
       "      <th>9</th>\n",
       "      <td>4.100+/-0.015</td>\n",
       "      <td>7.5</td>\n",
       "      <td>18.40+/-0.06</td>\n",
       "      <td>30.0</td>\n",
       "    </tr>\n",
       "    <tr>\n",
       "      <th>10</th>\n",
       "      <td>5.000+/-0.015</td>\n",
       "      <td>7.5</td>\n",
       "      <td>20.40+/-0.06</td>\n",
       "      <td>30.0</td>\n",
       "    </tr>\n",
       "    <tr>\n",
       "      <th>11</th>\n",
       "      <td>6.250+/-0.015</td>\n",
       "      <td>7.5</td>\n",
       "      <td>23.40+/-0.06</td>\n",
       "      <td>30.0</td>\n",
       "    </tr>\n",
       "    <tr>\n",
       "      <th>12</th>\n",
       "      <td>7.500+/-0.015</td>\n",
       "      <td>7.5</td>\n",
       "      <td>25.80+/-0.06</td>\n",
       "      <td>30.0</td>\n",
       "    </tr>\n",
       "    <tr>\n",
       "      <th>13</th>\n",
       "      <td>8.900+/-0.030</td>\n",
       "      <td>15.0</td>\n",
       "      <td>28.60+/-0.06</td>\n",
       "      <td>30.0</td>\n",
       "    </tr>\n",
       "    <tr>\n",
       "      <th>14</th>\n",
       "      <td>11.400+/-0.030</td>\n",
       "      <td>15.0</td>\n",
       "      <td>33.00+/-0.15</td>\n",
       "      <td>75.0</td>\n",
       "    </tr>\n",
       "    <tr>\n",
       "      <th>15</th>\n",
       "      <td>13.200+/-0.030</td>\n",
       "      <td>15.0</td>\n",
       "      <td>35.50+/-0.15</td>\n",
       "      <td>75.0</td>\n",
       "    </tr>\n",
       "    <tr>\n",
       "      <th>16</th>\n",
       "      <td>15.000+/-0.030</td>\n",
       "      <td>15.0</td>\n",
       "      <td>38.50+/-0.15</td>\n",
       "      <td>75.0</td>\n",
       "    </tr>\n",
       "    <tr>\n",
       "      <th>17</th>\n",
       "      <td>19.10+/-0.06</td>\n",
       "      <td>30.0</td>\n",
       "      <td>44.00+/-0.15</td>\n",
       "      <td>75.0</td>\n",
       "    </tr>\n",
       "    <tr>\n",
       "      <th>18</th>\n",
       "      <td>22.00+/-0.06</td>\n",
       "      <td>30.0</td>\n",
       "      <td>47.50+/-0.15</td>\n",
       "      <td>75.0</td>\n",
       "    </tr>\n",
       "  </tbody>\n",
       "</table>\n",
       "</div>"
      ],
      "text/plain": [
       "                  V  rozV               mA  rozmA\n",
       "0   0.1500+/-0.0030   1.5  1.1100+/-0.0030    1.5\n",
       "1   0.3500+/-0.0030   1.5    4.450+/-0.015    7.5\n",
       "2   0.5100+/-0.0030   1.5    6.300+/-0.015    7.5\n",
       "3   0.7000+/-0.0030   1.5    9.100+/-0.030   15.0\n",
       "4   0.8500+/-0.0030   1.5   10.000+/-0.030   15.0\n",
       "5   1.0900+/-0.0030   1.5   11.000+/-0.030   15.0\n",
       "6     1.640+/-0.006   3.0   12.700+/-0.030   15.0\n",
       "7     2.560+/-0.006   3.0     15.00+/-0.06   30.0\n",
       "8     2.900+/-0.006   3.0     15.80+/-0.06   30.0\n",
       "9     4.100+/-0.015   7.5     18.40+/-0.06   30.0\n",
       "10    5.000+/-0.015   7.5     20.40+/-0.06   30.0\n",
       "11    6.250+/-0.015   7.5     23.40+/-0.06   30.0\n",
       "12    7.500+/-0.015   7.5     25.80+/-0.06   30.0\n",
       "13    8.900+/-0.030  15.0     28.60+/-0.06   30.0\n",
       "14   11.400+/-0.030  15.0     33.00+/-0.15   75.0\n",
       "15   13.200+/-0.030  15.0     35.50+/-0.15   75.0\n",
       "16   15.000+/-0.030  15.0     38.50+/-0.15   75.0\n",
       "17     19.10+/-0.06  30.0     44.00+/-0.15   75.0\n",
       "18     22.00+/-0.06  30.0     47.50+/-0.15   75.0"
      ]
     },
     "execution_count": 107,
     "metadata": {},
     "output_type": "execute_result"
    }
   ],
   "source": [
    "df_a"
   ]
  },
  {
   "cell_type": "markdown",
   "metadata": {},
   "source": [
    "#### Nekorigovaný odpor a"
   ]
  },
  {
   "cell_type": "code",
   "execution_count": 160,
   "metadata": {},
   "outputs": [
    {
     "name": "stdout",
     "output_type": "stream",
     "text": [
      "135.1+/-2.7\n",
      "78.7+/-0.7\n",
      "81.0+/-0.5\n",
      "76.9+/-0.4\n",
      "85.0+/-0.4\n",
      "99.1+/-0.4\n",
      "129.1+/-0.6\n",
      "170.7+/-0.8\n",
      "183.5+/-0.8\n",
      "222.8+/-1.1\n",
      "245.1+/-1.0\n",
      "267.1+/-0.9\n",
      "290.7+/-0.9\n",
      "311.2+/-1.2\n",
      "345.5+/-1.8\n",
      "371.8+/-1.8\n",
      "389.6+/-1.7\n",
      "434.1+/-2.0\n",
      "463.2+/-1.9\n"
     ]
    }
   ],
   "source": [
    "R_a = [df_a.iloc[i].V / (df_a.iloc[i].mA * 0.001) for i in range(len(df_a))]\n",
    "for r in R_a:\n",
    "    print(r)"
   ]
  },
  {
   "cell_type": "markdown",
   "metadata": {},
   "source": [
    "#### Korigovaný odpor a"
   ]
  },
  {
   "cell_type": "code",
   "execution_count": 161,
   "metadata": {},
   "outputs": [
    {
     "name": "stdout",
     "output_type": "stream",
     "text": [
      "24.9+/-3.0\n",
      "38.9+/-1.0\n",
      "41.2+/-0.9\n",
      "55.8+/-0.7\n",
      "63.9+/-0.7\n",
      "78.0+/-0.7\n",
      "108.0+/-0.8\n",
      "159.8+/-0.9\n",
      "172.6+/-0.9\n",
      "211.9+/-1.2\n",
      "234.2+/-1.1\n",
      "256.2+/-1.1\n",
      "279.8+/-1.0\n",
      "300.3+/-1.3\n",
      "341.4+/-1.8\n",
      "367.7+/-1.8\n",
      "385.5+/-1.7\n",
      "430.0+/-2.0\n",
      "459.1+/-1.9\n"
     ]
    }
   ],
   "source": [
    "R_korig_a = [df_a.iloc[i].V / (df_a.iloc[i].mA * 0.001) - odpor_ampermetru[df_a.iloc[i].rozmA] for i in range(len(df_a))]\n",
    "for r in R_korig_a:\n",
    "    print(r)"
   ]
  },
  {
   "cell_type": "code",
   "execution_count": 169,
   "metadata": {},
   "outputs": [
    {
     "data": {
      "image/png": "[encoded data removed]",
      "text/plain": [
       "<matplotlib.figure.Figure at 0x1900e97d320>"
      ]
     },
     "metadata": {},
     "output_type": "display_data"
    }
   ],
   "source": [
    "mA_a_nom = unumpy.nominal_values(df_a.mA.values)\n",
    "R_korig_a_nom = unumpy.nominal_values(R_korig_a)\n",
    "R_a_nom = unumpy.nominal_values(R_a)\n",
    "\n",
    "parafit = fit(parabola, mA_a_nom[:9], R_a_nom[:9], sigma=unumpy.std_devs(R_a)[:9], absolute_sigma=True)\n",
    "primfit = fit(primka, mA_a_nom[9:], R_a_nom[9:])\n",
    "\n",
    "plt.plot(*curve(mA_a_nom[:9], parabola, parafit[0]), \"--\", c=\"gray\", label=\"fit parabolou\")\n",
    "plt.plot(*curve(mA_a_nom[9:], primka, primfit[0]), \"-.\", c=\"gray\", label=\"fit primkou\")\n",
    "# plt.plot(mA_a_nom, R_korig_a_nom, \"+\", label=\"korig\")\n",
    "plt.plot(mA_a_nom, R_a_nom, \"kx\", label=\"hodnoty\")\n",
    "plt.xlabel(\"$I_a [$mA$]$\")\n",
    "plt.ylabel(\"$R_a [\\\\Omega]$\")\n",
    "plt.legend()\n",
    "plt.tight_layout()\n",
    "plt.savefig(\"../plot/u1_a2.pdf\")"
   ]
  },
  {
   "cell_type": "code",
   "execution_count": 170,
   "metadata": {},
   "outputs": [
    {
     "data": {
      "image/png": "[encoded data removed]",
      "text/plain": [
       "<matplotlib.figure.Figure at 0x1900df32dd8>"
      ]
     },
     "metadata": {},
     "output_type": "display_data"
    }
   ],
   "source": [
    "mA_a_nom = unumpy.nominal_values(df_a.mA.values)\n",
    "R_korig_a_nom = unumpy.nominal_values(R_korig_a)\n",
    "R_a_nom = unumpy.nominal_values(R_a)\n",
    "\n",
    "parafit = fit(parabola, mA_a_nom[:9], R_korig_a_nom[:9], sigma=unumpy.std_devs(R_korig_a)[:9], absolute_sigma=True)\n",
    "primfit = fit(primka, mA_a_nom[9:], R_korig_a_nom[9:])\n",
    "\n",
    "plt.plot(*curve(mA_a_nom[:9], parabola, parafit[0]), \"--\", c=\"gray\", label=\"fit parabolou\")\n",
    "plt.plot(*curve(mA_a_nom[9:], primka, primfit[0]), \"-.\", c=\"gray\", label=\"fit primkou\")\n",
    "# plt.plot(mA_a_nom, R_korig_a_nom, \"+\", label=\"korig\")\n",
    "plt.plot(mA_a_nom, R_korig_a_nom, \"kx\", label=\"hodnoty\")\n",
    "plt.xlabel(\"$I_a [$mA$]$\")\n",
    "plt.ylabel(\"$R_{a_{kor}} [\\\\Omega]$\")\n",
    "plt.legend()\n",
    "plt.tight_layout()\n",
    "plt.savefig(\"../plot/u1_a_kor2.pdf\")"
   ]
  },
  {
   "cell_type": "markdown",
   "metadata": {},
   "source": [
    "#### B"
   ]
  },
  {
   "cell_type": "code",
   "execution_count": 175,
   "metadata": {},
   "outputs": [
    {
     "data": {
      "text/html": [
       "<div>\n",
       "<style>\n",
       "    .dataframe thead tr:only-child th {\n",
       "        text-align: right;\n",
       "    }\n",
       "\n",
       "    .dataframe thead th {\n",
       "        text-align: left;\n",
       "    }\n",
       "\n",
       "    .dataframe tbody tr th {\n",
       "        vertical-align: top;\n",
       "    }\n",
       "</style>\n",
       "<table border=\"1\" class=\"dataframe\">\n",
       "  <thead>\n",
       "    <tr style=\"text-align: right;\">\n",
       "      <th></th>\n",
       "      <th>V</th>\n",
       "      <th>rozV</th>\n",
       "      <th>mA</th>\n",
       "      <th>rozmA</th>\n",
       "    </tr>\n",
       "  </thead>\n",
       "  <tbody>\n",
       "    <tr>\n",
       "      <th>0</th>\n",
       "      <td>0.1500+/-0.0030</td>\n",
       "      <td>1.5</td>\n",
       "      <td>2.410+/-0.006</td>\n",
       "      <td>3.0</td>\n",
       "    </tr>\n",
       "    <tr>\n",
       "      <th>1</th>\n",
       "      <td>0.2800+/-0.0030</td>\n",
       "      <td>1.5</td>\n",
       "      <td>6.100+/-0.015</td>\n",
       "      <td>7.5</td>\n",
       "    </tr>\n",
       "    <tr>\n",
       "      <th>2</th>\n",
       "      <td>0.3900+/-0.0030</td>\n",
       "      <td>1.5</td>\n",
       "      <td>7.900+/-0.030</td>\n",
       "      <td>15.0</td>\n",
       "    </tr>\n",
       "    <tr>\n",
       "      <th>3</th>\n",
       "      <td>0.5000+/-0.0030</td>\n",
       "      <td>1.5</td>\n",
       "      <td>9.400+/-0.030</td>\n",
       "      <td>15.0</td>\n",
       "    </tr>\n",
       "    <tr>\n",
       "      <th>4</th>\n",
       "      <td>0.7000+/-0.0030</td>\n",
       "      <td>1.5</td>\n",
       "      <td>11.200+/-0.030</td>\n",
       "      <td>15.0</td>\n",
       "    </tr>\n",
       "    <tr>\n",
       "      <th>5</th>\n",
       "      <td>0.9000+/-0.0030</td>\n",
       "      <td>1.5</td>\n",
       "      <td>12.400+/-0.030</td>\n",
       "      <td>15.0</td>\n",
       "    </tr>\n",
       "    <tr>\n",
       "      <th>6</th>\n",
       "      <td>1.1000+/-0.0030</td>\n",
       "      <td>1.5</td>\n",
       "      <td>13.400+/-0.030</td>\n",
       "      <td>15.0</td>\n",
       "    </tr>\n",
       "    <tr>\n",
       "      <th>7</th>\n",
       "      <td>2.000+/-0.006</td>\n",
       "      <td>3.0</td>\n",
       "      <td>15.20+/-0.06</td>\n",
       "      <td>30.0</td>\n",
       "    </tr>\n",
       "    <tr>\n",
       "      <th>8</th>\n",
       "      <td>3.000+/-0.006</td>\n",
       "      <td>3.0</td>\n",
       "      <td>18.40+/-0.06</td>\n",
       "      <td>30.0</td>\n",
       "    </tr>\n",
       "    <tr>\n",
       "      <th>9</th>\n",
       "      <td>4.000+/-0.015</td>\n",
       "      <td>7.5</td>\n",
       "      <td>19.80+/-0.06</td>\n",
       "      <td>30.0</td>\n",
       "    </tr>\n",
       "    <tr>\n",
       "      <th>10</th>\n",
       "      <td>5.000+/-0.015</td>\n",
       "      <td>7.5</td>\n",
       "      <td>22.40+/-0.06</td>\n",
       "      <td>30.0</td>\n",
       "    </tr>\n",
       "    <tr>\n",
       "      <th>11</th>\n",
       "      <td>6.000+/-0.015</td>\n",
       "      <td>7.5</td>\n",
       "      <td>25.00+/-0.06</td>\n",
       "      <td>30.0</td>\n",
       "    </tr>\n",
       "    <tr>\n",
       "      <th>12</th>\n",
       "      <td>7.200+/-0.015</td>\n",
       "      <td>7.5</td>\n",
       "      <td>27.60+/-0.06</td>\n",
       "      <td>30.0</td>\n",
       "    </tr>\n",
       "    <tr>\n",
       "      <th>13</th>\n",
       "      <td>8.600+/-0.030</td>\n",
       "      <td>15.0</td>\n",
       "      <td>29.80+/-0.06</td>\n",
       "      <td>30.0</td>\n",
       "    </tr>\n",
       "    <tr>\n",
       "      <th>14</th>\n",
       "      <td>13.000+/-0.030</td>\n",
       "      <td>15.0</td>\n",
       "      <td>37.50+/-0.15</td>\n",
       "      <td>75.0</td>\n",
       "    </tr>\n",
       "    <tr>\n",
       "      <th>15</th>\n",
       "      <td>14.800+/-0.030</td>\n",
       "      <td>15.0</td>\n",
       "      <td>40.50+/-0.15</td>\n",
       "      <td>75.0</td>\n",
       "    </tr>\n",
       "    <tr>\n",
       "      <th>16</th>\n",
       "      <td>19.00+/-0.06</td>\n",
       "      <td>30.0</td>\n",
       "      <td>45.50+/-0.15</td>\n",
       "      <td>75.0</td>\n",
       "    </tr>\n",
       "    <tr>\n",
       "      <th>17</th>\n",
       "      <td>21.80+/-0.06</td>\n",
       "      <td>30.0</td>\n",
       "      <td>49.00+/-0.15</td>\n",
       "      <td>75.0</td>\n",
       "    </tr>\n",
       "  </tbody>\n",
       "</table>\n",
       "</div>"
      ],
      "text/plain": [
       "                  V  rozV              mA  rozmA\n",
       "0   0.1500+/-0.0030   1.5   2.410+/-0.006    3.0\n",
       "1   0.2800+/-0.0030   1.5   6.100+/-0.015    7.5\n",
       "2   0.3900+/-0.0030   1.5   7.900+/-0.030   15.0\n",
       "3   0.5000+/-0.0030   1.5   9.400+/-0.030   15.0\n",
       "4   0.7000+/-0.0030   1.5  11.200+/-0.030   15.0\n",
       "5   0.9000+/-0.0030   1.5  12.400+/-0.030   15.0\n",
       "6   1.1000+/-0.0030   1.5  13.400+/-0.030   15.0\n",
       "7     2.000+/-0.006   3.0    15.20+/-0.06   30.0\n",
       "8     3.000+/-0.006   3.0    18.40+/-0.06   30.0\n",
       "9     4.000+/-0.015   7.5    19.80+/-0.06   30.0\n",
       "10    5.000+/-0.015   7.5    22.40+/-0.06   30.0\n",
       "11    6.000+/-0.015   7.5    25.00+/-0.06   30.0\n",
       "12    7.200+/-0.015   7.5    27.60+/-0.06   30.0\n",
       "13    8.600+/-0.030  15.0    29.80+/-0.06   30.0\n",
       "14   13.000+/-0.030  15.0    37.50+/-0.15   75.0\n",
       "15   14.800+/-0.030  15.0    40.50+/-0.15   75.0\n",
       "16     19.00+/-0.06  30.0    45.50+/-0.15   75.0\n",
       "17     21.80+/-0.06  30.0    49.00+/-0.15   75.0"
      ]
     },
     "execution_count": 175,
     "metadata": {},
     "output_type": "execute_result"
    }
   ],
   "source": [
    "df_b"
   ]
  },
  {
   "cell_type": "code",
   "execution_count": 174,
   "metadata": {
    "collapsed": true
   },
   "outputs": [],
   "source": [
    "df_b[\"V\"] = sp.array([ufloat(df_b.iloc[i].V, df_b.iloc[i].rozV * 0.002) for i in range(len(df_b))])"
   ]
  },
  {
   "cell_type": "code",
   "execution_count": 176,
   "metadata": {},
   "outputs": [
    {
     "name": "stdout",
     "output_type": "stream",
     "text": [
      "62.2+/-1.3\n",
      "45.9+/-0.5\n",
      "49.4+/-0.4\n",
      "53.2+/-0.4\n",
      "62.50+/-0.32\n",
      "72.58+/-0.30\n",
      "82.09+/-0.29\n",
      "131.6+/-0.7\n",
      "163.0+/-0.6\n",
      "202.0+/-1.0\n",
      "223.2+/-0.9\n",
      "240.0+/-0.8\n",
      "260.9+/-0.8\n",
      "288.6+/-1.2\n",
      "346.7+/-1.6\n",
      "365.4+/-1.5\n",
      "417.6+/-1.9\n",
      "444.9+/-1.8\n"
     ]
    }
   ],
   "source": [
    "R_b = [df_b.iloc[i].V / (df_b.iloc[i].mA * 0.001) for i in range(len(df_b))]\n",
    "for r in R_b:\n",
    "    print(r)"
   ]
  },
  {
   "cell_type": "code",
   "execution_count": 182,
   "metadata": {},
   "outputs": [
    {
     "name": "stdout",
     "output_type": "stream",
     "text": [
      "67.7+/-1.5\n",
      "48.8+/-0.6\n",
      "52.7+/-0.5\n",
      "57.1+/-0.4\n",
      "68.0+/-0.4\n",
      "80.1+/-0.4\n",
      "91.9+/-0.4\n",
      "144.2+/-0.8\n",
      "182.9+/-0.9\n",
      "213.5+/-1.1\n",
      "237.3+/-1.0\n",
      "256.4+/-1.0\n",
      "280.4+/-0.9\n",
      "300.2+/-1.3\n",
      "363.5+/-1.8\n",
      "384.2+/-1.7\n",
      "429.6+/-2.0\n",
      "458.5+/-1.9\n"
     ]
    }
   ],
   "source": [
    "R_korig_b = [odpor_voltmetru[df_b.iloc[i].rozV] * df_b.iloc[i].V / ( odpor_voltmetru[df_b.iloc[i].rozV] * df_b.iloc[i].mA * 0.001 - df_b.iloc[i].V) for i in range(len(df_b))]\n",
    "for r in R_korig_b:\n",
    "    print(r)"
   ]
  },
  {
   "cell_type": "code",
   "execution_count": 185,
   "metadata": {},
   "outputs": [
    {
     "data": {
      "text/plain": [
       "[2.604805194805195+/-0.007434783082172875,\n",
       " 6.463636363636363+/-0.015951589666279502,\n",
       " 8.406493506493508+/-0.030706206428000798,\n",
       " 10.04935064935065+/-0.03099507850018904,\n",
       " 12.10909090909091+/-0.0316921054250105,\n",
       " 13.568831168831169+/-0.03259829882554372,\n",
       " 14.82857142857143+/-0.03369678784960485,\n",
       " 16.533333333333335+/-0.06652132304572035,\n",
       " 20.400000000000002+/-0.07373224833439196,\n",
       " 20.866666666666667+/-0.061792164591785194,\n",
       " 23.73333333333333+/-0.06270605539113466,\n",
       " 26.6+/-0.06380525927469546,\n",
       " 29.520000000000003+/-0.06535564244960032,\n",
       " 30.949732620320855+/-0.06137827127171142,\n",
       " 39.2379679144385+/-0.151200513920534,\n",
       " 42.47860962566845+/-0.1515384406745143,\n",
       " 46.769205076820306+/-0.1505222670016948,\n",
       " 50.4562458249833+/-0.15067029464407689]"
      ]
     },
     "execution_count": 185,
     "metadata": {},
     "output_type": "execute_result"
    }
   ],
   "source": [
    "I_b_korig = [df_b.iloc[i].mA * 0.001 + df_b.iloc[i].V / odpor_voltmetru[df_b.iloc[i].rozV] for i in range(len(df_b))]\n",
    "I_b_korig = [a * 1000 for a in I_b_korig]\n",
    "I_b_korig"
   ]
  },
  {
   "cell_type": "code",
   "execution_count": 197,
   "metadata": {
    "scrolled": true
   },
   "outputs": [
    {
     "name": "stdout",
     "output_type": "stream",
     "text": [
      "67.7+/-1.5\n",
      "48.8+/-0.6\n",
      "52.7+/-0.5\n",
      "57.1+/-0.4\n",
      "68.0+/-0.4\n",
      "80.1+/-0.4\n",
      "91.9+/-0.4\n",
      "144.2+/-0.8\n",
      "182.9+/-0.9\n",
      "213.5+/-1.1\n",
      "237.3+/-1.0\n",
      "256.4+/-1.0\n",
      "280.4+/-0.9\n",
      "300.2+/-1.3\n",
      "363.5+/-1.8\n",
      "384.2+/-1.7\n",
      "429.6+/-2.0\n",
      "458.5+/-1.9\n"
     ]
    }
   ],
   "source": [
    "for i in R_korig_b:\n",
    "    print(i)"
   ]
  },
  {
   "cell_type": "code",
   "execution_count": 190,
   "metadata": {},
   "outputs": [
    {
     "data": {
      "image/png": "[encoded data removed]",
      "text/plain": [
       "<matplotlib.figure.Figure at 0x1900d9eec18>"
      ]
     },
     "metadata": {},
     "output_type": "display_data"
    }
   ],
   "source": [
    "mA_b_nom = unumpy.nominal_values(df_b.mA.values)\n",
    "R_korig_b_nom = unumpy.nominal_values(R_korig_b)\n",
    "R_b_nom = unumpy.nominal_values(R_b)\n",
    "\n",
    "parafit = fit(parabola, mA_b_nom[:9], R_b_nom[:9], sigma=unumpy.std_devs(R_b)[:9], absolute_sigma=True)\n",
    "primfit = fit(primka, mA_b_nom[9:], R_b_nom[9:])\n",
    "\n",
    "plt.plot(*curve(mA_b_nom[:9], parabola, parafit[0]), \"--\", c=\"gray\", label=\"fit parabolou\")\n",
    "plt.plot(*curve(mA_b_nom[9:], primka, primfit[0]), \"-.\", c=\"gray\", label=\"fit přímkou\")\n",
    "# plt.plot(mA_a_nom, R_korig_a_nom, \"+\", label=\"korig\")\n",
    "plt.plot(mA_b_nom, R_b_nom, \"kx\", label=\"hodnoty\")\n",
    "plt.xlabel(\"$I_b [$mA$]$\")\n",
    "plt.ylabel(\"$R_b [\\\\Omega]$\")\n",
    "plt.legend()\n",
    "plt.tight_layout()\n",
    "#plt.savefig(\"../plot/u1_b.pdf\")"
   ]
  },
  {
   "cell_type": "code",
   "execution_count": 192,
   "metadata": {},
   "outputs": [
    {
     "data": {
      "image/png": "[encoded data removed]",
      "text/plain": [
       "<matplotlib.figure.Figure at 0x1900e6b9588>"
      ]
     },
     "metadata": {},
     "output_type": "display_data"
    }
   ],
   "source": [
    "mA_b_nom = unumpy.nominal_values(df_b.mA.values)\n",
    "R_korig_b_nom = unumpy.nominal_values(R_korig_b)\n",
    "R_b_nom = unumpy.nominal_values(R_b)\n",
    "I_b_korig_nom = unumpy.nominal_values(I_b_korig)\n",
    "\n",
    "parafit = fit(parabola, I_b_korig_nom[:9], R_korig_b_nom[:9], sigma=unumpy.std_devs(R_korig_b)[:9], absolute_sigma=True)\n",
    "primfit = fit(primka, I_b_korig_nom[9:], R_korig_b_nom[9:])\n",
    "\n",
    "plt.plot(*curve(I_b_korig_nom[:9], parabola, parafit[0]), \"--\", c=\"gray\", label=\"fit parabolou\")\n",
    "plt.plot(*curve(I_b_korig_nom[9:], primka, primfit[0]), \"-.\", c=\"gray\", label=\"fit přímkou\")\n",
    "# plt.plot(mA_a_nom, R_korig_a_nom, \"+\", label=\"korig\")\n",
    "plt.plot(I_b_korig_nom, R_korig_b_nom, \"kx\", label=\"hodnoty\")\n",
    "plt.xlabel(\"$I_{b_{kor}} [$mA$]$\")\n",
    "plt.ylabel(\"$R_{b_{kor}} [\\\\Omega]$\")\n",
    "plt.legend()\n",
    "plt.tight_layout()\n",
    "#plt.savefig(\"../plot/u1_b_kor.pdf\")"
   ]
  },
  {
   "cell_type": "markdown",
   "metadata": {},
   "source": [
    "### Úkol 2"
   ]
  },
  {
   "cell_type": "code",
   "execution_count": 53,
   "metadata": {
    "collapsed": true
   },
   "outputs": [],
   "source": [
    "odpory_voltmetru = sp.array([770, 1500, 3750, 7480, 14970])\n",
    "odpory_ampermetru = sp.array([110.2, 82.9, 39.8, 21.1, 10.9, 4.5])"
   ]
  },
  {
   "cell_type": "code",
   "execution_count": 54,
   "metadata": {},
   "outputs": [
    {
     "data": {
      "text/plain": [
       "array([ 1.2816,  1.0632,  0.7184,  0.5688,  0.4872,  0.436 ])"
      ]
     },
     "execution_count": 54,
     "metadata": {},
     "output_type": "execute_result"
    }
   ],
   "source": [
    "odpory_ampermetru * 0.008 + 0.4"
   ]
  },
  {
   "cell_type": "code",
   "execution_count": 56,
   "metadata": {},
   "outputs": [
    {
     "data": {
      "text/plain": [
       "array([  26.16,   32.  ,   50.  ,   79.84,  139.76])"
      ]
     },
     "execution_count": 56,
     "metadata": {},
     "output_type": "execute_result"
    }
   ],
   "source": [
    "odpory_voltmetru * 0.008 + 20"
   ]
  },
  {
   "cell_type": "markdown",
   "metadata": {
    "collapsed": true
   },
   "source": [
    "## Úkol 3"
   ]
  },
  {
   "cell_type": "code",
   "execution_count": 24,
   "metadata": {},
   "outputs": [],
   "source": [
    "df_u3 = pd.read_excel(\"../raw/substitucni_metoda.xlsx\")"
   ]
  },
  {
   "cell_type": "code",
   "execution_count": 25,
   "metadata": {},
   "outputs": [
    {
     "name": "stderr",
     "output_type": "stream",
     "text": [
      "C:\\tools\\Anaconda3\\lib\\site-packages\\ipykernel_launcher.py:2: SettingWithCopyWarning: \n",
      "A value is trying to be set on a copy of a slice from a DataFrame\n",
      "\n",
      "See the caveats in the documentation: http://pandas.pydata.org/pandas-docs/stable/indexing.html#indexing-view-versus-copy\n",
      "  \n",
      "C:\\tools\\Anaconda3\\lib\\site-packages\\ipykernel_launcher.py:3: SettingWithCopyWarning: \n",
      "A value is trying to be set on a copy of a slice from a DataFrame\n",
      "\n",
      "See the caveats in the documentation: http://pandas.pydata.org/pandas-docs/stable/indexing.html#indexing-view-versus-copy\n",
      "  This is separate from the ipykernel package so we can avoid doing imports until\n",
      "C:\\tools\\Anaconda3\\lib\\site-packages\\ipykernel_launcher.py:4: SettingWithCopyWarning: \n",
      "A value is trying to be set on a copy of a slice from a DataFrame\n",
      "\n",
      "See the caveats in the documentation: http://pandas.pydata.org/pandas-docs/stable/indexing.html#indexing-view-versus-copy\n",
      "  after removing the cwd from sys.path.\n",
      "C:\\tools\\Anaconda3\\lib\\site-packages\\ipykernel_launcher.py:5: SettingWithCopyWarning: \n",
      "A value is trying to be set on a copy of a slice from a DataFrame\n",
      "\n",
      "See the caveats in the documentation: http://pandas.pydata.org/pandas-docs/stable/indexing.html#indexing-view-versus-copy\n",
      "  \"\"\"\n",
      "C:\\tools\\Anaconda3\\lib\\site-packages\\ipykernel_launcher.py:6: SettingWithCopyWarning: \n",
      "A value is trying to be set on a copy of a slice from a DataFrame\n",
      "\n",
      "See the caveats in the documentation: http://pandas.pydata.org/pandas-docs/stable/indexing.html#indexing-view-versus-copy\n",
      "  \n"
     ]
    }
   ],
   "source": [
    "df_u3.I[0:1] = df_u3.I[0:1].apply(lambda h: ufloat(h, 0.002*1.5))\n",
    "df_u3.I[1:3] = df_u3.I[1:3].apply(lambda h: ufloat(h, 0.002*3))\n",
    "df_u3.I[3:6] = df_u3.I[3:6].apply(lambda h: ufloat(h, 0.002*7.5))\n",
    "df_u3.I[6:10] = df_u3.I[6:10].apply(lambda h: ufloat(h, 0.002*15))\n",
    "df_u3.I[10:13] = df_u3.I[10:13].apply(lambda h: ufloat(h, 0.002*30))\n",
    "df_u3.I[13:] = df_u3.I[13:].apply(lambda h: ufloat(h, 0.002*75))"
   ]
  },
  {
   "cell_type": "code",
   "execution_count": 27,
   "metadata": {
    "collapsed": true
   },
   "outputs": [],
   "source": [
    "df_u3.R = df_u3.R.apply(lambda h: ufloat(h, 0.001*h))"
   ]
  },
  {
   "cell_type": "code",
   "execution_count": 28,
   "metadata": {
    "scrolled": false
   },
   "outputs": [
    {
     "data": {
      "text/html": [
       "<div>\n",
       "<style>\n",
       "    .dataframe thead tr:only-child th {\n",
       "        text-align: right;\n",
       "    }\n",
       "\n",
       "    .dataframe thead th {\n",
       "        text-align: left;\n",
       "    }\n",
       "\n",
       "    .dataframe tbody tr th {\n",
       "        vertical-align: top;\n",
       "    }\n",
       "</style>\n",
       "<table border=\"1\" class=\"dataframe\">\n",
       "  <thead>\n",
       "    <tr style=\"text-align: right;\">\n",
       "      <th></th>\n",
       "      <th>I</th>\n",
       "      <th>R</th>\n",
       "    </tr>\n",
       "  </thead>\n",
       "  <tbody>\n",
       "    <tr>\n",
       "      <th>0</th>\n",
       "      <td>0.9800+/-0.0030</td>\n",
       "      <td>42.40+/-0.04</td>\n",
       "    </tr>\n",
       "    <tr>\n",
       "      <th>1</th>\n",
       "      <td>1.980+/-0.006</td>\n",
       "      <td>42.40+/-0.04</td>\n",
       "    </tr>\n",
       "    <tr>\n",
       "      <th>2</th>\n",
       "      <td>2.800+/-0.006</td>\n",
       "      <td>43.40+/-0.04</td>\n",
       "    </tr>\n",
       "    <tr>\n",
       "      <th>3</th>\n",
       "      <td>4.100+/-0.015</td>\n",
       "      <td>45.00+/-0.04</td>\n",
       "    </tr>\n",
       "    <tr>\n",
       "      <th>4</th>\n",
       "      <td>4.950+/-0.015</td>\n",
       "      <td>46.20+/-0.05</td>\n",
       "    </tr>\n",
       "    <tr>\n",
       "      <th>5</th>\n",
       "      <td>6.900+/-0.015</td>\n",
       "      <td>50.10+/-0.05</td>\n",
       "    </tr>\n",
       "    <tr>\n",
       "      <th>6</th>\n",
       "      <td>9.100+/-0.030</td>\n",
       "      <td>59.00+/-0.06</td>\n",
       "    </tr>\n",
       "    <tr>\n",
       "      <th>7</th>\n",
       "      <td>10.900+/-0.030</td>\n",
       "      <td>76.00+/-0.08</td>\n",
       "    </tr>\n",
       "    <tr>\n",
       "      <th>8</th>\n",
       "      <td>13.100+/-0.030</td>\n",
       "      <td>121.00+/-0.12</td>\n",
       "    </tr>\n",
       "    <tr>\n",
       "      <th>9</th>\n",
       "      <td>15.000+/-0.030</td>\n",
       "      <td>158.00+/-0.16</td>\n",
       "    </tr>\n",
       "    <tr>\n",
       "      <th>10</th>\n",
       "      <td>20.00+/-0.06</td>\n",
       "      <td>230.00+/-0.23</td>\n",
       "    </tr>\n",
       "    <tr>\n",
       "      <th>11</th>\n",
       "      <td>25.00+/-0.06</td>\n",
       "      <td>275.00+/-0.28</td>\n",
       "    </tr>\n",
       "    <tr>\n",
       "      <th>12</th>\n",
       "      <td>30.00+/-0.06</td>\n",
       "      <td>317.00+/-0.32</td>\n",
       "    </tr>\n",
       "    <tr>\n",
       "      <th>13</th>\n",
       "      <td>35.00+/-0.15</td>\n",
       "      <td>361.0+/-0.4</td>\n",
       "    </tr>\n",
       "    <tr>\n",
       "      <th>14</th>\n",
       "      <td>40.00+/-0.15</td>\n",
       "      <td>403.0+/-0.4</td>\n",
       "    </tr>\n",
       "    <tr>\n",
       "      <th>15</th>\n",
       "      <td>45.00+/-0.15</td>\n",
       "      <td>437.0+/-0.4</td>\n",
       "    </tr>\n",
       "    <tr>\n",
       "      <th>16</th>\n",
       "      <td>50.00+/-0.15</td>\n",
       "      <td>473.0+/-0.5</td>\n",
       "    </tr>\n",
       "  </tbody>\n",
       "</table>\n",
       "</div>"
      ],
      "text/plain": [
       "                  I              R\n",
       "0   0.9800+/-0.0030   42.40+/-0.04\n",
       "1     1.980+/-0.006   42.40+/-0.04\n",
       "2     2.800+/-0.006   43.40+/-0.04\n",
       "3     4.100+/-0.015   45.00+/-0.04\n",
       "4     4.950+/-0.015   46.20+/-0.05\n",
       "5     6.900+/-0.015   50.10+/-0.05\n",
       "6     9.100+/-0.030   59.00+/-0.06\n",
       "7    10.900+/-0.030   76.00+/-0.08\n",
       "8    13.100+/-0.030  121.00+/-0.12\n",
       "9    15.000+/-0.030  158.00+/-0.16\n",
       "10     20.00+/-0.06  230.00+/-0.23\n",
       "11     25.00+/-0.06  275.00+/-0.28\n",
       "12     30.00+/-0.06  317.00+/-0.32\n",
       "13     35.00+/-0.15    361.0+/-0.4\n",
       "14     40.00+/-0.15    403.0+/-0.4\n",
       "15     45.00+/-0.15    437.0+/-0.4\n",
       "16     50.00+/-0.15    473.0+/-0.5"
      ]
     },
     "execution_count": 28,
     "metadata": {},
     "output_type": "execute_result"
    }
   ],
   "source": [
    "df_u3"
   ]
  },
  {
   "cell_type": "code",
   "execution_count": 65,
   "metadata": {},
   "outputs": [
    {
     "data": {
      "image/png": "[encoded data removed]",
      "text/plain": [
       "<matplotlib.figure.Figure at 0x21f4f884898>"
      ]
     },
     "metadata": {},
     "output_type": "display_data"
    }
   ],
   "source": [
    "parafit = fit(parabola, noms(df_u3.I[:10]), noms(df_u3.R[:10]), sigma=stds(df_u3.R[:10]), absolute_sigma=True)\n",
    "primfit = fit(primka, noms(df_u3.I[10:]), noms(df_u3.R[10:]), sigma=stds(df_u3.R[10:]), absolute_sigma=True)\n",
    "\n",
    "fig = plt.figure()\n",
    "ax = plt.axes()\n",
    "\n",
    "ax.plot(*curve(noms(df_u3.I[:10]), parabola, parafit[0], overrun=0.15), \"--\", c=\"gray\", label=\"fit parabolou\")\n",
    "ax.plot(*curve(noms(df_u3.I[10:]), primka, primfit[0]), \"-.\", c=\"gray\", label=\"fit primkou\")\n",
    "\n",
    "ax.plot(noms(df_u3.I), noms(df_u3.R), \"kx\")\n",
    "\n",
    "ax.set_xlabel(\"$I[\\si{mA}]$\")\n",
    "ax.set_ylabel(\"$R[\\si{\\ohm}]$\")\n",
    "ax.margins(x=0)\n",
    "\n",
    "fig.tight_layout()\n",
    "fig.savefig(\"../plot/u3.pdf\")"
   ]
  },
  {
   "cell_type": "markdown",
   "metadata": {},
   "source": [
    "## Úkol 5"
   ]
  },
  {
   "cell_type": "code",
   "execution_count": 51,
   "metadata": {
    "collapsed": true
   },
   "outputs": [],
   "source": [
    "df_u3[\"U\"] = df_u3.I * df_u3.R *1e-3"
   ]
  },
  {
   "cell_type": "code",
   "execution_count": 53,
   "metadata": {},
   "outputs": [],
   "source": [
    "df_u3[\"P\"] = df_u3.U * df_u3.I * 1e-3"
   ]
  },
  {
   "cell_type": "code",
   "execution_count": 54,
   "metadata": {},
   "outputs": [
    {
     "data": {
      "text/html": [
       "<div>\n",
       "<style>\n",
       "    .dataframe thead tr:only-child th {\n",
       "        text-align: right;\n",
       "    }\n",
       "\n",
       "    .dataframe thead th {\n",
       "        text-align: left;\n",
       "    }\n",
       "\n",
       "    .dataframe tbody tr th {\n",
       "        vertical-align: top;\n",
       "    }\n",
       "</style>\n",
       "<table border=\"1\" class=\"dataframe\">\n",
       "  <thead>\n",
       "    <tr style=\"text-align: right;\">\n",
       "      <th></th>\n",
       "      <th>I</th>\n",
       "      <th>R</th>\n",
       "      <th>U</th>\n",
       "      <th>P</th>\n",
       "    </tr>\n",
       "  </thead>\n",
       "  <tbody>\n",
       "    <tr>\n",
       "      <th>0</th>\n",
       "      <td>0.9800+/-0.0030</td>\n",
       "      <td>42.40+/-0.04</td>\n",
       "      <td>0.04155+/-0.00013</td>\n",
       "      <td>(4.072+/-0.025)e-05</td>\n",
       "    </tr>\n",
       "    <tr>\n",
       "      <th>1</th>\n",
       "      <td>1.980+/-0.006</td>\n",
       "      <td>42.40+/-0.04</td>\n",
       "      <td>0.08395+/-0.00027</td>\n",
       "      <td>0.0001662+/-0.0000010</td>\n",
       "    </tr>\n",
       "    <tr>\n",
       "      <th>2</th>\n",
       "      <td>2.800+/-0.006</td>\n",
       "      <td>43.40+/-0.04</td>\n",
       "      <td>0.12152+/-0.00029</td>\n",
       "      <td>0.0003403+/-0.0000015</td>\n",
       "    </tr>\n",
       "    <tr>\n",
       "      <th>3</th>\n",
       "      <td>4.100+/-0.015</td>\n",
       "      <td>45.00+/-0.04</td>\n",
       "      <td>0.1845+/-0.0007</td>\n",
       "      <td>0.000756+/-0.000006</td>\n",
       "    </tr>\n",
       "    <tr>\n",
       "      <th>4</th>\n",
       "      <td>4.950+/-0.015</td>\n",
       "      <td>46.20+/-0.05</td>\n",
       "      <td>0.2287+/-0.0007</td>\n",
       "      <td>0.001132+/-0.000007</td>\n",
       "    </tr>\n",
       "    <tr>\n",
       "      <th>5</th>\n",
       "      <td>6.900+/-0.015</td>\n",
       "      <td>50.10+/-0.05</td>\n",
       "      <td>0.3457+/-0.0008</td>\n",
       "      <td>0.002385+/-0.000011</td>\n",
       "    </tr>\n",
       "    <tr>\n",
       "      <th>6</th>\n",
       "      <td>9.100+/-0.030</td>\n",
       "      <td>59.00+/-0.06</td>\n",
       "      <td>0.5369+/-0.0018</td>\n",
       "      <td>0.004886+/-0.000033</td>\n",
       "    </tr>\n",
       "    <tr>\n",
       "      <th>7</th>\n",
       "      <td>10.900+/-0.030</td>\n",
       "      <td>76.00+/-0.08</td>\n",
       "      <td>0.8284+/-0.0024</td>\n",
       "      <td>0.00903+/-0.00005</td>\n",
       "    </tr>\n",
       "    <tr>\n",
       "      <th>8</th>\n",
       "      <td>13.100+/-0.030</td>\n",
       "      <td>121.00+/-0.12</td>\n",
       "      <td>1.585+/-0.004</td>\n",
       "      <td>0.02076+/-0.00010</td>\n",
       "    </tr>\n",
       "    <tr>\n",
       "      <th>9</th>\n",
       "      <td>15.000+/-0.030</td>\n",
       "      <td>158.00+/-0.16</td>\n",
       "      <td>2.370+/-0.005</td>\n",
       "      <td>0.03555+/-0.00015</td>\n",
       "    </tr>\n",
       "    <tr>\n",
       "      <th>10</th>\n",
       "      <td>20.00+/-0.06</td>\n",
       "      <td>230.00+/-0.23</td>\n",
       "      <td>4.600+/-0.015</td>\n",
       "      <td>0.0920+/-0.0006</td>\n",
       "    </tr>\n",
       "    <tr>\n",
       "      <th>11</th>\n",
       "      <td>25.00+/-0.06</td>\n",
       "      <td>275.00+/-0.28</td>\n",
       "      <td>6.875+/-0.018</td>\n",
       "      <td>0.1719+/-0.0008</td>\n",
       "    </tr>\n",
       "    <tr>\n",
       "      <th>12</th>\n",
       "      <td>30.00+/-0.06</td>\n",
       "      <td>317.00+/-0.32</td>\n",
       "      <td>9.510+/-0.021</td>\n",
       "      <td>0.2853+/-0.0012</td>\n",
       "    </tr>\n",
       "    <tr>\n",
       "      <th>13</th>\n",
       "      <td>35.00+/-0.15</td>\n",
       "      <td>361.0+/-0.4</td>\n",
       "      <td>12.63+/-0.06</td>\n",
       "      <td>0.442+/-0.004</td>\n",
       "    </tr>\n",
       "    <tr>\n",
       "      <th>14</th>\n",
       "      <td>40.00+/-0.15</td>\n",
       "      <td>403.0+/-0.4</td>\n",
       "      <td>16.12+/-0.06</td>\n",
       "      <td>0.645+/-0.005</td>\n",
       "    </tr>\n",
       "    <tr>\n",
       "      <th>15</th>\n",
       "      <td>45.00+/-0.15</td>\n",
       "      <td>437.0+/-0.4</td>\n",
       "      <td>19.66+/-0.07</td>\n",
       "      <td>0.885+/-0.006</td>\n",
       "    </tr>\n",
       "    <tr>\n",
       "      <th>16</th>\n",
       "      <td>50.00+/-0.15</td>\n",
       "      <td>473.0+/-0.5</td>\n",
       "      <td>23.65+/-0.07</td>\n",
       "      <td>1.183+/-0.007</td>\n",
       "    </tr>\n",
       "  </tbody>\n",
       "</table>\n",
       "</div>"
      ],
      "text/plain": [
       "                  I              R                  U                      P\n",
       "0   0.9800+/-0.0030   42.40+/-0.04  0.04155+/-0.00013    (4.072+/-0.025)e-05\n",
       "1     1.980+/-0.006   42.40+/-0.04  0.08395+/-0.00027  0.0001662+/-0.0000010\n",
       "2     2.800+/-0.006   43.40+/-0.04  0.12152+/-0.00029  0.0003403+/-0.0000015\n",
       "3     4.100+/-0.015   45.00+/-0.04    0.1845+/-0.0007    0.000756+/-0.000006\n",
       "4     4.950+/-0.015   46.20+/-0.05    0.2287+/-0.0007    0.001132+/-0.000007\n",
       "5     6.900+/-0.015   50.10+/-0.05    0.3457+/-0.0008    0.002385+/-0.000011\n",
       "6     9.100+/-0.030   59.00+/-0.06    0.5369+/-0.0018    0.004886+/-0.000033\n",
       "7    10.900+/-0.030   76.00+/-0.08    0.8284+/-0.0024      0.00903+/-0.00005\n",
       "8    13.100+/-0.030  121.00+/-0.12      1.585+/-0.004      0.02076+/-0.00010\n",
       "9    15.000+/-0.030  158.00+/-0.16      2.370+/-0.005      0.03555+/-0.00015\n",
       "10     20.00+/-0.06  230.00+/-0.23      4.600+/-0.015        0.0920+/-0.0006\n",
       "11     25.00+/-0.06  275.00+/-0.28      6.875+/-0.018        0.1719+/-0.0008\n",
       "12     30.00+/-0.06  317.00+/-0.32      9.510+/-0.021        0.2853+/-0.0012\n",
       "13     35.00+/-0.15    361.0+/-0.4       12.63+/-0.06          0.442+/-0.004\n",
       "14     40.00+/-0.15    403.0+/-0.4       16.12+/-0.06          0.645+/-0.005\n",
       "15     45.00+/-0.15    437.0+/-0.4       19.66+/-0.07          0.885+/-0.006\n",
       "16     50.00+/-0.15    473.0+/-0.5       23.65+/-0.07          1.183+/-0.007"
      ]
     },
     "execution_count": 54,
     "metadata": {},
     "output_type": "execute_result"
    }
   ],
   "source": [
    "df_u3"
   ]
  },
  {
   "cell_type": "code",
   "execution_count": 78,
   "metadata": {},
   "outputs": [
    {
     "data": {
      "image/png": "[encoded data removed]",
      "text/plain": [
       "<matplotlib.figure.Figure at 0x21f4fc5f128>"
      ]
     },
     "metadata": {},
     "output_type": "display_data"
    }
   ],
   "source": [
    "aP = list(df_u3.P[0:1].values) + list(df_u3.P[2:7].values)\n",
    "aR = list(df_u3.R[0:1].values) + list(df_u3.R[2:7].values)\n",
    "\n",
    "params, errs = fit(primka, noms(aP), noms(aR), sigma=stds(aR))\n",
    "\n",
    "fig = plt.figure()\n",
    "ax = plt.axes()\n",
    "\n",
    "ax.plot(*curve(noms(aP), primka, params), \"--\", c=\"gray\")\n",
    "ax.plot(noms(aP), noms(aR), \"kx\")\n",
    "\n",
    "ax.set_xlabel(\"$P[\\si{\\watt}]$\")\n",
    "ax.set_ylabel(\"$R[\\si{\\ohm}]$\")\n",
    "\n",
    "fig.tight_layout()\n",
    "fig.savefig(\"../plot/u5.pdf\")"
   ]
  },
  {
   "cell_type": "code",
   "execution_count": 73,
   "metadata": {
    "collapsed": true
   },
   "outputs": [],
   "source": [
    "R_0 = ufloat(params[1], errs[1])"
   ]
  },
  {
   "cell_type": "code",
   "execution_count": 74,
   "metadata": {},
   "outputs": [
    {
     "name": "stdout",
     "output_type": "stream",
     "text": [
      "42.35+/-0.09\n"
     ]
    }
   ],
   "source": [
    "print(R_0)"
   ]
  },
  {
   "cell_type": "code",
   "execution_count": 79,
   "metadata": {
    "collapsed": true
   },
   "outputs": [],
   "source": [
    "R_multi = ufloat(43.03, 43.03 * 0.005 + 0.1)"
   ]
  },
  {
   "cell_type": "code",
   "execution_count": 80,
   "metadata": {},
   "outputs": [
    {
     "data": {
      "text/plain": [
       "43.03+/-0.31515000000000004"
      ]
     },
     "execution_count": 80,
     "metadata": {},
     "output_type": "execute_result"
    }
   ],
   "source": [
    "R_multi"
   ]
  },
  {
   "cell_type": "code",
   "execution_count": null,
   "metadata": {
    "collapsed": true
   },
   "outputs": [],
   "source": []
  }
 ],
 "metadata": {
  "kernelspec": {
   "display_name": "Python 3",
   "language": "python",
   "name": "python3"
  },
  "language_info": {
   "codemirror_mode": {
    "name": "ipython",
    "version": 3
   },
   "file_extension": ".py",
   "mimetype": "text/x-python",
   "name": "python",
   "nbconvert_exporter": "python",
   "pygments_lexer": "ipython3",
   "version": "3.6.1"
  }
 },
 "nbformat": 4,
 "nbformat_minor": 2
}
