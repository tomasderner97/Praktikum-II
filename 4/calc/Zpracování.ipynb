{
 "cells": [
  {
   "cell_type": "markdown",
   "metadata": {
    "hideCode": false,
    "hidePrompt": false
   },
   "source": [
    "# Malé odpory"
   ]
  },
  {
   "cell_type": "markdown",
   "metadata": {
    "heading_collapsed": true
   },
   "source": [
    "## Setup"
   ]
  },
  {
   "cell_type": "code",
   "execution_count": 1,
   "metadata": {
    "hidden": true,
    "hideCode": false,
    "hidePrompt": false,
    "hide_input": false
   },
   "outputs": [],
   "source": [
    "from protokol import *\n",
    "from scipy import array as arr\n",
    "import uncertainties\n",
    "from uncertainties import ufloat as uf\n",
    "from uncertainties.unumpy import nominal_values as noms\n",
    "from uncertainties.unumpy import std_devs as stds\n",
    "import uncertainties.umath as um"
   ]
  },
  {
   "cell_type": "code",
   "execution_count": 2,
   "metadata": {
    "hidden": true,
    "hideCode": false,
    "hidePrompt": false,
    "hide_input": false
   },
   "outputs": [],
   "source": [
    "%matplotlib inline\n",
    "plt.rcParams[\"figure.figsize\"] = (4*1.5,2.5*1.5)\n",
    "plt.rcParams[\"figure.dpi\"] = 100\n",
    "plt.rcParams[\"text.usetex\"] = True\n",
    "plt.rcParams[\"font.family\"] = \"serif\"\n",
    "plt.rcParams[\"font.serif\"] = [\"Computer Modern\"]\n",
    "plt.rcParams[\"text.latex.preamble\"] = r\"\"\"\n",
    "\\usepackage[decimalsymbol=comma]{siunitx}\n",
    "\"\"\""
   ]
  },
  {
   "cell_type": "code",
   "execution_count": 3,
   "metadata": {
    "hidden": true,
    "hideCode": false,
    "hidePrompt": false,
    "hide_input": false
   },
   "outputs": [],
   "source": [
    "def relative(self, percent=True):\n",
    "    if percent:\n",
    "        return f\"{self.s / self.n * 100} %\"\n",
    "    else:\n",
    "        return self.s / self.n\n",
    "\n",
    "uncertainties.core.Variable.rel = relative"
   ]
  },
  {
   "cell_type": "code",
   "execution_count": 4,
   "metadata": {
    "code_folding": [],
    "hidden": true,
    "hideCode": false,
    "hidePrompt": false,
    "hide_input": false
   },
   "outputs": [],
   "source": [
    "def stat_eval(vals, err=0, scale=1):\n",
    "    a = arr(sp.array(vals)) * scale\n",
    "    sc_err = err * scale\n",
    "    mean = a.mean()\n",
    "    std = a.std(ddof=1)\n",
    "    mean_std = std / sp.sqrt(len(a))\n",
    "    \n",
    "    final_err = sp.sqrt(mean_std**2 + sc_err**2)\n",
    "    \n",
    "    return uf(mean, final_err)"
   ]
  },
  {
   "cell_type": "code",
   "execution_count": 5,
   "metadata": {
    "hidden": true,
    "hideCode": false,
    "hidePrompt": false,
    "hide_input": false
   },
   "outputs": [],
   "source": [
    "def apply_ip(df, f):\n",
    "    df = df.apply(f)"
   ]
  },
  {
   "cell_type": "markdown",
   "metadata": {
    "heading_collapsed": true,
    "hideCode": false,
    "hidePrompt": false
   },
   "source": [
    "## Data"
   ]
  },
  {
   "cell_type": "code",
   "execution_count": 6,
   "metadata": {
    "hidden": true,
    "hideCode": false,
    "hideOutput": false,
    "hidePrompt": false,
    "hide_input": true
   },
   "outputs": [
    {
     "data": {
      "text/html": [
       "<div>\n",
       "<style>\n",
       "    .dataframe thead tr:only-child th {\n",
       "        text-align: right;\n",
       "    }\n",
       "\n",
       "    .dataframe thead th {\n",
       "        text-align: left;\n",
       "    }\n",
       "\n",
       "    .dataframe tbody tr th {\n",
       "        vertical-align: top;\n",
       "    }\n",
       "</style>\n",
       "<table border=\"1\" class=\"dataframe\">\n",
       "  <thead>\n",
       "    <tr style=\"text-align: right;\">\n",
       "      <th></th>\n",
       "      <th>W</th>\n",
       "      <th>M</th>\n",
       "      <th>K</th>\n",
       "      <th>Z</th>\n",
       "      <th>MO</th>\n",
       "      <th>C</th>\n",
       "    </tr>\n",
       "  </thead>\n",
       "  <tbody>\n",
       "    <tr>\n",
       "      <th>l</th>\n",
       "      <td>0.898+/-0.020</td>\n",
       "      <td>0.898+/-0.020</td>\n",
       "      <td>0.898+/-0.020</td>\n",
       "      <td>0.898+/-0.020</td>\n",
       "      <td>0.901+/-0.020</td>\n",
       "      <td>0.897+/-0.020</td>\n",
       "    </tr>\n",
       "    <tr>\n",
       "      <th>d</th>\n",
       "      <td>0.000678+/-0.000010</td>\n",
       "      <td>0.001096+/-0.000011</td>\n",
       "      <td>0.000494+/-0.000011</td>\n",
       "      <td>0.000408+/-0.000011</td>\n",
       "      <td>0.000588+/-0.000010</td>\n",
       "      <td>0.000994+/-0.000011</td>\n",
       "    </tr>\n",
       "  </tbody>\n",
       "</table>\n",
       "</div>"
      ],
      "text/plain": [
       "                     W                    M                    K  \\\n",
       "l        0.898+/-0.020        0.898+/-0.020        0.898+/-0.020   \n",
       "d  0.000678+/-0.000010  0.001096+/-0.000011  0.000494+/-0.000011   \n",
       "\n",
       "                     Z                   MO                    C  \n",
       "l        0.898+/-0.020        0.901+/-0.020        0.897+/-0.020  \n",
       "d  0.000408+/-0.000011  0.000588+/-0.000010  0.000994+/-0.000011  "
      ]
     },
     "execution_count": 6,
     "metadata": {},
     "output_type": "execute_result"
    }
   ],
   "source": [
    "rozm = pd.DataFrame(index=[\"l\", \"d\"], columns=[\"W\", \"M\", \"K\", \"Z\", \"MO\", \"C\"])\n",
    "\n",
    "rozm.W = 0.898, stat_eval([0.68,  0.68,  0.68,  0.67,  0.68], 0.01, 1e-3)\n",
    "rozm.M = 0.898, stat_eval([1.09, 1.11, 1.09, 1.09, 1.10], 0.01, 1e-3)\n",
    "rozm.K = 0.898, stat_eval([0.49, 0.51, 0.49, 0.49, 0.49], 0.01, 1e-3)\n",
    "rozm.Z = 0.898, stat_eval([0.40, 0.40, 0.42, 0.42, 0.40], 0.01, 1e-3)\n",
    "rozm.MO = 0.901, stat_eval([0.59, 0.59, 0.59, 0.59, 0.58], 0.01, 1e-3)\n",
    "rozm.C = 0.897, stat_eval([1.01, 0.99, 0.98, 0.99, 1.00], 0.01, 1e-3)\n",
    "\n",
    "rozm.loc[\"l\"] = rozm.loc[\"l\"].apply(lambda h: uf(h, 0.02))\n",
    "\n",
    "rozm"
   ]
  },
  {
   "cell_type": "code",
   "execution_count": 7,
   "metadata": {
    "hidden": true,
    "hideCode": false,
    "hideOutput": false,
    "hidePrompt": false,
    "hide_input": true
   },
   "outputs": [
    {
     "data": {
      "text/html": [
       "<div>\n",
       "<style>\n",
       "    .dataframe thead tr:only-child th {\n",
       "        text-align: right;\n",
       "    }\n",
       "\n",
       "    .dataframe thead th {\n",
       "        text-align: left;\n",
       "    }\n",
       "\n",
       "    .dataframe tbody tr th {\n",
       "        vertical-align: top;\n",
       "    }\n",
       "</style>\n",
       "<table border=\"1\" class=\"dataframe\">\n",
       "  <thead>\n",
       "    <tr style=\"text-align: right;\">\n",
       "      <th></th>\n",
       "      <th>KEITHLEY</th>\n",
       "      <th>TO</th>\n",
       "      <th>WS</th>\n",
       "    </tr>\n",
       "  </thead>\n",
       "  <tbody>\n",
       "    <tr>\n",
       "      <th>W</th>\n",
       "      <td>0.13670+/-0.00010</td>\n",
       "      <td>0.1371+/-0.0014</td>\n",
       "      <td>0.1647+/-0.0016</td>\n",
       "    </tr>\n",
       "    <tr>\n",
       "      <th>M</th>\n",
       "      <td>0.01610+/-0.00010</td>\n",
       "      <td>0.01665+/-0.00017</td>\n",
       "      <td>0.0401+/-0.0004</td>\n",
       "    </tr>\n",
       "    <tr>\n",
       "      <th>K</th>\n",
       "      <td>6.23590+/-0.00010</td>\n",
       "      <td>6.24+/-0.06</td>\n",
       "      <td>6.23+/-0.06</td>\n",
       "    </tr>\n",
       "    <tr>\n",
       "      <th>Z</th>\n",
       "      <td>1.47470+/-0.00010</td>\n",
       "      <td>1.484+/-0.015</td>\n",
       "      <td>1.498+/-0.015</td>\n",
       "    </tr>\n",
       "    <tr>\n",
       "      <th>MO</th>\n",
       "      <td>0.22000+/-0.00010</td>\n",
       "      <td>0.2206+/-0.0022</td>\n",
       "      <td>0.2444+/-0.0024</td>\n",
       "    </tr>\n",
       "    <tr>\n",
       "      <th>C</th>\n",
       "      <td>1.17950+/-0.00010</td>\n",
       "      <td>1.180+/-0.012</td>\n",
       "      <td>1.199+/-0.012</td>\n",
       "    </tr>\n",
       "  </tbody>\n",
       "</table>\n",
       "</div>"
      ],
      "text/plain": [
       "             KEITHLEY                 TO               WS\n",
       "W   0.13670+/-0.00010    0.1371+/-0.0014  0.1647+/-0.0016\n",
       "M   0.01610+/-0.00010  0.01665+/-0.00017  0.0401+/-0.0004\n",
       "K   6.23590+/-0.00010        6.24+/-0.06      6.23+/-0.06\n",
       "Z   1.47470+/-0.00010      1.484+/-0.015    1.498+/-0.015\n",
       "MO  0.22000+/-0.00010    0.2206+/-0.0022  0.2444+/-0.0024\n",
       "C   1.17950+/-0.00010      1.180+/-0.012    1.199+/-0.012"
      ]
     },
     "execution_count": 7,
     "metadata": {},
     "output_type": "execute_result"
    }
   ],
   "source": [
    "df = pd.DataFrame(\n",
    "    {\n",
    "        \"KEITHLEY\": [\n",
    "            0.1367,\n",
    "            0.0161,\n",
    "            6.2359,\n",
    "            1.4747,\n",
    "            0.2200,\n",
    "            1.1795\n",
    "        ],\n",
    "        \"WS\": [\n",
    "            0.1647,\n",
    "            0.0401,\n",
    "            6.23,\n",
    "            1.498,\n",
    "            0.2444,\n",
    "            1.1992\n",
    "        ],\n",
    "        \"TO\": [\n",
    "            0.1371,\n",
    "            0.01665,\n",
    "            6.235,\n",
    "            1.484,\n",
    "            0.2206,\n",
    "            1.1797\n",
    "        ]\n",
    "    }, \n",
    "    index=[\"W\", \"M\", \"K\", \"Z\", \"MO\", \"C\"]\n",
    ")\n",
    "df.KEITHLEY = df.KEITHLEY.apply(lambda h: uf(h, 0.0001))\n",
    "df[[\"WS\", \"TO\"]] = df[[\"WS\", \"TO\"]].applymap(lambda h: uf(h, 0.01*h))\n",
    "df"
   ]
  },
  {
   "cell_type": "markdown",
   "metadata": {
    "heading_collapsed": true
   },
   "source": [
    "## Úkol 2"
   ]
  },
  {
   "cell_type": "code",
   "execution_count": 8,
   "metadata": {
    "hidden": true
   },
   "outputs": [],
   "source": [
    "R_V = uf(0.0231, 0.0002)"
   ]
  },
  {
   "cell_type": "code",
   "execution_count": 9,
   "metadata": {
    "hidden": true
   },
   "outputs": [
    {
     "data": {
      "text/plain": [
       "W     0.0045+/-0.0022\n",
       "M     0.0003+/-0.0005\n",
       "K        -0.03+/-0.09\n",
       "Z      -0.009+/-0.021\n",
       "MO    0.0007+/-0.0033\n",
       "C      -0.004+/-0.017\n",
       "dtype: object"
      ]
     },
     "execution_count": 9,
     "metadata": {},
     "output_type": "execute_result"
    }
   ],
   "source": [
    "df.WS - df.TO - R_V"
   ]
  },
  {
   "cell_type": "markdown",
   "metadata": {
    "hideCode": false,
    "hidePrompt": false
   },
   "source": [
    "## Úkol 4"
   ]
  },
  {
   "cell_type": "code",
   "execution_count": 10,
   "metadata": {},
   "outputs": [],
   "source": [
    "def merny_odpor(R, l, d):\n",
    "    return (R * sp.pi * d**2) / (4 * l)"
   ]
  },
  {
   "cell_type": "code",
   "execution_count": 11,
   "metadata": {},
   "outputs": [
    {
     "data": {
      "text/plain": [
       "{'C': 1.0203946016715462e-06+/-3.2384404387114e-08,\n",
       " 'K': 1.3309648454993457e-06+/-6.516820827912283e-08,\n",
       " 'M': 1.6914553149134116e-08+/-5.132900245788475e-10,\n",
       " 'MO': 6.630441129106684e-08+/-2.7306959421770333e-09,\n",
       " 'W': 5.495933219288911e-08+/-2.057516154102977e-09,\n",
       " 'Z': 2.1470272233288748e-07+/-1.2657735410225302e-08}"
      ]
     },
     "execution_count": 11,
     "metadata": {},
     "output_type": "execute_result"
    }
   ],
   "source": [
    "R_mer = {}\n",
    "\n",
    "for i, r in df.iterrows():\n",
    "    R_mer[i] = merny_odpor(r.KEITHLEY, *rozm[i])\n",
    "\n",
    "R_mer"
   ]
  },
  {
   "cell_type": "code",
   "execution_count": 12,
   "metadata": {},
   "outputs": [
    {
     "name": "stdout",
     "output_type": "stream",
     "text": [
      "W 0.0550+/-0.0021\n",
      "M 0.0169+/-0.0005\n",
      "K 1.33+/-0.07\n",
      "Z 0.215+/-0.013\n",
      "MO 0.0663+/-0.0027\n",
      "C 1.020+/-0.032\n"
     ]
    }
   ],
   "source": [
    "for key, item in R_mer.items():\n",
    "    print(key, item*1e6)"
   ]
  },
  {
   "cell_type": "code",
   "execution_count": 48,
   "metadata": {},
   "outputs": [
    {
     "data": {
      "text/html": [
       "<div>\n",
       "<style>\n",
       "    .dataframe thead tr:only-child th {\n",
       "        text-align: right;\n",
       "    }\n",
       "\n",
       "    .dataframe thead th {\n",
       "        text-align: left;\n",
       "    }\n",
       "\n",
       "    .dataframe tbody tr th {\n",
       "        vertical-align: top;\n",
       "    }\n",
       "</style>\n",
       "<table border=\"1\" class=\"dataframe\">\n",
       "  <thead>\n",
       "    <tr style=\"text-align: right;\">\n",
       "      <th></th>\n",
       "      <th>ro</th>\n",
       "      <th>alfa</th>\n",
       "    </tr>\n",
       "  </thead>\n",
       "  <tbody>\n",
       "    <tr>\n",
       "      <th>C</th>\n",
       "      <td>1.100000e-06</td>\n",
       "      <td>0.00018</td>\n",
       "    </tr>\n",
       "    <tr>\n",
       "      <th>KA</th>\n",
       "      <td>1.400000e-06</td>\n",
       "      <td>0.00010</td>\n",
       "    </tr>\n",
       "    <tr>\n",
       "      <th>M</th>\n",
       "      <td>1.555000e-08</td>\n",
       "      <td>0.00433</td>\n",
       "    </tr>\n",
       "    <tr>\n",
       "      <th>MO</th>\n",
       "      <td>7.000000e-08</td>\n",
       "      <td>0.00150</td>\n",
       "    </tr>\n",
       "    <tr>\n",
       "      <th>W</th>\n",
       "      <td>4.890000e-08</td>\n",
       "      <td>0.00483</td>\n",
       "    </tr>\n",
       "    <tr>\n",
       "      <th>Z</th>\n",
       "      <td>8.810000e-08</td>\n",
       "      <td>0.00653</td>\n",
       "    </tr>\n",
       "  </tbody>\n",
       "</table>\n",
       "</div>"
      ],
      "text/plain": [
       "              ro     alfa\n",
       "C   1.100000e-06  0.00018\n",
       "KA  1.400000e-06  0.00010\n",
       "M   1.555000e-08  0.00433\n",
       "MO  7.000000e-08  0.00150\n",
       "W   4.890000e-08  0.00483\n",
       "Z   8.810000e-08  0.00653"
      ]
     },
     "execution_count": 48,
     "metadata": {},
     "output_type": "execute_result"
    }
   ],
   "source": [
    "tab_odp = pd.DataFrame({\n",
    "    \"W\": [4.89, 4.83],\n",
    "    \"M\": [1.555, 4.33],\n",
    "    \"KA\": [140, 0.1],\n",
    "    \"Z\": [8.81, 6.53],\n",
    "    \"MO\": [7, 1.5],\n",
    "    \"C\": [110, 0.18]\n",
    "}, index=[\"ro\", \"alfa\"])\n",
    "tab_odp.loc[\"ro\"] = tab_odp.loc[\"ro\"] * 1e-8\n",
    "tab_odp.loc[\"alfa\"] = tab_odp.loc[\"alfa\"] * 1e-3\n",
    "tab_odp = tab_odp.T\n",
    "tab_odp"
   ]
  },
  {
   "cell_type": "markdown",
   "metadata": {},
   "source": [
    "Chromnikl: BARTÁK, Jaroslav. <i>Matematické, fyzikální a chemické tabulky pro odborná učiliště a učňovské školy</i>. 6.nezm.vyd. Praha: Státní pedagogické nakladatelství, 1984. Pomocné knihy pro žáky SŠ.\n",
    "\n",
    "Ostatní: BROŽ, Jaromír, Vladimír ROSKOVEC a Miloslav VALOUCH. <i>Fyzikální a matematické tabulky</i>. Praha: Státní nakladatelství technické literatury, 1980.\n",
    "\n",
    "$\\rho = \\rho_0 (1 + \\alpha T)$"
   ]
  },
  {
   "cell_type": "code",
   "execution_count": 49,
   "metadata": {},
   "outputs": [],
   "source": [
    "def ro_pro_teplotu(ro0, alpha, T):\n",
    "    return ro0 * (1 + alpha * T)"
   ]
  },
  {
   "cell_type": "code",
   "execution_count": 50,
   "metadata": {},
   "outputs": [
    {
     "data": {
      "text/html": [
       "<div>\n",
       "<style>\n",
       "    .dataframe thead tr:only-child th {\n",
       "        text-align: right;\n",
       "    }\n",
       "\n",
       "    .dataframe thead th {\n",
       "        text-align: left;\n",
       "    }\n",
       "\n",
       "    .dataframe tbody tr th {\n",
       "        vertical-align: top;\n",
       "    }\n",
       "</style>\n",
       "<table border=\"1\" class=\"dataframe\">\n",
       "  <thead>\n",
       "    <tr style=\"text-align: right;\">\n",
       "      <th></th>\n",
       "      <th>ro</th>\n",
       "      <th>alfa</th>\n",
       "      <th>ro_25C</th>\n",
       "    </tr>\n",
       "  </thead>\n",
       "  <tbody>\n",
       "    <tr>\n",
       "      <th>C</th>\n",
       "      <td>1.100000e-06</td>\n",
       "      <td>0.00018</td>\n",
       "      <td>1.104950e-06</td>\n",
       "    </tr>\n",
       "    <tr>\n",
       "      <th>KA</th>\n",
       "      <td>1.400000e-06</td>\n",
       "      <td>0.00010</td>\n",
       "      <td>1.403500e-06</td>\n",
       "    </tr>\n",
       "    <tr>\n",
       "      <th>M</th>\n",
       "      <td>1.555000e-08</td>\n",
       "      <td>0.00433</td>\n",
       "      <td>1.723329e-08</td>\n",
       "    </tr>\n",
       "    <tr>\n",
       "      <th>MO</th>\n",
       "      <td>7.000000e-08</td>\n",
       "      <td>0.00150</td>\n",
       "      <td>7.262500e-08</td>\n",
       "    </tr>\n",
       "    <tr>\n",
       "      <th>W</th>\n",
       "      <td>4.890000e-08</td>\n",
       "      <td>0.00483</td>\n",
       "      <td>5.480467e-08</td>\n",
       "    </tr>\n",
       "    <tr>\n",
       "      <th>Z</th>\n",
       "      <td>8.810000e-08</td>\n",
       "      <td>0.00653</td>\n",
       "      <td>1.024823e-07</td>\n",
       "    </tr>\n",
       "  </tbody>\n",
       "</table>\n",
       "</div>"
      ],
      "text/plain": [
       "              ro     alfa        ro_25C\n",
       "C   1.100000e-06  0.00018  1.104950e-06\n",
       "KA  1.400000e-06  0.00010  1.403500e-06\n",
       "M   1.555000e-08  0.00433  1.723329e-08\n",
       "MO  7.000000e-08  0.00150  7.262500e-08\n",
       "W   4.890000e-08  0.00483  5.480467e-08\n",
       "Z   8.810000e-08  0.00653  1.024823e-07"
      ]
     },
     "execution_count": 50,
     "metadata": {},
     "output_type": "execute_result"
    }
   ],
   "source": [
    "tab_odp[\"ro_25C\"] = sp.vectorize(ro_pro_teplotu)(tab_odp.ro, tab_odp.alfa, 25)\n",
    "tab_odp"
   ]
  },
  {
   "cell_type": "markdown",
   "metadata": {
    "hideCode": false,
    "hidePrompt": false
   },
   "source": [
    "## Pokusy"
   ]
  },
  {
   "cell_type": "code",
   "execution_count": 44,
   "metadata": {
    "code_folding": [
     0
    ],
    "hideCode": false,
    "hidePrompt": false
   },
   "outputs": [],
   "source": [
    "def latex_table(df):\n",
    "    col_names = list(df.columns)\n",
    "    cols = {}\n",
    "    \n",
    "    for c in list(df.columns):\n",
    "        err = stds(df[c])\n",
    "        if sp.count_nonzero(err) > 0: \n",
    "            cols[c] = []\n",
    "            cols[f\"s_{c}\"] = []\n",
    "            for v in df[c]:\n",
    "                nom_cast, err_cast = \"{:1}\".format(v).split(\"+/-\")\n",
    "                cols[c].append(nom_cast)\n",
    "                cols[f\"s_{c}\"].append(err_cast)\n",
    "        else:\n",
    "            cols[c] = list(df[c])\n",
    "    for name, data in cols.items():\n",
    "        longest = len(name)\n",
    "        for val in data:\n",
    "            if len(str(val)) > longest:\n",
    "                longest = len(str(val))\n",
    "        cols[name] = list(map(lambda h: str(h).ljust(longest + 1), data))\n",
    "    \n",
    "    cols_list = []\n",
    "    for i in range(len(col_names)):\n",
    "        cols_list.append([col_names[0]] + cols[col_names[0]])\n",
    "        try:\n",
    "            cols_list.append([f\"s_{col_names[0]}\"] + cols[f\"s_{col_names[0]}\"])\n",
    "        except KeyError:\n",
    "            pass\n",
    "        col_names.pop(0)\n",
    "    \n",
    "    for i in cols_list:\n",
    "        i[0] = i[0].ljust(len(i[1]))\n",
    "    \n",
    "    rows_list = list(map(list, zip(*cols_list)))\n",
    "    \n",
    "    rows = [\"& \".join(r) for r in rows_list]\n",
    "    \n",
    "    out = \"\\\\\\\\ \\n\".join(rows) + \"\\\\\\\\\"\n",
    "    \n",
    "    return out"
   ]
  },
  {
   "cell_type": "raw",
   "metadata": {},
   "source": [
    "def round_uncert(value):\n",
    "    \n",
    "\n",
    "def split_df_uncert(df):\n",
    "    new = pd.DataFrame()\n",
    "    \n",
    "    for col in list(df.columns):\n",
    "        err = stds(df[col])\n",
    "        if sp.count_nonzero(err) > 0: \n",
    "            nom_list = []\n",
    "            std_list = []\n",
    "            for v in df[col]:\n",
    "                nom_val, std_val = round_uncert(v)\n",
    "                nom_list.append(nom_val)\n",
    "                std_list.append(std_val)\n",
    "            new[col] = nom_list\n",
    "            new[f\"s_{col}\"] = std_list\n",
    "        else:\n",
    "            new[col] = df[col]\n",
    "    \n",
    "    return new\n",
    "        \n",
    "\n",
    "def latex_table(df):\n",
    "    ready_df = split_df_uncert(df)"
   ]
  },
  {
   "cell_type": "code",
   "execution_count": 46,
   "metadata": {},
   "outputs": [],
   "source": [
    "tab_odp.alfa = tab_odp.alfa * 1000\n",
    "tab_odp.ro = tab_odp.ro * 1e6\n",
    "tab_odp.ro_25C = tab_odp.ro_25C * 1e6"
   ]
  },
  {
   "cell_type": "code",
   "execution_count": 47,
   "metadata": {
    "hideCode": false,
    "hidePrompt": false
   },
   "outputs": [
    {
     "name": "stdout",
     "output_type": "stream",
     "text": [
      "ro      & alfa & ro_25C       \\\\ \n",
      "1.1     & 0.18 & 1.10495      \\\\ \n",
      "1.4     & 0.1  & 1.4035       \\\\ \n",
      "0.01555 & 4.33 & 0.0172332875 \\\\ \n",
      "0.07    & 1.5  & 0.072625     \\\\ \n",
      "0.0489  & 4.83 & 0.054804675  \\\\ \n",
      "0.0881  & 6.53 & 0.102482325  \\\\\n"
     ]
    }
   ],
   "source": [
    "print(latex_table(tab_odp))"
   ]
  },
  {
   "cell_type": "code",
   "execution_count": 29,
   "metadata": {},
   "outputs": [],
   "source": [
    "round??"
   ]
  },
  {
   "cell_type": "code",
   "execution_count": 28,
   "metadata": {},
   "outputs": [
    {
     "data": {
      "text/plain": [
       "0.0"
      ]
     },
     "execution_count": 28,
     "metadata": {},
     "output_type": "execute_result"
    }
   ],
   "source": []
  },
  {
   "cell_type": "code",
   "execution_count": null,
   "metadata": {},
   "outputs": [],
   "source": []
  }
 ],
 "metadata": {
  "hide_code_all_hidden": true,
  "kernelspec": {
   "display_name": "Python 3",
   "language": "python",
   "name": "python3"
  },
  "language_info": {
   "codemirror_mode": {
    "name": "ipython",
    "version": 3
   },
   "file_extension": ".py",
   "mimetype": "text/x-python",
   "name": "python",
   "nbconvert_exporter": "python",
   "pygments_lexer": "ipython3",
   "version": "3.6.1"
  }
 },
 "nbformat": 4,
 "nbformat_minor": 2
}
