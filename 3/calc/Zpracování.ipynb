{
 "cells": [
  {
   "cell_type": "markdown",
   "metadata": {},
   "source": [
    "# Název"
   ]
  },
  {
   "cell_type": "markdown",
   "metadata": {
    "heading_collapsed": true
   },
   "source": [
    "## Setup"
   ]
  },
  {
   "cell_type": "code",
   "execution_count": 1,
   "metadata": {
    "hidden": true
   },
   "outputs": [],
   "source": [
    "from protokol import *"
   ]
  },
  {
   "cell_type": "code",
   "execution_count": 2,
   "metadata": {
    "hidden": true
   },
   "outputs": [],
   "source": [
    "%matplotlib inline\n",
    "plt.rcParams[\"figure.figsize\"] = (4*1.5,2.5*1.5)\n",
    "plt.rcParams[\"figure.dpi\"] = 100\n",
    "plt.rcParams[\"text.usetex\"] = True\n",
    "plt.rcParams[\"font.family\"] = \"serif\"\n",
    "plt.rcParams[\"font.serif\"] = [\"Computer Modern\"]\n",
    "plt.rcParams[\"text.latex.preamble\"] = r\"\"\"\n",
    "\\usepackage[decimalsymbol=comma]{siunitx}\n",
    "\"\"\""
   ]
  },
  {
   "cell_type": "code",
   "execution_count": 3,
   "metadata": {
    "hidden": true
   },
   "outputs": [],
   "source": [
    "def relative(self):\n",
    "    return self.s / self.n\n",
    "\n",
    "uncertainties.core.Variable.rel = relative"
   ]
  },
  {
   "cell_type": "markdown",
   "metadata": {},
   "source": [
    "## Přístroje"
   ]
  },
  {
   "cell_type": "markdown",
   "metadata": {
    "collapsed": true
   },
   "source": [
    "báze: voltmetr, ampermetr: METEX MXD-4660A\n",
    "\n",
    "kolektor: voltmetr, ampermetr: KEITHLEY 2100"
   ]
  },
  {
   "cell_type": "code",
   "execution_count": 74,
   "metadata": {},
   "outputs": [],
   "source": [
    "def keithley_U_err(val):\n",
    "    if val < 100e-3:\n",
    "        err = val * 5.5e-5 + 100e-3 * 4e-5\n",
    "    elif val < 1:\n",
    "        err = val * 4.5e-5 + 1   * 0.8e-5\n",
    "    elif val < 10:\n",
    "        err = val * 3.8e-5 + 10  * 0.6e-5\n",
    "    elif val < 100:\n",
    "        err = val * 5e-5   + 100 * 0.7e-5\n",
    "    return uf(val, err)"
   ]
  },
  {
   "cell_type": "code",
   "execution_count": 75,
   "metadata": {},
   "outputs": [],
   "source": [
    "def keithley_I_err(val):\n",
    "    if val < 10e-3:\n",
    "        err = val * 55e-5 + 10e-3 * 25e-5\n",
    "    elif val < 100e-3:\n",
    "        err = val * 55e-5 + 100e-3 * 6e-5\n",
    "    return uf(val, err)"
   ]
  },
  {
   "cell_type": "code",
   "execution_count": 76,
   "metadata": {},
   "outputs": [],
   "source": [
    "def metex_U_err(val):\n",
    "    if val < 200e-3:\n",
    "        err = val * 5e-4 + 10e-6 * 3\n",
    "    elif val < 2:\n",
    "        err = val * 5e-4 + 100e-6 * 3\n",
    "    elif val < 20:\n",
    "        err = val * 5e-4 + 1e-3  * 3\n",
    "    return uf(val, err)"
   ]
  },
  {
   "cell_type": "code",
   "execution_count": 77,
   "metadata": {},
   "outputs": [],
   "source": [
    "def metex_I_err(val):\n",
    "    if val < 2e-3:\n",
    "        err = val * 3e-3 + 100e-9 * 3\n",
    "    elif val < 20e-3:\n",
    "        err = val * 3e-3 + 1e-6 * 3\n",
    "    elif val < 200e-3:\n",
    "        err = val * 3e-3 + 10e-6 * 3\n",
    "    return uf(val, err)"
   ]
  },
  {
   "cell_type": "markdown",
   "metadata": {},
   "source": [
    "## Úkol 1"
   ]
  },
  {
   "cell_type": "code",
   "execution_count": 78,
   "metadata": {},
   "outputs": [
    {
     "name": "stderr",
     "output_type": "stream",
     "text": [
      "c:\\tools\\anaconda3\\lib\\site-packages\\ipykernel_launcher.py:1: ParserWarning: Falling back to the 'python' engine because the 'c' engine does not support regex separators (separators > 1 char and different from '\\s+' are interpreted as regex); you can avoid this warning by specifying engine='python'.\n",
      "  \"\"\"Entry point for launching an IPython kernel.\n"
     ]
    },
    {
     "data": {
      "text/html": [
       "<div>\n",
       "<style>\n",
       "    .dataframe thead tr:only-child th {\n",
       "        text-align: right;\n",
       "    }\n",
       "\n",
       "    .dataframe thead th {\n",
       "        text-align: left;\n",
       "    }\n",
       "\n",
       "    .dataframe tbody tr th {\n",
       "        vertical-align: top;\n",
       "    }\n",
       "</style>\n",
       "<table border=\"1\" class=\"dataframe\">\n",
       "  <thead>\n",
       "    <tr style=\"text-align: right;\">\n",
       "      <th></th>\n",
       "      <th>U_BE</th>\n",
       "      <th>I_BE</th>\n",
       "    </tr>\n",
       "  </thead>\n",
       "  <tbody>\n",
       "    <tr>\n",
       "      <th>0</th>\n",
       "      <td>0.543800+/-0.000032</td>\n",
       "      <td>(0.9+/-2.5)e-06</td>\n",
       "    </tr>\n",
       "    <tr>\n",
       "      <th>1</th>\n",
       "      <td>0.585700+/-0.000034</td>\n",
       "      <td>(3.6+/-2.5)e-06</td>\n",
       "    </tr>\n",
       "    <tr>\n",
       "      <th>2</th>\n",
       "      <td>0.61610+/-0.00004</td>\n",
       "      <td>(8.22+/-0.25)e-05</td>\n",
       "    </tr>\n",
       "    <tr>\n",
       "      <th>3</th>\n",
       "      <td>0.63100+/-0.00004</td>\n",
       "      <td>0.0002220+/-0.0000026</td>\n",
       "    </tr>\n",
       "    <tr>\n",
       "      <th>4</th>\n",
       "      <td>0.66460+/-0.00004</td>\n",
       "      <td>0.0008176+/-0.0000029</td>\n",
       "    </tr>\n",
       "  </tbody>\n",
       "</table>\n",
       "</div>"
      ],
      "text/plain": [
       "                  U_BE                   I_BE\n",
       "0  0.543800+/-0.000032        (0.9+/-2.5)e-06\n",
       "1  0.585700+/-0.000034        (3.6+/-2.5)e-06\n",
       "2    0.61610+/-0.00004      (8.22+/-0.25)e-05\n",
       "3    0.63100+/-0.00004  0.0002220+/-0.0000026\n",
       "4    0.66460+/-0.00004  0.0008176+/-0.0000029"
      ]
     },
     "execution_count": 78,
     "metadata": {},
     "output_type": "execute_result"
    }
   ],
   "source": [
    "u1_1000 = pd.read_csv(\"../raw/u1_1000.txt\", sep=\"\\s+,\\s+\")\n",
    "u1_1000.I_BE *= 1e-3\n",
    "\n",
    "u1_1000.U_BE = u1_1000.U_BE.apply(keithley_U_err)\n",
    "u1_1000.I_BE = u1_1000.I_BE.apply(keithley_I_err)\n",
    "u1_1000.head()"
   ]
  },
  {
   "cell_type": "code",
   "execution_count": 79,
   "metadata": {},
   "outputs": [
    {
     "name": "stderr",
     "output_type": "stream",
     "text": [
      "c:\\tools\\anaconda3\\lib\\site-packages\\ipykernel_launcher.py:1: ParserWarning: Falling back to the 'python' engine because the 'c' engine does not support regex separators (separators > 1 char and different from '\\s+' are interpreted as regex); you can avoid this warning by specifying engine='python'.\n",
      "  \"\"\"Entry point for launching an IPython kernel.\n"
     ]
    },
    {
     "data": {
      "text/html": [
       "<div>\n",
       "<style>\n",
       "    .dataframe thead tr:only-child th {\n",
       "        text-align: right;\n",
       "    }\n",
       "\n",
       "    .dataframe thead th {\n",
       "        text-align: left;\n",
       "    }\n",
       "\n",
       "    .dataframe tbody tr th {\n",
       "        vertical-align: top;\n",
       "    }\n",
       "</style>\n",
       "<table border=\"1\" class=\"dataframe\">\n",
       "  <thead>\n",
       "    <tr style=\"text-align: right;\">\n",
       "      <th></th>\n",
       "      <th>U_BE</th>\n",
       "      <th>I_BE</th>\n",
       "    </tr>\n",
       "  </thead>\n",
       "  <tbody>\n",
       "    <tr>\n",
       "      <th>0</th>\n",
       "      <td>0.376600+/-0.000025</td>\n",
       "      <td>(0.3+/-2.5)e-06</td>\n",
       "    </tr>\n",
       "    <tr>\n",
       "      <th>1</th>\n",
       "      <td>0.502700+/-0.000031</td>\n",
       "      <td>(4.30+/-0.25)e-05</td>\n",
       "    </tr>\n",
       "    <tr>\n",
       "      <th>2</th>\n",
       "      <td>0.559000+/-0.000033</td>\n",
       "      <td>(3.26+/-0.25)e-05</td>\n",
       "    </tr>\n",
       "    <tr>\n",
       "      <th>3</th>\n",
       "      <td>0.608600+/-0.000035</td>\n",
       "      <td>0.0001690+/-0.0000026</td>\n",
       "    </tr>\n",
       "    <tr>\n",
       "      <th>4</th>\n",
       "      <td>0.61990+/-0.00004</td>\n",
       "      <td>0.0002410+/-0.0000026</td>\n",
       "    </tr>\n",
       "  </tbody>\n",
       "</table>\n",
       "</div>"
      ],
      "text/plain": [
       "                  U_BE                   I_BE\n",
       "0  0.376600+/-0.000025        (0.3+/-2.5)e-06\n",
       "1  0.502700+/-0.000031      (4.30+/-0.25)e-05\n",
       "2  0.559000+/-0.000033      (3.26+/-0.25)e-05\n",
       "3  0.608600+/-0.000035  0.0001690+/-0.0000026\n",
       "4    0.61990+/-0.00004  0.0002410+/-0.0000026"
      ]
     },
     "execution_count": 79,
     "metadata": {},
     "output_type": "execute_result"
    }
   ],
   "source": [
    "u1_inf = pd.read_csv(\"../raw/u1_inf.txt\", sep=\"\\s+,\\s+\")\n",
    "u1_inf.I_BE *= 1e-3\n",
    "\n",
    "u1_inf.U_BE = u1_inf.U_BE.apply(keithley_U_err)\n",
    "u1_inf.I_BE = u1_inf.I_BE.apply(keithley_I_err)\n",
    "u1_inf.head()"
   ]
  },
  {
   "cell_type": "markdown",
   "metadata": {},
   "source": [
    "### Grafy"
   ]
  },
  {
   "cell_type": "code",
   "execution_count": 80,
   "metadata": {},
   "outputs": [
    {
     "data": {
      "image/png": "[encoded data removed]",
      "text/plain": [
       "<matplotlib.figure.Figure at 0x1af21bc6278>"
      ]
     },
     "metadata": {},
     "output_type": "display_data"
    }
   ],
   "source": [
    "fig = plt.figure()\n",
    "ax = plt.axes()\n",
    "\n",
    "px1 = noms(u1_1000.U_BE)\n",
    "py1 = noms(u1_1000.I_BE) * 1e3\n",
    "\n",
    "px2 = noms(u1_inf.U_BE)\n",
    "py2 = noms(u1_inf.I_BE) * 1e3\n",
    "fit = Spline(px2, py2, s=0)\n",
    "\n",
    "ax.plot(*fit.curve(), \"--\", c=\"gray\")\n",
    "\n",
    "ax.plot(px1, py1, \"kx\", label=\"$R_2 = \\SI{1000}{\\ohm}$\")\n",
    "ax.plot(px2, py2, \"ko\", ms=5, mfc=\"none\", label=\"$R_2 = \\infty$\")\n",
    "\n",
    "ax.set_xlabel(r\"$U_{BE}[\\si{\\volt}]$\")\n",
    "ax.set_ylabel(r\"$I_{BE}[\\si{\\milli\\ampere}]$\")\n",
    "ax.legend()\n",
    "\n",
    "plt.tight_layout()\n",
    "plt.savefig(\"../plot/u1.pdf\")"
   ]
  },
  {
   "cell_type": "markdown",
   "metadata": {},
   "source": [
    "## Úkol 2"
   ]
  },
  {
   "cell_type": "code",
   "execution_count": 81,
   "metadata": {},
   "outputs": [
    {
     "name": "stderr",
     "output_type": "stream",
     "text": [
      "c:\\tools\\anaconda3\\lib\\site-packages\\ipykernel_launcher.py:1: ParserWarning: Falling back to the 'python' engine because the 'c' engine does not support regex separators (separators > 1 char and different from '\\s+' are interpreted as regex); you can avoid this warning by specifying engine='python'.\n",
      "  \"\"\"Entry point for launching an IPython kernel.\n"
     ]
    },
    {
     "data": {
      "text/html": [
       "<div>\n",
       "<style>\n",
       "    .dataframe thead tr:only-child th {\n",
       "        text-align: right;\n",
       "    }\n",
       "\n",
       "    .dataframe thead th {\n",
       "        text-align: left;\n",
       "    }\n",
       "\n",
       "    .dataframe tbody tr th {\n",
       "        vertical-align: top;\n",
       "    }\n",
       "</style>\n",
       "<table border=\"1\" class=\"dataframe\">\n",
       "  <thead>\n",
       "    <tr style=\"text-align: right;\">\n",
       "      <th></th>\n",
       "      <th>U_CE</th>\n",
       "      <th>I_CE</th>\n",
       "    </tr>\n",
       "  </thead>\n",
       "  <tbody>\n",
       "    <tr>\n",
       "      <th>0</th>\n",
       "      <td>0.01414+/-0.00004</td>\n",
       "      <td>0.0002380+/-0.0000010</td>\n",
       "    </tr>\n",
       "    <tr>\n",
       "      <th>1</th>\n",
       "      <td>0.05064+/-0.00006</td>\n",
       "      <td>0.002139+/-0.000009</td>\n",
       "    </tr>\n",
       "    <tr>\n",
       "      <th>2</th>\n",
       "      <td>0.07092+/-0.00007</td>\n",
       "      <td>0.004041+/-0.000015</td>\n",
       "    </tr>\n",
       "    <tr>\n",
       "      <th>3</th>\n",
       "      <td>0.10184+/-0.00008</td>\n",
       "      <td>0.007615+/-0.000026</td>\n",
       "    </tr>\n",
       "    <tr>\n",
       "      <th>4</th>\n",
       "      <td>0.11958+/-0.00009</td>\n",
       "      <td>0.009511+/-0.000032</td>\n",
       "    </tr>\n",
       "  </tbody>\n",
       "</table>\n",
       "</div>"
      ],
      "text/plain": [
       "                U_CE                   I_CE\n",
       "0  0.01414+/-0.00004  0.0002380+/-0.0000010\n",
       "1  0.05064+/-0.00006    0.002139+/-0.000009\n",
       "2  0.07092+/-0.00007    0.004041+/-0.000015\n",
       "3  0.10184+/-0.00008    0.007615+/-0.000026\n",
       "4  0.11958+/-0.00009    0.009511+/-0.000032"
      ]
     },
     "execution_count": 81,
     "metadata": {},
     "output_type": "execute_result"
    }
   ],
   "source": [
    "u2_01 = pd.read_csv(\"../raw/u2_0.1.txt\", sep=\"\\s+,\\s+\")\n",
    "u2_01.I_CE *= 1e-3\n",
    "\n",
    "u2_01.U_CE = u2_01.U_CE.apply(metex_U_err)\n",
    "u2_01.I_CE = u2_01.I_CE.apply(metex_I_err)\n",
    "u2_01.head()"
   ]
  },
  {
   "cell_type": "code",
   "execution_count": 82,
   "metadata": {},
   "outputs": [
    {
     "name": "stderr",
     "output_type": "stream",
     "text": [
      "c:\\tools\\anaconda3\\lib\\site-packages\\ipykernel_launcher.py:1: ParserWarning: Falling back to the 'python' engine because the 'c' engine does not support regex separators (separators > 1 char and different from '\\s+' are interpreted as regex); you can avoid this warning by specifying engine='python'.\n",
      "  \"\"\"Entry point for launching an IPython kernel.\n"
     ]
    },
    {
     "data": {
      "text/html": [
       "<div>\n",
       "<style>\n",
       "    .dataframe thead tr:only-child th {\n",
       "        text-align: right;\n",
       "    }\n",
       "\n",
       "    .dataframe thead th {\n",
       "        text-align: left;\n",
       "    }\n",
       "\n",
       "    .dataframe tbody tr th {\n",
       "        vertical-align: top;\n",
       "    }\n",
       "</style>\n",
       "<table border=\"1\" class=\"dataframe\">\n",
       "  <thead>\n",
       "    <tr style=\"text-align: right;\">\n",
       "      <th></th>\n",
       "      <th>U_CE</th>\n",
       "      <th>I_CE</th>\n",
       "    </tr>\n",
       "  </thead>\n",
       "  <tbody>\n",
       "    <tr>\n",
       "      <th>0</th>\n",
       "      <td>0.010113+/-0.000035</td>\n",
       "      <td>0.0003106+/-0.0000012</td>\n",
       "    </tr>\n",
       "    <tr>\n",
       "      <th>1</th>\n",
       "      <td>0.02127+/-0.00004</td>\n",
       "      <td>0.0010830+/-0.0000035</td>\n",
       "    </tr>\n",
       "    <tr>\n",
       "      <th>2</th>\n",
       "      <td>0.03087+/-0.00005</td>\n",
       "      <td>0.001975+/-0.000006</td>\n",
       "    </tr>\n",
       "    <tr>\n",
       "      <th>3</th>\n",
       "      <td>0.04686+/-0.00005</td>\n",
       "      <td>0.004009+/-0.000015</td>\n",
       "    </tr>\n",
       "    <tr>\n",
       "      <th>4</th>\n",
       "      <td>0.05997+/-0.00006</td>\n",
       "      <td>0.006204+/-0.000022</td>\n",
       "    </tr>\n",
       "  </tbody>\n",
       "</table>\n",
       "</div>"
      ],
      "text/plain": [
       "                  U_CE                   I_CE\n",
       "0  0.010113+/-0.000035  0.0003106+/-0.0000012\n",
       "1    0.02127+/-0.00004  0.0010830+/-0.0000035\n",
       "2    0.03087+/-0.00005    0.001975+/-0.000006\n",
       "3    0.04686+/-0.00005    0.004009+/-0.000015\n",
       "4    0.05997+/-0.00006    0.006204+/-0.000022"
      ]
     },
     "execution_count": 82,
     "metadata": {},
     "output_type": "execute_result"
    }
   ],
   "source": [
    "u2_02 = pd.read_csv(\"../raw/u2_0.2.txt\", sep=\"\\s+,\\s+\")\n",
    "u2_02.I_CE *= 1e-3\n",
    "\n",
    "u2_02.U_CE = u2_02.U_CE.apply(metex_U_err)\n",
    "u2_02.I_CE = u2_02.I_CE.apply(metex_I_err)\n",
    "u2_02.head()"
   ]
  },
  {
   "cell_type": "code",
   "execution_count": 83,
   "metadata": {},
   "outputs": [
    {
     "name": "stderr",
     "output_type": "stream",
     "text": [
      "c:\\tools\\anaconda3\\lib\\site-packages\\ipykernel_launcher.py:1: ParserWarning: Falling back to the 'python' engine because the 'c' engine does not support regex separators (separators > 1 char and different from '\\s+' are interpreted as regex); you can avoid this warning by specifying engine='python'.\n",
      "  \"\"\"Entry point for launching an IPython kernel.\n"
     ]
    },
    {
     "data": {
      "text/html": [
       "<div>\n",
       "<style>\n",
       "    .dataframe thead tr:only-child th {\n",
       "        text-align: right;\n",
       "    }\n",
       "\n",
       "    .dataframe thead th {\n",
       "        text-align: left;\n",
       "    }\n",
       "\n",
       "    .dataframe tbody tr th {\n",
       "        vertical-align: top;\n",
       "    }\n",
       "</style>\n",
       "<table border=\"1\" class=\"dataframe\">\n",
       "  <thead>\n",
       "    <tr style=\"text-align: right;\">\n",
       "      <th></th>\n",
       "      <th>U_CE</th>\n",
       "      <th>I_CE</th>\n",
       "    </tr>\n",
       "  </thead>\n",
       "  <tbody>\n",
       "    <tr>\n",
       "      <th>0</th>\n",
       "      <td>0.009514+/-0.000035</td>\n",
       "      <td>0.0004640+/-0.0000017</td>\n",
       "    </tr>\n",
       "    <tr>\n",
       "      <th>1</th>\n",
       "      <td>0.01236+/-0.00004</td>\n",
       "      <td>0.0007370+/-0.0000025</td>\n",
       "    </tr>\n",
       "    <tr>\n",
       "      <th>2</th>\n",
       "      <td>0.01571+/-0.00004</td>\n",
       "      <td>0.001086+/-0.000004</td>\n",
       "    </tr>\n",
       "    <tr>\n",
       "      <th>3</th>\n",
       "      <td>0.02411+/-0.00004</td>\n",
       "      <td>0.002119+/-0.000009</td>\n",
       "    </tr>\n",
       "    <tr>\n",
       "      <th>4</th>\n",
       "      <td>0.03153+/-0.00005</td>\n",
       "      <td>0.003240+/-0.000013</td>\n",
       "    </tr>\n",
       "  </tbody>\n",
       "</table>\n",
       "</div>"
      ],
      "text/plain": [
       "                  U_CE                   I_CE\n",
       "0  0.009514+/-0.000035  0.0004640+/-0.0000017\n",
       "1    0.01236+/-0.00004  0.0007370+/-0.0000025\n",
       "2    0.01571+/-0.00004    0.001086+/-0.000004\n",
       "3    0.02411+/-0.00004    0.002119+/-0.000009\n",
       "4    0.03153+/-0.00005    0.003240+/-0.000013"
      ]
     },
     "execution_count": 83,
     "metadata": {},
     "output_type": "execute_result"
    }
   ],
   "source": [
    "u2_03 = pd.read_csv(\"../raw/u2_0.3.txt\", sep=\"\\s+,\\s+\")\n",
    "u2_03.I_CE *= 1e-3\n",
    "\n",
    "u2_03.U_CE = u2_03.U_CE.apply(metex_U_err)\n",
    "u2_03.I_CE = u2_03.I_CE.apply(metex_I_err)\n",
    "u2_03.head()"
   ]
  },
  {
   "cell_type": "markdown",
   "metadata": {},
   "source": [
    "### Grafy"
   ]
  },
  {
   "cell_type": "code",
   "execution_count": 84,
   "metadata": {},
   "outputs": [
    {
     "data": {
      "image/png": "[encoded data removed]",
      "text/plain": [
       "<matplotlib.figure.Figure at 0x1af218380b8>"
      ]
     },
     "metadata": {},
     "output_type": "display_data"
    }
   ],
   "source": [
    "fig = plt.figure()\n",
    "ax = plt.axes()\n",
    "\n",
    "px1 = noms(u2_01.U_CE)\n",
    "py1 = noms(u2_01.I_CE) * 1e3\n",
    "\n",
    "spl1 = Spline(px1, py1)\n",
    "spl1.set_smoothing_factor(0.4)\n",
    "\n",
    "px2 = noms(u2_02.U_CE)\n",
    "py2 = noms(u2_02.I_CE) * 1e3\n",
    "\n",
    "spl2 = Spline(px2, py2)\n",
    "spl2.set_smoothing_factor(0.4)\n",
    "\n",
    "px3 = noms(u2_03.U_CE)\n",
    "py3 = noms(u2_03.I_CE) * 1e3\n",
    "\n",
    "spl3 = Spline(px3[:18], py3[:18])\n",
    "spl3.set_smoothing_factor(0.05)\n",
    "\n",
    "ax.plot(*spl1.curve(res=1000))\n",
    "ax.plot(*spl2.curve(res=1000))\n",
    "ax.plot(*spl3.curve(res=200))\n",
    "ax.plot(px1, py1, \"kx\", ms=5, label=\"$I_{BE} = \\SI{0.1}{mA}$\")\n",
    "ax.plot(px2, py2, \"k+\", ms=6, label=\"$I_{BE} = \\SI{0.2}{mA}$\")\n",
    "ax.plot(px3, py3, \"ko\", ms=3, mfc=\"none\", label=\"$I_{BE} = \\SI{0.3}{mA}$\")\n",
    "\n",
    "ax.set_xlabel(r\"$U_{CE}[\\si{\\volt}]$\")\n",
    "ax.set_xbound(-0.01,0.64)\n",
    "ax.set_ylabel(r\"$I_{CE}[\\si{\\milli\\ampere}]$\")\n",
    "ax.legend(loc=4)\n",
    "\n",
    "plt.tight_layout()\n",
    "plt.savefig(\"../plot/u2.pdf\")"
   ]
  },
  {
   "cell_type": "markdown",
   "metadata": {},
   "source": [
    "## Úkol 3"
   ]
  },
  {
   "cell_type": "code",
   "execution_count": 85,
   "metadata": {},
   "outputs": [
    {
     "name": "stderr",
     "output_type": "stream",
     "text": [
      "c:\\tools\\anaconda3\\lib\\site-packages\\ipykernel_launcher.py:1: ParserWarning: Falling back to the 'python' engine because the 'c' engine does not support regex separators (separators > 1 char and different from '\\s+' are interpreted as regex); you can avoid this warning by specifying engine='python'.\n",
      "  \"\"\"Entry point for launching an IPython kernel.\n"
     ]
    },
    {
     "data": {
      "text/html": [
       "<div>\n",
       "<style>\n",
       "    .dataframe thead tr:only-child th {\n",
       "        text-align: right;\n",
       "    }\n",
       "\n",
       "    .dataframe thead th {\n",
       "        text-align: left;\n",
       "    }\n",
       "\n",
       "    .dataframe tbody tr th {\n",
       "        vertical-align: top;\n",
       "    }\n",
       "</style>\n",
       "<table border=\"1\" class=\"dataframe\">\n",
       "  <thead>\n",
       "    <tr style=\"text-align: right;\">\n",
       "      <th></th>\n",
       "      <th>I_BE</th>\n",
       "      <th>I_CE</th>\n",
       "    </tr>\n",
       "  </thead>\n",
       "  <tbody>\n",
       "    <tr>\n",
       "      <th>0</th>\n",
       "      <td>(4.96+/-0.25)e-05</td>\n",
       "      <td>0.007010+/-0.000024</td>\n",
       "    </tr>\n",
       "    <tr>\n",
       "      <th>1</th>\n",
       "      <td>(9.60+/-0.26)e-05</td>\n",
       "      <td>0.01353+/-0.00004</td>\n",
       "    </tr>\n",
       "    <tr>\n",
       "      <th>2</th>\n",
       "      <td>0.0001600+/-0.0000026</td>\n",
       "      <td>0.02250+/-0.00010</td>\n",
       "    </tr>\n",
       "    <tr>\n",
       "      <th>3</th>\n",
       "      <td>0.0002154+/-0.0000026</td>\n",
       "      <td>0.02990+/-0.00012</td>\n",
       "    </tr>\n",
       "    <tr>\n",
       "      <th>4</th>\n",
       "      <td>0.0002479+/-0.0000026</td>\n",
       "      <td>0.03410+/-0.00013</td>\n",
       "    </tr>\n",
       "    <tr>\n",
       "      <th>5</th>\n",
       "      <td>0.0003007+/-0.0000027</td>\n",
       "      <td>0.04091+/-0.00015</td>\n",
       "    </tr>\n",
       "  </tbody>\n",
       "</table>\n",
       "</div>"
      ],
      "text/plain": [
       "                    I_BE                 I_CE\n",
       "0      (4.96+/-0.25)e-05  0.007010+/-0.000024\n",
       "1      (9.60+/-0.26)e-05    0.01353+/-0.00004\n",
       "2  0.0001600+/-0.0000026    0.02250+/-0.00010\n",
       "3  0.0002154+/-0.0000026    0.02990+/-0.00012\n",
       "4  0.0002479+/-0.0000026    0.03410+/-0.00013\n",
       "5  0.0003007+/-0.0000027    0.04091+/-0.00015"
      ]
     },
     "execution_count": 85,
     "metadata": {},
     "output_type": "execute_result"
    }
   ],
   "source": [
    "u3_2V = pd.read_csv(\"../raw/u3_2V.txt\", sep=\"\\s+,\\s+\")\n",
    "u3_2V *= 1e-3\n",
    "\n",
    "u3_2V.I_BE = u3_2V.I_BE.apply(keithley_I_err)\n",
    "u3_2V.I_CE = u3_2V.I_CE.apply(metex_I_err)\n",
    "u3_2V"
   ]
  },
  {
   "cell_type": "code",
   "execution_count": 88,
   "metadata": {},
   "outputs": [
    {
     "name": "stderr",
     "output_type": "stream",
     "text": [
      "c:\\tools\\anaconda3\\lib\\site-packages\\ipykernel_launcher.py:1: ParserWarning: Falling back to the 'python' engine because the 'c' engine does not support regex separators (separators > 1 char and different from '\\s+' are interpreted as regex); you can avoid this warning by specifying engine='python'.\n",
      "  \"\"\"Entry point for launching an IPython kernel.\n"
     ]
    },
    {
     "data": {
      "text/html": [
       "<div>\n",
       "<style>\n",
       "    .dataframe thead tr:only-child th {\n",
       "        text-align: right;\n",
       "    }\n",
       "\n",
       "    .dataframe thead th {\n",
       "        text-align: left;\n",
       "    }\n",
       "\n",
       "    .dataframe tbody tr th {\n",
       "        vertical-align: top;\n",
       "    }\n",
       "</style>\n",
       "<table border=\"1\" class=\"dataframe\">\n",
       "  <thead>\n",
       "    <tr style=\"text-align: right;\">\n",
       "      <th></th>\n",
       "      <th>I_BE</th>\n",
       "      <th>I_CE</th>\n",
       "    </tr>\n",
       "  </thead>\n",
       "  <tbody>\n",
       "    <tr>\n",
       "      <th>0</th>\n",
       "      <td>(5.04+/-0.25)e-05</td>\n",
       "      <td>0.007194+/-0.000025</td>\n",
       "    </tr>\n",
       "    <tr>\n",
       "      <th>1</th>\n",
       "      <td>0.0001062+/-0.0000026</td>\n",
       "      <td>0.01522+/-0.00005</td>\n",
       "    </tr>\n",
       "    <tr>\n",
       "      <th>2</th>\n",
       "      <td>0.0001505+/-0.0000026</td>\n",
       "      <td>0.02150+/-0.00009</td>\n",
       "    </tr>\n",
       "    <tr>\n",
       "      <th>3</th>\n",
       "      <td>0.0002048+/-0.0000026</td>\n",
       "      <td>0.02912+/-0.00012</td>\n",
       "    </tr>\n",
       "    <tr>\n",
       "      <th>4</th>\n",
       "      <td>0.0002534+/-0.0000026</td>\n",
       "      <td>0.03584+/-0.00014</td>\n",
       "    </tr>\n",
       "  </tbody>\n",
       "</table>\n",
       "</div>"
      ],
      "text/plain": [
       "                    I_BE                 I_CE\n",
       "0      (5.04+/-0.25)e-05  0.007194+/-0.000025\n",
       "1  0.0001062+/-0.0000026    0.01522+/-0.00005\n",
       "2  0.0001505+/-0.0000026    0.02150+/-0.00009\n",
       "3  0.0002048+/-0.0000026    0.02912+/-0.00012\n",
       "4  0.0002534+/-0.0000026    0.03584+/-0.00014"
      ]
     },
     "execution_count": 88,
     "metadata": {},
     "output_type": "execute_result"
    }
   ],
   "source": [
    "u3_6V = pd.read_csv(\"../raw/u3_6V.txt\", sep=\"\\s+,\\s+\")\n",
    "u3_6V *= 1e-3\n",
    "\n",
    "u3_6V.I_BE = u3_6V.I_BE.apply(keithley_I_err)\n",
    "u3_6V.I_CE = u3_6V.I_CE.apply(metex_I_err)\n",
    "u3_6V.head()"
   ]
  },
  {
   "cell_type": "code",
   "execution_count": 89,
   "metadata": {},
   "outputs": [
    {
     "name": "stderr",
     "output_type": "stream",
     "text": [
      "c:\\tools\\anaconda3\\lib\\site-packages\\ipykernel_launcher.py:1: ParserWarning: Falling back to the 'python' engine because the 'c' engine does not support regex separators (separators > 1 char and different from '\\s+' are interpreted as regex); you can avoid this warning by specifying engine='python'.\n",
      "  \"\"\"Entry point for launching an IPython kernel.\n"
     ]
    },
    {
     "data": {
      "text/html": [
       "<div>\n",
       "<style>\n",
       "    .dataframe thead tr:only-child th {\n",
       "        text-align: right;\n",
       "    }\n",
       "\n",
       "    .dataframe thead th {\n",
       "        text-align: left;\n",
       "    }\n",
       "\n",
       "    .dataframe tbody tr th {\n",
       "        vertical-align: top;\n",
       "    }\n",
       "</style>\n",
       "<table border=\"1\" class=\"dataframe\">\n",
       "  <thead>\n",
       "    <tr style=\"text-align: right;\">\n",
       "      <th></th>\n",
       "      <th>I_BE</th>\n",
       "      <th>I_CE</th>\n",
       "    </tr>\n",
       "  </thead>\n",
       "  <tbody>\n",
       "    <tr>\n",
       "      <th>0</th>\n",
       "      <td>(5.24+/-0.25)e-05</td>\n",
       "      <td>0.007560+/-0.000026</td>\n",
       "    </tr>\n",
       "    <tr>\n",
       "      <th>1</th>\n",
       "      <td>0.0001003+/-0.0000026</td>\n",
       "      <td>0.01455+/-0.00005</td>\n",
       "    </tr>\n",
       "    <tr>\n",
       "      <th>2</th>\n",
       "      <td>0.0001509+/-0.0000026</td>\n",
       "      <td>0.02187+/-0.00010</td>\n",
       "    </tr>\n",
       "    <tr>\n",
       "      <th>3</th>\n",
       "      <td>0.0001975+/-0.0000026</td>\n",
       "      <td>0.02856+/-0.00012</td>\n",
       "    </tr>\n",
       "    <tr>\n",
       "      <th>4</th>\n",
       "      <td>0.0002495+/-0.0000026</td>\n",
       "      <td>0.03601+/-0.00014</td>\n",
       "    </tr>\n",
       "  </tbody>\n",
       "</table>\n",
       "</div>"
      ],
      "text/plain": [
       "                    I_BE                 I_CE\n",
       "0      (5.24+/-0.25)e-05  0.007560+/-0.000026\n",
       "1  0.0001003+/-0.0000026    0.01455+/-0.00005\n",
       "2  0.0001509+/-0.0000026    0.02187+/-0.00010\n",
       "3  0.0001975+/-0.0000026    0.02856+/-0.00012\n",
       "4  0.0002495+/-0.0000026    0.03601+/-0.00014"
      ]
     },
     "execution_count": 89,
     "metadata": {},
     "output_type": "execute_result"
    }
   ],
   "source": [
    "u3_10V = pd.read_csv(\"../raw/u3_10V.txt\", sep=\"\\s+,\\s+\")\n",
    "u3_10V *= 1e-3\n",
    "\n",
    "u3_10V.I_BE = u3_10V.I_BE.apply(keithley_I_err)\n",
    "u3_10V.I_CE = u3_10V.I_CE.apply(metex_I_err)\n",
    "u3_10V.head()"
   ]
  },
  {
   "cell_type": "code",
   "execution_count": 92,
   "metadata": {},
   "outputs": [
    {
     "data": {
      "image/png": "[encoded data removed]",
      "text/plain": [
       "<matplotlib.figure.Figure at 0x1af2025d898>"
      ]
     },
     "metadata": {},
     "output_type": "display_data"
    }
   ],
   "source": [
    "fig = plt.figure()\n",
    "ax = plt.axes()\n",
    "\n",
    "px1 = noms(u3_2V.I_BE) * 1e3\n",
    "py1 = noms(u3_2V.I_CE) * 1e3\n",
    "\n",
    "px2 = noms(u3_6V.I_BE) * 1e3\n",
    "py2 = noms(u3_6V.I_CE) * 1e3\n",
    "\n",
    "px3 = noms(u3_10V.I_BE) * 1e3\n",
    "py3 = noms(u3_10V.I_CE) * 1e3\n",
    "\n",
    "fit1 = FitCurve(f_line, px1, py1)\n",
    "fit2 = FitCurve(f_line, px2, py2)\n",
    "fit3 = FitCurve(f_line, px3, py3)\n",
    "\n",
    "beta_2V = fit1.params[0]\n",
    "beta_6V = fit2.params[0]\n",
    "beta_10V = fit3.params[0]\n",
    "\n",
    "ax.plot(*fit1.curve(), \"-.\")\n",
    "ax.plot(*fit2.curve(), \"--\")\n",
    "ax.plot(*fit3.curve(), \":\")\n",
    "\n",
    "ax.plot(px1, py1, \"kx\", ms=5, label=\"$U_{CE} = \\SI{2}{V}$\")\n",
    "ax.plot(px2, py2, \"k+\", ms=6, label=\"$U_{CE} = \\SI{6}{V}$\")\n",
    "ax.plot(px3, py3, \"ko\", ms=3, mfc=\"none\", label=\"$U_{CE} = \\SI{10}{V}$\")\n",
    "\n",
    "ax.set_xlabel(\"$I_{BE} [\\si{mA}]$\")\n",
    "ax.set_ylabel(\"$I_{CE} [\\si{mA}]$\")\n",
    "ax.legend()\n",
    "\n",
    "plt.tight_layout()\n",
    "plt.savefig(\"../plot/u3.pdf\")"
   ]
  },
  {
   "cell_type": "code",
   "execution_count": 35,
   "metadata": {},
   "outputs": [
    {
     "name": "stdout",
     "output_type": "stream",
     "text": [
      "143.7 \\pm 0.4\n"
     ]
    }
   ],
   "source": [
    "print(f\"{beta_10V:L}\")"
   ]
  },
  {
   "cell_type": "code",
   "execution_count": 93,
   "metadata": {},
   "outputs": [],
   "source": [
    "def latex_table(df):\n",
    "    col_names = list(df.columns)\n",
    "    cols = {}\n",
    "    \n",
    "    for c in list(df.columns):\n",
    "        err = stds(df[c])\n",
    "        if sp.count_nonzero(err) > 0: \n",
    "            cols[c] = []\n",
    "            cols[f\"s_{c}\"] = []\n",
    "            for v in df[c]:\n",
    "                nom_cast, err_cast = \"{:1}\".format(v).split(\"+/-\")\n",
    "                cols[c].append(nom_cast)\n",
    "                cols[f\"s_{c}\"].append(err_cast)\n",
    "        else:\n",
    "            cols[c] = list(df[c])\n",
    "    for name, data in cols.items():\n",
    "        longest = len(name)\n",
    "        for val in data:\n",
    "            if len(str(val)) > longest:\n",
    "                longest = len(str(val))\n",
    "        cols[name] = list(map(lambda h: str(h).ljust(longest + 1), data))\n",
    "    \n",
    "    cols_list = []\n",
    "    for i in range(len(col_names)):\n",
    "        cols_list.append([col_names[0]] + cols[col_names[0]])\n",
    "        try:\n",
    "            cols_list.append([f\"s_{col_names[0]}\"] + cols[f\"s_{col_names[0]}\"])\n",
    "        except KeyError:\n",
    "            pass\n",
    "        col_names.pop(0)\n",
    "    \n",
    "    for i in cols_list:\n",
    "        i[0] = i[0].ljust(len(i[1]))\n",
    "    \n",
    "    rows_list = list(map(list, zip(*cols_list)))\n",
    "    \n",
    "    rows = [\"& \".join(r) for r in rows_list]\n",
    "    \n",
    "    out = \"\\\\\\\\ \\n\".join(rows) + \"\\\\\\\\\"\n",
    "    \n",
    "    return out"
   ]
  },
  {
   "cell_type": "code",
   "execution_count": 112,
   "metadata": {},
   "outputs": [
    {
     "name": "stdout",
     "output_type": "stream",
     "text": [
      "0.052 & 0.003 & 7.56 & 0.03 \\\\\n",
      "0.100 & 0.003 & 14.55 & 0.05 \\\\\n",
      "0.151 & 0.003 & 21.9 & 0.1 \\\\\n",
      "0.198 & 0.003 & 28.6 & 0.1 \\\\\n",
      "0.249 & 0.003 & 36.0 & 0.1 \\\\\n",
      "0.297 & 0.003 & 42.6 & 0.2 \\\\\n"
     ]
    }
   ],
   "source": [
    "for g, h in zip(u3_10V.I_BE * 1e3, u3_10V.I_CE * 1e3):\n",
    "    print(f\"{g:.1u} & {h:.1u} \\\\\\\\\".replace(\"+/-\", \" & \"))\n"
   ]
  },
  {
   "cell_type": "code",
   "execution_count": null,
   "metadata": {},
   "outputs": [],
   "source": []
  }
 ],
 "metadata": {
  "kernelspec": {
   "display_name": "Python 3",
   "language": "python",
   "name": "python3"
  },
  "language_info": {
   "codemirror_mode": {
    "name": "ipython",
    "version": 3
   },
   "file_extension": ".py",
   "mimetype": "text/x-python",
   "name": "python",
   "nbconvert_exporter": "python",
   "pygments_lexer": "ipython3",
   "version": "3.6.1"
  }
 },
 "nbformat": 4,
 "nbformat_minor": 2
}
