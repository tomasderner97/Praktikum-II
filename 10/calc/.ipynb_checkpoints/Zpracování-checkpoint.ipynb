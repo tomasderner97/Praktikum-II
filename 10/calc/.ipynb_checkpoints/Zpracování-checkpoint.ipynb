{
 "cells": [
  {
   "cell_type": "markdown",
   "metadata": {},
   "source": [
    "# Název"
   ]
  },
  {
   "cell_type": "code",
   "execution_count": 40,
   "metadata": {},
   "outputs": [],
   "source": [
    "from protokol import *\n",
    "import uncertainties\n",
    "from uncertainties import ufloat as uf\n",
    "from uncertainties.unumpy import nominal_values as noms\n",
    "from uncertainties.unumpy import std_devs as stds\n",
    "import uncertainties.umath as um"
   ]
  },
  {
   "cell_type": "code",
   "execution_count": 2,
   "metadata": {},
   "outputs": [],
   "source": [
    "%matplotlib inline\n",
    "plt.rcParams[\"figure.figsize\"] = (4*1.5,2.5*1.5)\n",
    "plt.rcParams[\"figure.dpi\"] = 100\n",
    "plt.rcParams[\"text.usetex\"] = True\n",
    "plt.rcParams[\"font.family\"] = \"serif\"\n",
    "plt.rcParams[\"font.serif\"] = [\"Computer Modern\"]\n",
    "plt.rcParams[\"text.latex.preamble\"] = r\"\"\"\n",
    "\\usepackage[decimalsymbol=comma]{siunitx}\n",
    "\"\"\""
   ]
  },
  {
   "cell_type": "code",
   "execution_count": 32,
   "metadata": {
    "collapsed": true
   },
   "outputs": [],
   "source": [
    "def relative(self):\n",
    "    return self.s / self.n\n",
    "\n",
    "uncertainties.core.Variable.rel = relative"
   ]
  },
  {
   "cell_type": "markdown",
   "metadata": {},
   "source": [
    "## Definice"
   ]
  },
  {
   "cell_type": "code",
   "execution_count": 153,
   "metadata": {
    "collapsed": true
   },
   "outputs": [],
   "source": [
    "rozm_vzorku = {\n",
    "    \"l\": uf(6.000, 0.005),\n",
    "    \"d\": uf(3.350, 0.005),\n",
    "    \"t\": uf(0.720, 0.005)\n",
    "}\n",
    "\n",
    "ItB = 0.098\n",
    "\n",
    "r_h = 3 * sp.pi / 8\n",
    "e = 1.6022e-19"
   ]
  },
  {
   "cell_type": "code",
   "execution_count": 111,
   "metadata": {
    "collapsed": true
   },
   "outputs": [],
   "source": [
    "def primka(x, a, b):\n",
    "    return a*x + b"
   ]
  },
  {
   "cell_type": "markdown",
   "metadata": {},
   "source": [
    "## Úkol 1"
   ]
  },
  {
   "cell_type": "code",
   "execution_count": 43,
   "metadata": {},
   "outputs": [],
   "source": [
    "df_u1 = pd.read_csv(\"../raw/u1.txt\", delim_whitespace=True).iloc[::-1]"
   ]
  },
  {
   "cell_type": "code",
   "execution_count": 44,
   "metadata": {},
   "outputs": [],
   "source": [
    "df_u1.U = df_u1.U.apply(lambda h: uf(h, 0.003*h + 0.002))\n",
    "df_u1.I = df_u1.I.apply(lambda h: uf(h, 0.005*h + 0.005))"
   ]
  },
  {
   "cell_type": "code",
   "execution_count": 46,
   "metadata": {},
   "outputs": [
    {
     "data": {
      "text/html": [
       "<div>\n",
       "<style>\n",
       "    .dataframe thead tr:only-child th {\n",
       "        text-align: right;\n",
       "    }\n",
       "\n",
       "    .dataframe thead th {\n",
       "        text-align: left;\n",
       "    }\n",
       "\n",
       "    .dataframe tbody tr th {\n",
       "        vertical-align: top;\n",
       "    }\n",
       "</style>\n",
       "<table border=\"1\" class=\"dataframe\">\n",
       "  <thead>\n",
       "    <tr style=\"text-align: right;\">\n",
       "      <th></th>\n",
       "      <th>U</th>\n",
       "      <th>I</th>\n",
       "    </tr>\n",
       "  </thead>\n",
       "  <tbody>\n",
       "    <tr>\n",
       "      <th>9</th>\n",
       "      <td>0.2360+/-0.0027</td>\n",
       "      <td>0.496+/-0.007</td>\n",
       "    </tr>\n",
       "    <tr>\n",
       "      <th>8</th>\n",
       "      <td>0.4820+/-0.0034</td>\n",
       "      <td>1.016+/-0.010</td>\n",
       "    </tr>\n",
       "    <tr>\n",
       "      <th>7</th>\n",
       "      <td>0.705+/-0.004</td>\n",
       "      <td>1.485+/-0.012</td>\n",
       "    </tr>\n",
       "    <tr>\n",
       "      <th>6</th>\n",
       "      <td>0.964+/-0.005</td>\n",
       "      <td>2.038+/-0.015</td>\n",
       "    </tr>\n",
       "    <tr>\n",
       "      <th>5</th>\n",
       "      <td>1.163+/-0.005</td>\n",
       "      <td>2.452+/-0.017</td>\n",
       "    </tr>\n",
       "    <tr>\n",
       "      <th>4</th>\n",
       "      <td>1.424+/-0.006</td>\n",
       "      <td>3.011+/-0.020</td>\n",
       "    </tr>\n",
       "    <tr>\n",
       "      <th>3</th>\n",
       "      <td>1.637+/-0.007</td>\n",
       "      <td>3.469+/-0.022</td>\n",
       "    </tr>\n",
       "    <tr>\n",
       "      <th>2</th>\n",
       "      <td>1.855+/-0.008</td>\n",
       "      <td>3.939+/-0.025</td>\n",
       "    </tr>\n",
       "    <tr>\n",
       "      <th>1</th>\n",
       "      <td>2.091+/-0.008</td>\n",
       "      <td>4.458+/-0.027</td>\n",
       "    </tr>\n",
       "    <tr>\n",
       "      <th>0</th>\n",
       "      <td>2.323+/-0.009</td>\n",
       "      <td>4.967+/-0.030</td>\n",
       "    </tr>\n",
       "  </tbody>\n",
       "</table>\n",
       "</div>"
      ],
      "text/plain": [
       "                 U              I\n",
       "9  0.2360+/-0.0027  0.496+/-0.007\n",
       "8  0.4820+/-0.0034  1.016+/-0.010\n",
       "7    0.705+/-0.004  1.485+/-0.012\n",
       "6    0.964+/-0.005  2.038+/-0.015\n",
       "5    1.163+/-0.005  2.452+/-0.017\n",
       "4    1.424+/-0.006  3.011+/-0.020\n",
       "3    1.637+/-0.007  3.469+/-0.022\n",
       "2    1.855+/-0.008  3.939+/-0.025\n",
       "1    2.091+/-0.008  4.458+/-0.027\n",
       "0    2.323+/-0.009  4.967+/-0.030"
      ]
     },
     "execution_count": 46,
     "metadata": {},
     "output_type": "execute_result"
    }
   ],
   "source": [
    "df_u1"
   ]
  },
  {
   "cell_type": "code",
   "execution_count": 136,
   "metadata": {},
   "outputs": [
    {
     "data": {
      "image/png": "[encoded data removed]",
      "text/plain": [
       "<matplotlib.figure.Figure at 0x1f9c6b45828>"
      ]
     },
     "metadata": {},
     "output_type": "display_data"
    }
   ],
   "source": [
    "fig = plt.figure(figsize=(4*1.5,2.3*1.5))\n",
    "ax = plt.axes()\n",
    "\n",
    "params, errs = fit(primka, noms(df_u1.U), noms(df_u1.I), sigma=stds(df_u1.I))\n",
    "A = uf(params[0], errs[0])\n",
    "\n",
    "ax.plot(*curve(noms(df_u1.U), primka, params), \"--\", c=\"gray\")\n",
    "ax.plot(noms(df_u1.U), noms(df_u1.I), \"xk\")\n",
    "ax.set_xlabel(\"$U[\\si{V}]$\")\n",
    "ax.set_ylabel(\"$I_{B=\\SI{0}{T}}[\\si{mA}]$\")\n",
    "\n",
    "\n",
    "fig.tight_layout()\n",
    "fig.savefig(\"../plot/u1.pdf\")"
   ]
  },
  {
   "cell_type": "markdown",
   "metadata": {},
   "source": [
    "## Úkol 2"
   ]
  },
  {
   "cell_type": "code",
   "execution_count": 120,
   "metadata": {},
   "outputs": [],
   "source": [
    "df_1mA = pd.read_csv(\"../raw/u2_1mA.txt\", delim_whitespace=True).iloc[::-1].reset_index().drop(\"index\", 1)\n",
    "df_45mA = pd.read_csv(\"../raw/u2_4.5mA.txt\", delim_whitespace=True).iloc[::-1].reset_index().drop(\"index\", 1)\n",
    "df2s = (df_1mA, df_45mA)"
   ]
  },
  {
   "cell_type": "code",
   "execution_count": 121,
   "metadata": {},
   "outputs": [],
   "source": [
    "for df in df2s:\n",
    "    df.IB = df.IB.apply(lambda h: uf(h, 0.005*6))\n",
    "    df.IB[0].std_dev = df.IB[1].std_dev = 0.005 * 1.2\n",
    "    df.U1 = df.U1.apply(lambda h: uf(h, 0.0005*h + 0.03))\n",
    "    df.U2 = df.U2.apply(lambda h: uf(h, 0.0005*sp.absolute(h) + 0.03))\n",
    "    \n",
    "df_45mA.U1[6:] = df_45mA.U1[6:].apply(lambda h: uf(h.n, 0.001*sp.absolute(h.n) + 0.3))\n",
    "   \n",
    "for df in df2s:\n",
    "    df[\"U\"] = (df.U1 - df.U2)/2\n",
    "    df[\"B\"] = df.IB * ItB"
   ]
  },
  {
   "cell_type": "markdown",
   "metadata": {},
   "source": [
    "### 1 mA"
   ]
  },
  {
   "cell_type": "code",
   "execution_count": 122,
   "metadata": {},
   "outputs": [
    {
     "data": {
      "text/html": [
       "<div>\n",
       "<style>\n",
       "    .dataframe thead tr:only-child th {\n",
       "        text-align: right;\n",
       "    }\n",
       "\n",
       "    .dataframe thead th {\n",
       "        text-align: left;\n",
       "    }\n",
       "\n",
       "    .dataframe tbody tr th {\n",
       "        vertical-align: top;\n",
       "    }\n",
       "</style>\n",
       "<table border=\"1\" class=\"dataframe\">\n",
       "  <thead>\n",
       "    <tr style=\"text-align: right;\">\n",
       "      <th></th>\n",
       "      <th>IB</th>\n",
       "      <th>U1</th>\n",
       "      <th>U2</th>\n",
       "      <th>U</th>\n",
       "      <th>B</th>\n",
       "    </tr>\n",
       "  </thead>\n",
       "  <tbody>\n",
       "    <tr>\n",
       "      <th>0</th>\n",
       "      <td>0.500+/-0.006</td>\n",
       "      <td>17.65+/-0.04</td>\n",
       "      <td>9.050+/-0.035</td>\n",
       "      <td>4.300+/-0.026</td>\n",
       "      <td>0.0490+/-0.0006</td>\n",
       "    </tr>\n",
       "    <tr>\n",
       "      <th>1</th>\n",
       "      <td>1.000+/-0.006</td>\n",
       "      <td>22.37+/-0.04</td>\n",
       "      <td>4.530+/-0.032</td>\n",
       "      <td>8.920+/-0.026</td>\n",
       "      <td>0.0980+/-0.0006</td>\n",
       "    </tr>\n",
       "    <tr>\n",
       "      <th>2</th>\n",
       "      <td>1.500+/-0.030</td>\n",
       "      <td>26.73+/-0.04</td>\n",
       "      <td>-0.570+/-0.030</td>\n",
       "      <td>13.650+/-0.026</td>\n",
       "      <td>0.1470+/-0.0029</td>\n",
       "    </tr>\n",
       "    <tr>\n",
       "      <th>3</th>\n",
       "      <td>2.000+/-0.030</td>\n",
       "      <td>31.93+/-0.05</td>\n",
       "      <td>-4.580+/-0.032</td>\n",
       "      <td>18.255+/-0.028</td>\n",
       "      <td>0.1960+/-0.0029</td>\n",
       "    </tr>\n",
       "    <tr>\n",
       "      <th>4</th>\n",
       "      <td>2.500+/-0.030</td>\n",
       "      <td>36.37+/-0.05</td>\n",
       "      <td>-8.930+/-0.034</td>\n",
       "      <td>22.650+/-0.030</td>\n",
       "      <td>0.2450+/-0.0029</td>\n",
       "    </tr>\n",
       "    <tr>\n",
       "      <th>5</th>\n",
       "      <td>3.000+/-0.030</td>\n",
       "      <td>40.75+/-0.05</td>\n",
       "      <td>-13.12+/-0.04</td>\n",
       "      <td>26.935+/-0.031</td>\n",
       "      <td>0.2940+/-0.0029</td>\n",
       "    </tr>\n",
       "    <tr>\n",
       "      <th>6</th>\n",
       "      <td>3.500+/-0.030</td>\n",
       "      <td>44.99+/-0.05</td>\n",
       "      <td>-16.87+/-0.04</td>\n",
       "      <td>30.930+/-0.033</td>\n",
       "      <td>0.3430+/-0.0029</td>\n",
       "    </tr>\n",
       "    <tr>\n",
       "      <th>7</th>\n",
       "      <td>4.000+/-0.030</td>\n",
       "      <td>48.63+/-0.05</td>\n",
       "      <td>-21.04+/-0.04</td>\n",
       "      <td>34.835+/-0.034</td>\n",
       "      <td>0.3920+/-0.0029</td>\n",
       "    </tr>\n",
       "  </tbody>\n",
       "</table>\n",
       "</div>"
      ],
      "text/plain": [
       "              IB            U1              U2               U  \\\n",
       "0  0.500+/-0.006  17.65+/-0.04   9.050+/-0.035   4.300+/-0.026   \n",
       "1  1.000+/-0.006  22.37+/-0.04   4.530+/-0.032   8.920+/-0.026   \n",
       "2  1.500+/-0.030  26.73+/-0.04  -0.570+/-0.030  13.650+/-0.026   \n",
       "3  2.000+/-0.030  31.93+/-0.05  -4.580+/-0.032  18.255+/-0.028   \n",
       "4  2.500+/-0.030  36.37+/-0.05  -8.930+/-0.034  22.650+/-0.030   \n",
       "5  3.000+/-0.030  40.75+/-0.05   -13.12+/-0.04  26.935+/-0.031   \n",
       "6  3.500+/-0.030  44.99+/-0.05   -16.87+/-0.04  30.930+/-0.033   \n",
       "7  4.000+/-0.030  48.63+/-0.05   -21.04+/-0.04  34.835+/-0.034   \n",
       "\n",
       "                 B  \n",
       "0  0.0490+/-0.0006  \n",
       "1  0.0980+/-0.0006  \n",
       "2  0.1470+/-0.0029  \n",
       "3  0.1960+/-0.0029  \n",
       "4  0.2450+/-0.0029  \n",
       "5  0.2940+/-0.0029  \n",
       "6  0.3430+/-0.0029  \n",
       "7  0.3920+/-0.0029  "
      ]
     },
     "execution_count": 122,
     "metadata": {},
     "output_type": "execute_result"
    }
   ],
   "source": [
    "df_1mA"
   ]
  },
  {
   "cell_type": "markdown",
   "metadata": {},
   "source": [
    "### 4.5 mA"
   ]
  },
  {
   "cell_type": "code",
   "execution_count": 123,
   "metadata": {
    "scrolled": true
   },
   "outputs": [
    {
     "data": {
      "text/html": [
       "<div>\n",
       "<style>\n",
       "    .dataframe thead tr:only-child th {\n",
       "        text-align: right;\n",
       "    }\n",
       "\n",
       "    .dataframe thead th {\n",
       "        text-align: left;\n",
       "    }\n",
       "\n",
       "    .dataframe tbody tr th {\n",
       "        vertical-align: top;\n",
       "    }\n",
       "</style>\n",
       "<table border=\"1\" class=\"dataframe\">\n",
       "  <thead>\n",
       "    <tr style=\"text-align: right;\">\n",
       "      <th></th>\n",
       "      <th>IB</th>\n",
       "      <th>U1</th>\n",
       "      <th>U2</th>\n",
       "      <th>U</th>\n",
       "      <th>B</th>\n",
       "    </tr>\n",
       "  </thead>\n",
       "  <tbody>\n",
       "    <tr>\n",
       "      <th>0</th>\n",
       "      <td>0.500+/-0.006</td>\n",
       "      <td>87.78+/-0.07</td>\n",
       "      <td>52.80+/-0.06</td>\n",
       "      <td>17.49+/-0.05</td>\n",
       "      <td>0.0490+/-0.0006</td>\n",
       "    </tr>\n",
       "    <tr>\n",
       "      <th>1</th>\n",
       "      <td>1.000+/-0.006</td>\n",
       "      <td>106.90+/-0.08</td>\n",
       "      <td>34.55+/-0.05</td>\n",
       "      <td>36.18+/-0.05</td>\n",
       "      <td>0.0980+/-0.0006</td>\n",
       "    </tr>\n",
       "    <tr>\n",
       "      <th>2</th>\n",
       "      <td>1.500+/-0.030</td>\n",
       "      <td>125.57+/-0.09</td>\n",
       "      <td>16.15+/-0.04</td>\n",
       "      <td>54.71+/-0.05</td>\n",
       "      <td>0.1470+/-0.0029</td>\n",
       "    </tr>\n",
       "    <tr>\n",
       "      <th>3</th>\n",
       "      <td>2.000+/-0.030</td>\n",
       "      <td>145.95+/-0.10</td>\n",
       "      <td>-1.250+/-0.031</td>\n",
       "      <td>73.60+/-0.05</td>\n",
       "      <td>0.1960+/-0.0029</td>\n",
       "    </tr>\n",
       "    <tr>\n",
       "      <th>4</th>\n",
       "      <td>2.500+/-0.030</td>\n",
       "      <td>164.35+/-0.11</td>\n",
       "      <td>-19.70+/-0.04</td>\n",
       "      <td>92.02+/-0.06</td>\n",
       "      <td>0.2450+/-0.0029</td>\n",
       "    </tr>\n",
       "    <tr>\n",
       "      <th>5</th>\n",
       "      <td>3.000+/-0.030</td>\n",
       "      <td>184.60+/-0.12</td>\n",
       "      <td>-37.75+/-0.05</td>\n",
       "      <td>111.17+/-0.07</td>\n",
       "      <td>0.2940+/-0.0029</td>\n",
       "    </tr>\n",
       "    <tr>\n",
       "      <th>6</th>\n",
       "      <td>3.500+/-0.030</td>\n",
       "      <td>202.2+/-0.5</td>\n",
       "      <td>-54.21+/-0.06</td>\n",
       "      <td>128.20+/-0.25</td>\n",
       "      <td>0.3430+/-0.0029</td>\n",
       "    </tr>\n",
       "    <tr>\n",
       "      <th>7</th>\n",
       "      <td>4.000+/-0.030</td>\n",
       "      <td>219.4+/-0.5</td>\n",
       "      <td>-71.58+/-0.07</td>\n",
       "      <td>145.49+/-0.26</td>\n",
       "      <td>0.3920+/-0.0029</td>\n",
       "    </tr>\n",
       "  </tbody>\n",
       "</table>\n",
       "</div>"
      ],
      "text/plain": [
       "              IB             U1              U2              U  \\\n",
       "0  0.500+/-0.006   87.78+/-0.07    52.80+/-0.06   17.49+/-0.05   \n",
       "1  1.000+/-0.006  106.90+/-0.08    34.55+/-0.05   36.18+/-0.05   \n",
       "2  1.500+/-0.030  125.57+/-0.09    16.15+/-0.04   54.71+/-0.05   \n",
       "3  2.000+/-0.030  145.95+/-0.10  -1.250+/-0.031   73.60+/-0.05   \n",
       "4  2.500+/-0.030  164.35+/-0.11   -19.70+/-0.04   92.02+/-0.06   \n",
       "5  3.000+/-0.030  184.60+/-0.12   -37.75+/-0.05  111.17+/-0.07   \n",
       "6  3.500+/-0.030    202.2+/-0.5   -54.21+/-0.06  128.20+/-0.25   \n",
       "7  4.000+/-0.030    219.4+/-0.5   -71.58+/-0.07  145.49+/-0.26   \n",
       "\n",
       "                 B  \n",
       "0  0.0490+/-0.0006  \n",
       "1  0.0980+/-0.0006  \n",
       "2  0.1470+/-0.0029  \n",
       "3  0.1960+/-0.0029  \n",
       "4  0.2450+/-0.0029  \n",
       "5  0.2940+/-0.0029  \n",
       "6  0.3430+/-0.0029  \n",
       "7  0.3920+/-0.0029  "
      ]
     },
     "execution_count": 123,
     "metadata": {},
     "output_type": "execute_result"
    }
   ],
   "source": [
    "df_45mA"
   ]
  },
  {
   "cell_type": "code",
   "execution_count": 147,
   "metadata": {},
   "outputs": [
    {
     "data": {
      "image/png": "[encoded data removed]",
      "text/plain": [
       "<matplotlib.figure.Figure at 0x1f9c6c0d588>"
      ]
     },
     "metadata": {},
     "output_type": "display_data"
    }
   ],
   "source": [
    "fig = plt.figure()\n",
    "ax = plt.axes()\n",
    "\n",
    "params1, errs1 = fit(primka, noms(df_1mA.B), noms(df_1mA.U), sigma=stds(df_1mA.U))\n",
    "params45, errs45 = fit(primka, noms(df_45mA.B), noms(df_45mA.U), sigma=stds(df_45mA.U))\n",
    "\n",
    "C1 = uf(params1[0], errs1[0])\n",
    "C45 = uf(params45[0], errs45[0])\n",
    "\n",
    "ax.plot(*curve(noms(df_1mA.B), primka, params1), \":\", c=\"gray\")\n",
    "ax.plot(*curve(noms(df_45mA.B), primka, params45), \"--\", c=\"gray\")\n",
    "\n",
    "ax.plot(noms(df_45mA.B), noms(df_45mA.U), \"kx\", label=\"hodnoty $I = \\SI{4,5}{mA}$\")\n",
    "ax.plot(noms(df_1mA.B) , noms(df_1mA.U) , \"k+\", label=\"hodnoty $I = \\SI{1}{mA}$\")\n",
    "\n",
    "ax.set_xlabel(\"$B[\\si{T}]$\")\n",
    "ax.set_ylabel(\"$U_{H}[\\si{mV}]$\")\n",
    "ax.legend()\n",
    "\n",
    "fig.tight_layout()\n",
    "fig.savefig(\"../plot/u2.pdf\")"
   ]
  },
  {
   "cell_type": "markdown",
   "metadata": {},
   "source": [
    "## Úkol 3"
   ]
  },
  {
   "cell_type": "code",
   "execution_count": 138,
   "metadata": {},
   "outputs": [
    {
     "name": "stdout",
     "output_type": "stream",
     "text": [
      "Vodivost = 5.30+/-0.04\n"
     ]
    }
   ],
   "source": [
    "vodivost = rozm_vzorku['l'] * A / (rozm_vzorku['t'] * rozm_vzorku['d'])\n",
    "print(f\"Vodivost = {vodivost}\")"
   ]
  },
  {
   "cell_type": "code",
   "execution_count": 149,
   "metadata": {},
   "outputs": [
    {
     "name": "stdout",
     "output_type": "stream",
     "text": [
      "0.0647+/-0.0010\n"
     ]
    }
   ],
   "source": [
    "R_H_1 = rozm_vzorku['t']*1e-3 * C1*1e-3 / 1e-3\n",
    "print(R_H_1)"
   ]
  },
  {
   "cell_type": "code",
   "execution_count": 148,
   "metadata": {},
   "outputs": [
    {
     "name": "stdout",
     "output_type": "stream",
     "text": [
      "0.0609+/-0.0005\n"
     ]
    }
   ],
   "source": [
    "R_H_45 = rozm_vzorku['t']*1e-3 * C45*1e-3 / 4.5e-3\n",
    "print(R_H_45)"
   ]
  },
  {
   "cell_type": "code",
   "execution_count": 151,
   "metadata": {},
   "outputs": [
    {
     "data": {
      "text/plain": [
       "0.06281388593729459+/-0.0006346292338586541"
      ]
     },
     "execution_count": 151,
     "metadata": {},
     "output_type": "execute_result"
    }
   ],
   "source": [
    "R_H = (R_H_1 + R_H_45) / 2\n",
    "R_H"
   ]
  },
  {
   "cell_type": "markdown",
   "metadata": {},
   "source": [
    "## Úkol 4"
   ]
  },
  {
   "cell_type": "code",
   "execution_count": 156,
   "metadata": {},
   "outputs": [
    {
     "name": "stdout",
     "output_type": "stream",
     "text": [
      "(1.171+/-0.012)e+20\n"
     ]
    }
   ],
   "source": [
    "n = r_h / (e * R_H)\n",
    "print(n)"
   ]
  },
  {
   "cell_type": "code",
   "execution_count": 158,
   "metadata": {},
   "outputs": [
    {
     "name": "stdout",
     "output_type": "stream",
     "text": [
      "0.2824+/-0.0022\n"
     ]
    }
   ],
   "source": [
    "mi_n = vodivost / (e*n)\n",
    "print(mi_n)"
   ]
  },
  {
   "cell_type": "markdown",
   "metadata": {},
   "source": [
    "## Pokusy"
   ]
  },
  {
   "cell_type": "code",
   "execution_count": 162,
   "metadata": {},
   "outputs": [
    {
     "name": "stdout",
     "output_type": "stream",
     "text": [
      "380.7+/-1.4\n"
     ]
    }
   ],
   "source": [
    "print(C45)"
   ]
  },
  {
   "cell_type": "code",
   "execution_count": null,
   "metadata": {
    "collapsed": true
   },
   "outputs": [],
   "source": []
  }
 ],
 "metadata": {
  "kernelspec": {
   "display_name": "Python 3",
   "language": "python",
   "name": "python3"
  },
  "language_info": {
   "codemirror_mode": {
    "name": "ipython",
    "version": 3
   },
   "file_extension": ".py",
   "mimetype": "text/x-python",
   "name": "python",
   "nbconvert_exporter": "python",
   "pygments_lexer": "ipython3",
   "version": "3.6.1"
  }
 },
 "nbformat": 4,
 "nbformat_minor": 2
}
