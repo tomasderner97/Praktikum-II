{
 "cells": [
  {
   "cell_type": "markdown",
   "metadata": {},
   "source": [
    "# Měření osciloskopem"
   ]
  },
  {
   "cell_type": "code",
   "execution_count": 8,
   "metadata": {
    "collapsed": true
   },
   "outputs": [],
   "source": [
    "from protokol import *\n",
    "from uncertainties import ufloat as uf\n",
    "import uncertainties.unumpy as unumpy\n",
    "import uncertainties.umath as um"
   ]
  },
  {
   "cell_type": "code",
   "execution_count": 2,
   "metadata": {},
   "outputs": [],
   "source": [
    "%matplotlib inline\n",
    "plt.rcParams[\"figure.figsize\"] = (4*1.5,2.5*1.5)\n",
    "plt.rcParams[\"figure.dpi\"] = 100\n",
    "plt.rcParams[\"text.usetex\"] = True\n",
    "plt.rcParams[\"text.latex.unicode\"] = True\n",
    "plt.rcParams[\"font.family\"] = \"serif\"\n",
    "plt.rcParams[\"font.serif\"] = [\"Computer Modern\"]"
   ]
  },
  {
   "cell_type": "code",
   "execution_count": 3,
   "metadata": {
    "collapsed": true
   },
   "outputs": [],
   "source": [
    "pd.set_option(\"display.float_format\", \"{:.2g}\".format)"
   ]
  },
  {
   "cell_type": "markdown",
   "metadata": {},
   "source": [
    "## Definice"
   ]
  },
  {
   "cell_type": "code",
   "execution_count": null,
   "metadata": {
    "collapsed": true
   },
   "outputs": [],
   "source": []
  },
  {
   "cell_type": "markdown",
   "metadata": {},
   "source": [
    "## Úkol 1"
   ]
  },
  {
   "cell_type": "code",
   "execution_count": 12,
   "metadata": {},
   "outputs": [
    {
     "name": "stdout",
     "output_type": "stream",
     "text": [
      "10.85+/-0.08\n"
     ]
    }
   ],
   "source": [
    "U_ef = 7.67\n",
    "U_ef_err = U_ef * 0.6/100 + 0.01\n",
    "U_0_mm = uf(U_ef, U_ef_err) * sp.sqrt(2)\n",
    "print(U_0_mm)"
   ]
  },
  {
   "cell_type": "markdown",
   "metadata": {},
   "source": [
    "## Úkol 2a"
   ]
  },
  {
   "cell_type": "code",
   "execution_count": 16,
   "metadata": {},
   "outputs": [
    {
     "data": {
      "text/html": [
       "<div>\n",
       "<style>\n",
       "    .dataframe thead tr:only-child th {\n",
       "        text-align: right;\n",
       "    }\n",
       "\n",
       "    .dataframe thead th {\n",
       "        text-align: left;\n",
       "    }\n",
       "\n",
       "    .dataframe tbody tr th {\n",
       "        vertical-align: top;\n",
       "    }\n",
       "</style>\n",
       "<table border=\"1\" class=\"dataframe\">\n",
       "  <thead>\n",
       "    <tr style=\"text-align: right;\">\n",
       "      <th></th>\n",
       "      <th>C</th>\n",
       "      <th>U</th>\n",
       "    </tr>\n",
       "  </thead>\n",
       "  <tbody>\n",
       "    <tr>\n",
       "      <th>0</th>\n",
       "      <td>1e-10</td>\n",
       "      <td>3.3</td>\n",
       "    </tr>\n",
       "    <tr>\n",
       "      <th>1</th>\n",
       "      <td>1e-08</td>\n",
       "      <td>3.3</td>\n",
       "    </tr>\n",
       "    <tr>\n",
       "      <th>2</th>\n",
       "      <td>2e-08</td>\n",
       "      <td>3.5</td>\n",
       "    </tr>\n",
       "    <tr>\n",
       "      <th>3</th>\n",
       "      <td>3e-08</td>\n",
       "      <td>3.9</td>\n",
       "    </tr>\n",
       "    <tr>\n",
       "      <th>4</th>\n",
       "      <td>4e-08</td>\n",
       "      <td>4.2</td>\n",
       "    </tr>\n",
       "  </tbody>\n",
       "</table>\n",
       "</div>"
      ],
      "text/plain": [
       "      C   U\n",
       "0 1e-10 3.3\n",
       "1 1e-08 3.3\n",
       "2 2e-08 3.5\n",
       "3 3e-08 3.9\n",
       "4 4e-08 4.2"
      ]
     },
     "execution_count": 16,
     "metadata": {},
     "output_type": "execute_result"
    }
   ],
   "source": [
    "df2a = pd.read_csv(\"../raw/u2a.txt\", delim_whitespace=True)\n",
    "df2a.head()"
   ]
  },
  {
   "cell_type": "code",
   "execution_count": 18,
   "metadata": {},
   "outputs": [
    {
     "data": {
      "text/html": [
       "<div>\n",
       "<style>\n",
       "    .dataframe thead tr:only-child th {\n",
       "        text-align: right;\n",
       "    }\n",
       "\n",
       "    .dataframe thead th {\n",
       "        text-align: left;\n",
       "    }\n",
       "\n",
       "    .dataframe tbody tr th {\n",
       "        vertical-align: top;\n",
       "    }\n",
       "</style>\n",
       "<table border=\"1\" class=\"dataframe\">\n",
       "  <thead>\n",
       "    <tr style=\"text-align: right;\">\n",
       "      <th></th>\n",
       "      <th>C</th>\n",
       "      <th>U</th>\n",
       "      <th>C_chyba</th>\n",
       "    </tr>\n",
       "  </thead>\n",
       "  <tbody>\n",
       "    <tr>\n",
       "      <th>0</th>\n",
       "      <td>1e-10</td>\n",
       "      <td>3.3</td>\n",
       "      <td>1e-12</td>\n",
       "    </tr>\n",
       "    <tr>\n",
       "      <th>1</th>\n",
       "      <td>1e-08</td>\n",
       "      <td>3.3</td>\n",
       "      <td>1e-10</td>\n",
       "    </tr>\n",
       "    <tr>\n",
       "      <th>2</th>\n",
       "      <td>2e-08</td>\n",
       "      <td>3.5</td>\n",
       "      <td>2e-10</td>\n",
       "    </tr>\n",
       "    <tr>\n",
       "      <th>3</th>\n",
       "      <td>3e-08</td>\n",
       "      <td>3.9</td>\n",
       "      <td>3e-10</td>\n",
       "    </tr>\n",
       "    <tr>\n",
       "      <th>4</th>\n",
       "      <td>4e-08</td>\n",
       "      <td>4.2</td>\n",
       "      <td>4e-10</td>\n",
       "    </tr>\n",
       "  </tbody>\n",
       "</table>\n",
       "</div>"
      ],
      "text/plain": [
       "      C   U  C_chyba\n",
       "0 1e-10 3.3    1e-12\n",
       "1 1e-08 3.3    1e-10\n",
       "2 2e-08 3.5    2e-10\n",
       "3 3e-08 3.9    3e-10\n",
       "4 4e-08 4.2    4e-10"
      ]
     },
     "execution_count": 18,
     "metadata": {},
     "output_type": "execute_result"
    }
   ],
   "source": [
    "df2a[\"C_chyba\"] = df2a.C * 0.01\n",
    "df2a.head()"
   ]
  },
  {
   "cell_type": "code",
   "execution_count": 21,
   "metadata": {},
   "outputs": [
    {
     "data": {
      "text/html": [
       "<div>\n",
       "<style>\n",
       "    .dataframe thead tr:only-child th {\n",
       "        text-align: right;\n",
       "    }\n",
       "\n",
       "    .dataframe thead th {\n",
       "        text-align: left;\n",
       "    }\n",
       "\n",
       "    .dataframe tbody tr th {\n",
       "        vertical-align: top;\n",
       "    }\n",
       "</style>\n",
       "<table border=\"1\" class=\"dataframe\">\n",
       "  <thead>\n",
       "    <tr style=\"text-align: right;\">\n",
       "      <th></th>\n",
       "      <th>C</th>\n",
       "      <th>U</th>\n",
       "      <th>C_chyba</th>\n",
       "      <th>U_chyba</th>\n",
       "    </tr>\n",
       "  </thead>\n",
       "  <tbody>\n",
       "    <tr>\n",
       "      <th>0</th>\n",
       "      <td>1e-10</td>\n",
       "      <td>3.3</td>\n",
       "      <td>1e-12</td>\n",
       "      <td>0.2</td>\n",
       "    </tr>\n",
       "    <tr>\n",
       "      <th>1</th>\n",
       "      <td>1e-08</td>\n",
       "      <td>3.3</td>\n",
       "      <td>1e-10</td>\n",
       "      <td>0.2</td>\n",
       "    </tr>\n",
       "    <tr>\n",
       "      <th>2</th>\n",
       "      <td>2e-08</td>\n",
       "      <td>3.5</td>\n",
       "      <td>2e-10</td>\n",
       "      <td>0.2</td>\n",
       "    </tr>\n",
       "    <tr>\n",
       "      <th>3</th>\n",
       "      <td>3e-08</td>\n",
       "      <td>3.9</td>\n",
       "      <td>3e-10</td>\n",
       "      <td>0.2</td>\n",
       "    </tr>\n",
       "    <tr>\n",
       "      <th>4</th>\n",
       "      <td>4e-08</td>\n",
       "      <td>4.2</td>\n",
       "      <td>4e-10</td>\n",
       "      <td>0.3</td>\n",
       "    </tr>\n",
       "    <tr>\n",
       "      <th>5</th>\n",
       "      <td>5e-08</td>\n",
       "      <td>4.5</td>\n",
       "      <td>5e-10</td>\n",
       "      <td>0.3</td>\n",
       "    </tr>\n",
       "    <tr>\n",
       "      <th>6</th>\n",
       "      <td>6e-08</td>\n",
       "      <td>4.9</td>\n",
       "      <td>6e-10</td>\n",
       "      <td>0.3</td>\n",
       "    </tr>\n",
       "    <tr>\n",
       "      <th>7</th>\n",
       "      <td>7e-08</td>\n",
       "      <td>5.2</td>\n",
       "      <td>7e-10</td>\n",
       "      <td>0.3</td>\n",
       "    </tr>\n",
       "    <tr>\n",
       "      <th>8</th>\n",
       "      <td>8e-08</td>\n",
       "      <td>5.3</td>\n",
       "      <td>8e-10</td>\n",
       "      <td>0.3</td>\n",
       "    </tr>\n",
       "    <tr>\n",
       "      <th>9</th>\n",
       "      <td>9e-08</td>\n",
       "      <td>5.7</td>\n",
       "      <td>9e-10</td>\n",
       "      <td>0.3</td>\n",
       "    </tr>\n",
       "    <tr>\n",
       "      <th>10</th>\n",
       "      <td>1e-07</td>\n",
       "      <td>5.9</td>\n",
       "      <td>1e-09</td>\n",
       "      <td>0.3</td>\n",
       "    </tr>\n",
       "    <tr>\n",
       "      <th>11</th>\n",
       "      <td>2e-07</td>\n",
       "      <td>7.3</td>\n",
       "      <td>2e-09</td>\n",
       "      <td>0.3</td>\n",
       "    </tr>\n",
       "    <tr>\n",
       "      <th>12</th>\n",
       "      <td>3e-07</td>\n",
       "      <td>7.9</td>\n",
       "      <td>3e-09</td>\n",
       "      <td>0.3</td>\n",
       "    </tr>\n",
       "    <tr>\n",
       "      <th>13</th>\n",
       "      <td>5e-07</td>\n",
       "      <td>8.6</td>\n",
       "      <td>5e-09</td>\n",
       "      <td>0.3</td>\n",
       "    </tr>\n",
       "    <tr>\n",
       "      <th>14</th>\n",
       "      <td>7e-07</td>\n",
       "      <td>8.9</td>\n",
       "      <td>7e-09</td>\n",
       "      <td>0.2</td>\n",
       "    </tr>\n",
       "    <tr>\n",
       "      <th>15</th>\n",
       "      <td>1e-06</td>\n",
       "      <td>9.2</td>\n",
       "      <td>1e-08</td>\n",
       "      <td>0.2</td>\n",
       "    </tr>\n",
       "    <tr>\n",
       "      <th>16</th>\n",
       "      <td>2e-06</td>\n",
       "      <td>9.6</td>\n",
       "      <td>2e-08</td>\n",
       "      <td>0.2</td>\n",
       "    </tr>\n",
       "    <tr>\n",
       "      <th>17</th>\n",
       "      <td>3e-06</td>\n",
       "      <td>9.7</td>\n",
       "      <td>3e-08</td>\n",
       "      <td>0.1</td>\n",
       "    </tr>\n",
       "    <tr>\n",
       "      <th>18</th>\n",
       "      <td>4e-06</td>\n",
       "      <td>9.8</td>\n",
       "      <td>4e-08</td>\n",
       "      <td>0.1</td>\n",
       "    </tr>\n",
       "    <tr>\n",
       "      <th>19</th>\n",
       "      <td>5e-06</td>\n",
       "      <td>9.8</td>\n",
       "      <td>5e-08</td>\n",
       "      <td>0.1</td>\n",
       "    </tr>\n",
       "    <tr>\n",
       "      <th>20</th>\n",
       "      <td>6e-06</td>\n",
       "      <td>9.8</td>\n",
       "      <td>6e-08</td>\n",
       "      <td>0.1</td>\n",
       "    </tr>\n",
       "    <tr>\n",
       "      <th>21</th>\n",
       "      <td>7e-06</td>\n",
       "      <td>9.8</td>\n",
       "      <td>7e-08</td>\n",
       "      <td>0.1</td>\n",
       "    </tr>\n",
       "    <tr>\n",
       "      <th>22</th>\n",
       "      <td>8e-06</td>\n",
       "      <td>9.9</td>\n",
       "      <td>8e-08</td>\n",
       "      <td>0.1</td>\n",
       "    </tr>\n",
       "    <tr>\n",
       "      <th>23</th>\n",
       "      <td>9e-06</td>\n",
       "      <td>9.9</td>\n",
       "      <td>9e-08</td>\n",
       "      <td>0.1</td>\n",
       "    </tr>\n",
       "    <tr>\n",
       "      <th>24</th>\n",
       "      <td>1e-05</td>\n",
       "      <td>9.9</td>\n",
       "      <td>1e-07</td>\n",
       "      <td>0.1</td>\n",
       "    </tr>\n",
       "  </tbody>\n",
       "</table>\n",
       "</div>"
      ],
      "text/plain": [
       "       C   U  C_chyba  U_chyba\n",
       "0  1e-10 3.3    1e-12      0.2\n",
       "1  1e-08 3.3    1e-10      0.2\n",
       "2  2e-08 3.5    2e-10      0.2\n",
       "3  3e-08 3.9    3e-10      0.2\n",
       "4  4e-08 4.2    4e-10      0.3\n",
       "5  5e-08 4.5    5e-10      0.3\n",
       "6  6e-08 4.9    6e-10      0.3\n",
       "7  7e-08 5.2    7e-10      0.3\n",
       "8  8e-08 5.3    8e-10      0.3\n",
       "9  9e-08 5.7    9e-10      0.3\n",
       "10 1e-07 5.9    1e-09      0.3\n",
       "11 2e-07 7.3    2e-09      0.3\n",
       "12 3e-07 7.9    3e-09      0.3\n",
       "13 5e-07 8.6    5e-09      0.3\n",
       "14 7e-07 8.9    7e-09      0.2\n",
       "15 1e-06 9.2    1e-08      0.2\n",
       "16 2e-06 9.6    2e-08      0.2\n",
       "17 3e-06 9.7    3e-08      0.1\n",
       "18 4e-06 9.8    4e-08      0.1\n",
       "19 5e-06 9.8    5e-08      0.1\n",
       "20 6e-06 9.8    6e-08      0.1\n",
       "21 7e-06 9.8    7e-08      0.1\n",
       "22 8e-06 9.9    8e-08      0.1\n",
       "23 9e-06 9.9    9e-08      0.1\n",
       "24 1e-05 9.9    1e-07      0.1"
      ]
     },
     "execution_count": 21,
     "metadata": {},
     "output_type": "execute_result"
    }
   ],
   "source": [
    "df2a[\"U_chyba\"] = 0.2\n",
    "df2a.U_chyba[17:] = 0.1\n",
    "df2a.U_chyba[4:14] = 0.3\n",
    "df2a"
   ]
  },
  {
   "cell_type": "code",
   "execution_count": 92,
   "metadata": {},
   "outputs": [
    {
     "name": "stderr",
     "output_type": "stream",
     "text": [
      "C:\\tools\\Anaconda3\\lib\\site-packages\\scipy\\optimize\\minpack.py:779: OptimizeWarning: Covariance of the parameters could not be estimated\n",
      "  category=OptimizeWarning)\n"
     ]
    }
   ],
   "source": [
    "def f(x, a, b, c):\n",
    "    return a*x*x*x + b*x*x + c*x + d\n",
    "\n",
    "params, err = fit(f, df2a.C.values, df2a.U.values)\n"
   ]
  },
  {
   "cell_type": "code",
   "execution_count": 99,
   "metadata": {},
   "outputs": [
    {
     "data": {
      "image/png": "[encoded data removed]",
      "text/plain": [
       "<matplotlib.figure.Figure at 0x1f6d75d1d68>"
      ]
     },
     "metadata": {},
     "output_type": "display_data"
    }
   ],
   "source": [
    "fig, axes = plt.subplots()\n",
    "axes.set_ylabel(\"Stejnosměrná složka napětí [V]\")\n",
    "axes.set_xlabel(\"Filtrační kapacita [F]\")\n",
    "axes.ticklabel_format(style=\"sci\", scilimits=(0, 1000))\n",
    "axes.plot(df2a.C, df2a.U, \"k+\")\n",
    "fig.tight_layout()\n",
    "fig.savefig(\"../plot/u2a.pdf\")"
   ]
  },
  {
   "cell_type": "markdown",
   "metadata": {},
   "source": [
    "## Úkol 2b"
   ]
  },
  {
   "cell_type": "code",
   "execution_count": 40,
   "metadata": {},
   "outputs": [
    {
     "data": {
      "text/html": [
       "<div>\n",
       "<style>\n",
       "    .dataframe thead tr:only-child th {\n",
       "        text-align: right;\n",
       "    }\n",
       "\n",
       "    .dataframe thead th {\n",
       "        text-align: left;\n",
       "    }\n",
       "\n",
       "    .dataframe tbody tr th {\n",
       "        vertical-align: top;\n",
       "    }\n",
       "</style>\n",
       "<table border=\"1\" class=\"dataframe\">\n",
       "  <thead>\n",
       "    <tr style=\"text-align: right;\">\n",
       "      <th></th>\n",
       "      <th>I</th>\n",
       "      <th>C</th>\n",
       "    </tr>\n",
       "  </thead>\n",
       "  <tbody>\n",
       "    <tr>\n",
       "      <th>0</th>\n",
       "      <td>9.5e-05</td>\n",
       "      <td>1.5e-06</td>\n",
       "    </tr>\n",
       "    <tr>\n",
       "      <th>1</th>\n",
       "      <td>0.00011</td>\n",
       "      <td>1.7e-06</td>\n",
       "    </tr>\n",
       "    <tr>\n",
       "      <th>2</th>\n",
       "      <td>0.00012</td>\n",
       "      <td>1.9e-06</td>\n",
       "    </tr>\n",
       "    <tr>\n",
       "      <th>3</th>\n",
       "      <td>0.00014</td>\n",
       "      <td>2.1e-06</td>\n",
       "    </tr>\n",
       "    <tr>\n",
       "      <th>4</th>\n",
       "      <td>0.00015</td>\n",
       "      <td>2.4e-06</td>\n",
       "    </tr>\n",
       "    <tr>\n",
       "      <th>5</th>\n",
       "      <td>0.00019</td>\n",
       "      <td>2.9e-06</td>\n",
       "    </tr>\n",
       "    <tr>\n",
       "      <th>6</th>\n",
       "      <td>0.00023</td>\n",
       "      <td>3.6e-06</td>\n",
       "    </tr>\n",
       "    <tr>\n",
       "      <th>7</th>\n",
       "      <td>0.00031</td>\n",
       "      <td>4.8e-06</td>\n",
       "    </tr>\n",
       "    <tr>\n",
       "      <th>8</th>\n",
       "      <td>0.00045</td>\n",
       "      <td>7.1e-06</td>\n",
       "    </tr>\n",
       "    <tr>\n",
       "      <th>9</th>\n",
       "      <td>0.00056</td>\n",
       "      <td>9.2e-06</td>\n",
       "    </tr>\n",
       "  </tbody>\n",
       "</table>\n",
       "</div>"
      ],
      "text/plain": [
       "        I       C\n",
       "0 9.5e-05 1.5e-06\n",
       "1 0.00011 1.7e-06\n",
       "2 0.00012 1.9e-06\n",
       "3 0.00014 2.1e-06\n",
       "4 0.00015 2.4e-06\n",
       "5 0.00019 2.9e-06\n",
       "6 0.00023 3.6e-06\n",
       "7 0.00031 4.8e-06\n",
       "8 0.00045 7.1e-06\n",
       "9 0.00056 9.2e-06"
      ]
     },
     "execution_count": 40,
     "metadata": {},
     "output_type": "execute_result"
    }
   ],
   "source": [
    "df2b = pd.read_csv(\"../raw/u2b.txt\", delim_whitespace=True)\n",
    "df2b"
   ]
  },
  {
   "cell_type": "code",
   "execution_count": 41,
   "metadata": {
    "collapsed": true
   },
   "outputs": [],
   "source": [
    "df2b[\"I_chyba\"] = 1e-5\n",
    "df2b[\"C_chyba\"] = df2b.C * 0.01"
   ]
  },
  {
   "cell_type": "code",
   "execution_count": 42,
   "metadata": {
    "scrolled": false
   },
   "outputs": [
    {
     "data": {
      "text/html": [
       "<div>\n",
       "<style>\n",
       "    .dataframe thead tr:only-child th {\n",
       "        text-align: right;\n",
       "    }\n",
       "\n",
       "    .dataframe thead th {\n",
       "        text-align: left;\n",
       "    }\n",
       "\n",
       "    .dataframe tbody tr th {\n",
       "        vertical-align: top;\n",
       "    }\n",
       "</style>\n",
       "<table border=\"1\" class=\"dataframe\">\n",
       "  <thead>\n",
       "    <tr style=\"text-align: right;\">\n",
       "      <th></th>\n",
       "      <th>I</th>\n",
       "      <th>C</th>\n",
       "      <th>I_chyba</th>\n",
       "      <th>C_chyba</th>\n",
       "    </tr>\n",
       "  </thead>\n",
       "  <tbody>\n",
       "    <tr>\n",
       "      <th>0</th>\n",
       "      <td>9.5e-05</td>\n",
       "      <td>1.5e-06</td>\n",
       "      <td>1e-05</td>\n",
       "      <td>1.5e-08</td>\n",
       "    </tr>\n",
       "    <tr>\n",
       "      <th>1</th>\n",
       "      <td>0.00011</td>\n",
       "      <td>1.7e-06</td>\n",
       "      <td>1e-05</td>\n",
       "      <td>1.7e-08</td>\n",
       "    </tr>\n",
       "    <tr>\n",
       "      <th>2</th>\n",
       "      <td>0.00012</td>\n",
       "      <td>1.9e-06</td>\n",
       "      <td>1e-05</td>\n",
       "      <td>1.9e-08</td>\n",
       "    </tr>\n",
       "    <tr>\n",
       "      <th>3</th>\n",
       "      <td>0.00014</td>\n",
       "      <td>2.1e-06</td>\n",
       "      <td>1e-05</td>\n",
       "      <td>2.1e-08</td>\n",
       "    </tr>\n",
       "    <tr>\n",
       "      <th>4</th>\n",
       "      <td>0.00015</td>\n",
       "      <td>2.4e-06</td>\n",
       "      <td>1e-05</td>\n",
       "      <td>2.4e-08</td>\n",
       "    </tr>\n",
       "    <tr>\n",
       "      <th>5</th>\n",
       "      <td>0.00019</td>\n",
       "      <td>2.9e-06</td>\n",
       "      <td>1e-05</td>\n",
       "      <td>2.9e-08</td>\n",
       "    </tr>\n",
       "    <tr>\n",
       "      <th>6</th>\n",
       "      <td>0.00023</td>\n",
       "      <td>3.6e-06</td>\n",
       "      <td>1e-05</td>\n",
       "      <td>3.6e-08</td>\n",
       "    </tr>\n",
       "    <tr>\n",
       "      <th>7</th>\n",
       "      <td>0.00031</td>\n",
       "      <td>4.8e-06</td>\n",
       "      <td>1e-05</td>\n",
       "      <td>4.8e-08</td>\n",
       "    </tr>\n",
       "    <tr>\n",
       "      <th>8</th>\n",
       "      <td>0.00045</td>\n",
       "      <td>7.1e-06</td>\n",
       "      <td>1e-05</td>\n",
       "      <td>7.1e-08</td>\n",
       "    </tr>\n",
       "    <tr>\n",
       "      <th>9</th>\n",
       "      <td>0.00056</td>\n",
       "      <td>9.2e-06</td>\n",
       "      <td>1e-05</td>\n",
       "      <td>9.2e-08</td>\n",
       "    </tr>\n",
       "  </tbody>\n",
       "</table>\n",
       "</div>"
      ],
      "text/plain": [
       "        I       C  I_chyba  C_chyba\n",
       "0 9.5e-05 1.5e-06    1e-05  1.5e-08\n",
       "1 0.00011 1.7e-06    1e-05  1.7e-08\n",
       "2 0.00012 1.9e-06    1e-05  1.9e-08\n",
       "3 0.00014 2.1e-06    1e-05  2.1e-08\n",
       "4 0.00015 2.4e-06    1e-05  2.4e-08\n",
       "5 0.00019 2.9e-06    1e-05  2.9e-08\n",
       "6 0.00023 3.6e-06    1e-05  3.6e-08\n",
       "7 0.00031 4.8e-06    1e-05  4.8e-08\n",
       "8 0.00045 7.1e-06    1e-05  7.1e-08\n",
       "9 0.00056 9.2e-06    1e-05  9.2e-08"
      ]
     },
     "execution_count": 42,
     "metadata": {},
     "output_type": "execute_result"
    }
   ],
   "source": [
    "df2b"
   ]
  },
  {
   "cell_type": "code",
   "execution_count": 51,
   "metadata": {
    "collapsed": true
   },
   "outputs": [],
   "source": [
    "def f(x, a, b):\n",
    "    return a*x + b\n",
    "\n",
    "params, err = fit(f, df2b.I.values, df2b.C.values)"
   ]
  },
  {
   "cell_type": "code",
   "execution_count": 59,
   "metadata": {},
   "outputs": [
    {
     "data": {
      "image/png": "[encoded data removed]",
      "text/plain": [
       "<matplotlib.figure.Figure at 0x1f6d6ebea58>"
      ]
     },
     "metadata": {},
     "output_type": "display_data"
    }
   ],
   "source": [
    "fig, axes = plt.subplots()\n",
    "axes.ticklabel_format(style='sci', scilimits=(0,0))\n",
    "axes.set_ylabel(\"Filtrační kapacita [F]\")\n",
    "axes.set_xlabel(\"Odebíraný proud [A]\")\n",
    "axes.set_xticks(sp.arange(0,6e-4,5e-5))\n",
    "axes.set_yticks(sp.arange(0,9.9999e-6,1e-6))\n",
    "axes.plot(*curve(df2b.I.values, f, params), \"gray\", linestyle=\"--\", label=\"lineární fit\")\n",
    "axes.errorbar(df2b.I, df2b.C, xerr = df2b.I_chyba, capsize=2, linestyle=\"none\", marker=\"+\", c=\"k\", label=\"naměřené hodnoty\")\n",
    "axes.legend()\n",
    "fig.tight_layout()\n",
    "fig.savefig(\"../plot/u2b.pdf\")"
   ]
  },
  {
   "cell_type": "markdown",
   "metadata": {},
   "source": [
    "## Pokusy"
   ]
  },
  {
   "cell_type": "code",
   "execution_count": null,
   "metadata": {
    "collapsed": true
   },
   "outputs": [],
   "source": []
  }
 ],
 "metadata": {
  "kernelspec": {
   "display_name": "Python 3",
   "language": "python",
   "name": "python3"
  },
  "language_info": {
   "codemirror_mode": {
    "name": "ipython",
    "version": 3
   },
   "file_extension": ".py",
   "mimetype": "text/x-python",
   "name": "python",
   "nbconvert_exporter": "python",
   "pygments_lexer": "ipython3",
   "version": "3.6.1"
  }
 },
 "nbformat": 4,
 "nbformat_minor": 2
}
