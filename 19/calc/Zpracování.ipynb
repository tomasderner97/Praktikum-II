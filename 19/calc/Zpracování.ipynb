{
 "cells": [
  {
   "cell_type": "markdown",
   "metadata": {},
   "source": [
    "# Název"
   ]
  },
  {
   "cell_type": "markdown",
   "metadata": {
    "heading_collapsed": true
   },
   "source": [
    "## Setup"
   ]
  },
  {
   "cell_type": "code",
   "execution_count": 39,
   "metadata": {
    "hidden": true
   },
   "outputs": [],
   "source": [
    "from protokol import *"
   ]
  },
  {
   "cell_type": "code",
   "execution_count": 40,
   "metadata": {
    "hidden": true
   },
   "outputs": [],
   "source": [
    "%matplotlib inline\n",
    "plt.rcParams[\"figure.figsize\"] = (4*1.5,2.5*1.5)\n",
    "plt.rcParams[\"figure.dpi\"] = 100\n",
    "plt.rcParams[\"text.usetex\"] = True\n",
    "plt.rcParams[\"font.family\"] = \"serif\"\n",
    "plt.rcParams[\"font.serif\"] = [\"Computer Modern\"]\n",
    "plt.rcParams[\"text.latex.preamble\"] = r\"\"\"\n",
    "\\usepackage[decimalsymbol=comma]{siunitx}\n",
    "\"\"\""
   ]
  },
  {
   "cell_type": "markdown",
   "metadata": {},
   "source": [
    "## Úkol 1"
   ]
  },
  {
   "cell_type": "markdown",
   "metadata": {
    "collapsed": true
   },
   "source": [
    "### Data"
   ]
  },
  {
   "cell_type": "code",
   "execution_count": 54,
   "metadata": {},
   "outputs": [],
   "source": [
    "tycka = {\n",
    "    \"l\": 0.24,\n",
    "    \"m\": 0.0566,\n",
    "    \"d\": 6e-3,\n",
    "    \"J\": 2.72e-4\n",
    "}"
   ]
  },
  {
   "cell_type": "code",
   "execution_count": 55,
   "metadata": {
    "hide_input": false
   },
   "outputs": [
    {
     "name": "stdout",
     "output_type": "stream",
     "text": [
      "l = 1.330+/-0.010 m\n"
     ]
    }
   ],
   "source": [
    "l = uf(1.33, 0.01)\n",
    "print(f\"l = {l} m\")"
   ]
  },
  {
   "cell_type": "code",
   "execution_count": 168,
   "metadata": {
    "hide_input": false
   },
   "outputs": [
    {
     "name": "stdout",
     "output_type": "stream",
     "text": [
      "r_velka = 0.2022+/-0.0008 m\n",
      "r_mala = 0.1028+/-0.0006 m\n",
      "[ 103.5  102.   102.5  103.5  102.5]\n"
     ]
    }
   ],
   "source": [
    "d_velka = arr([\n",
    "    40.7,\n",
    "    40.0,\n",
    "    40.4,\n",
    "    40.6,\n",
    "    40.5\n",
    "]) * 1e-2\n",
    "d_mala = arr([\n",
    "    20.7,\n",
    "    20.4,\n",
    "    20.5,\n",
    "    20.7,\n",
    "    20.5\n",
    "]) * 1e-2\n",
    "r_velka = eval_mean(d_velka, 0.1e-2, 0.5)\n",
    "r_mala = eval_mean(d_mala, 0.1e-2, 0.5)\n",
    "print(f\"r_velka = {r_velka} m\")\n",
    "print(f\"r_mala = {r_mala} m\")\n",
    "print(d_mala*1e3/2)"
   ]
  },
  {
   "cell_type": "code",
   "execution_count": 71,
   "metadata": {
    "hide_input": false
   },
   "outputs": [],
   "source": [
    "df = pd.DataFrame()\n",
    "df[\"I\"] = sp.arange(0, 4.5, 0.5)\n",
    "df[\"V5\"] = [\n",
    "    13,\n",
    "    12,\n",
    "    11,\n",
    "    10.1,\n",
    "    9,\n",
    "    8,\n",
    "    7.3,\n",
    "    6.5,\n",
    "    5.3\n",
    "]\n",
    "df[\"V10\"] = [\n",
    "    13,\n",
    "    11,\n",
    "    9,\n",
    "    7.2,\n",
    "    5.3,\n",
    "    3.4,\n",
    "    1.7,\n",
    "    -0.3,\n",
    "    -2.2\n",
    "]\n",
    "df[\"M5\"] = [\n",
    "    12.7,\n",
    "    10.8,\n",
    "    9.1,\n",
    "    7.2,\n",
    "    5.5,\n",
    "    3.5,\n",
    "    1.8,\n",
    "    0.1,\n",
    "    -1.7\n",
    "]\n",
    "df[\"M10\"] = [\n",
    "    12.5,\n",
    "    9,\n",
    "    5.2,\n",
    "    1.8,\n",
    "    -2,\n",
    "    -5.4,\n",
    "    -9.1,\n",
    "    -12.9,\n",
    "    -16.6\n",
    "]"
   ]
  },
  {
   "cell_type": "code",
   "execution_count": 72,
   "metadata": {},
   "outputs": [],
   "source": [
    "for c in \"V5 V10 M5 M10\".split():\n",
    "    df[c] = df[c] * 1e-2\n",
    "    df[f\"x_{c}\"] = df[c][0] - df[c]\n",
    "    df[f\"x_{c}\"] = df[f\"x_{c}\"].apply(lambda h: uf(h, 0.005))\n",
    "    df[f\"a_{c}\"] = df[f\"x_{c}\"].values / (2*l)"
   ]
  },
  {
   "cell_type": "code",
   "execution_count": 73,
   "metadata": {},
   "outputs": [
    {
     "data": {
      "text/html": [
       "<div>\n",
       "<style>\n",
       "    .dataframe thead tr:only-child th {\n",
       "        text-align: right;\n",
       "    }\n",
       "\n",
       "    .dataframe thead th {\n",
       "        text-align: left;\n",
       "    }\n",
       "\n",
       "    .dataframe tbody tr th {\n",
       "        vertical-align: top;\n",
       "    }\n",
       "</style>\n",
       "<table border=\"1\" class=\"dataframe\">\n",
       "  <thead>\n",
       "    <tr style=\"text-align: right;\">\n",
       "      <th></th>\n",
       "      <th>I</th>\n",
       "      <th>V5</th>\n",
       "      <th>V10</th>\n",
       "      <th>M5</th>\n",
       "      <th>M10</th>\n",
       "      <th>x_V5</th>\n",
       "      <th>a_V5</th>\n",
       "      <th>x_V10</th>\n",
       "      <th>a_V10</th>\n",
       "      <th>x_M5</th>\n",
       "      <th>a_M5</th>\n",
       "      <th>x_M10</th>\n",
       "      <th>a_M10</th>\n",
       "    </tr>\n",
       "  </thead>\n",
       "  <tbody>\n",
       "    <tr>\n",
       "      <th>0</th>\n",
       "      <td>0.0</td>\n",
       "      <td>0.130</td>\n",
       "      <td>0.130</td>\n",
       "      <td>0.127</td>\n",
       "      <td>0.125</td>\n",
       "      <td>0.000+/-0.005</td>\n",
       "      <td>0.0000+/-0.0019</td>\n",
       "      <td>0.000+/-0.005</td>\n",
       "      <td>0.0000+/-0.0019</td>\n",
       "      <td>0.000+/-0.005</td>\n",
       "      <td>0.0000+/-0.0019</td>\n",
       "      <td>0.000+/-0.005</td>\n",
       "      <td>0.0000+/-0.0019</td>\n",
       "    </tr>\n",
       "    <tr>\n",
       "      <th>1</th>\n",
       "      <td>0.5</td>\n",
       "      <td>0.120</td>\n",
       "      <td>0.110</td>\n",
       "      <td>0.108</td>\n",
       "      <td>0.090</td>\n",
       "      <td>0.010+/-0.005</td>\n",
       "      <td>0.0038+/-0.0019</td>\n",
       "      <td>0.020+/-0.005</td>\n",
       "      <td>0.0075+/-0.0019</td>\n",
       "      <td>0.019+/-0.005</td>\n",
       "      <td>0.0071+/-0.0019</td>\n",
       "      <td>0.035+/-0.005</td>\n",
       "      <td>0.0132+/-0.0019</td>\n",
       "    </tr>\n",
       "    <tr>\n",
       "      <th>2</th>\n",
       "      <td>1.0</td>\n",
       "      <td>0.110</td>\n",
       "      <td>0.090</td>\n",
       "      <td>0.091</td>\n",
       "      <td>0.052</td>\n",
       "      <td>0.020+/-0.005</td>\n",
       "      <td>0.0075+/-0.0019</td>\n",
       "      <td>0.040+/-0.005</td>\n",
       "      <td>0.0150+/-0.0019</td>\n",
       "      <td>0.036+/-0.005</td>\n",
       "      <td>0.0135+/-0.0019</td>\n",
       "      <td>0.073+/-0.005</td>\n",
       "      <td>0.0274+/-0.0019</td>\n",
       "    </tr>\n",
       "    <tr>\n",
       "      <th>3</th>\n",
       "      <td>1.5</td>\n",
       "      <td>0.101</td>\n",
       "      <td>0.072</td>\n",
       "      <td>0.072</td>\n",
       "      <td>0.018</td>\n",
       "      <td>0.029+/-0.005</td>\n",
       "      <td>0.0109+/-0.0019</td>\n",
       "      <td>0.058+/-0.005</td>\n",
       "      <td>0.0218+/-0.0019</td>\n",
       "      <td>0.055+/-0.005</td>\n",
       "      <td>0.0207+/-0.0019</td>\n",
       "      <td>0.107+/-0.005</td>\n",
       "      <td>0.0402+/-0.0019</td>\n",
       "    </tr>\n",
       "    <tr>\n",
       "      <th>4</th>\n",
       "      <td>2.0</td>\n",
       "      <td>0.090</td>\n",
       "      <td>0.053</td>\n",
       "      <td>0.055</td>\n",
       "      <td>-0.020</td>\n",
       "      <td>0.040+/-0.005</td>\n",
       "      <td>0.0150+/-0.0019</td>\n",
       "      <td>0.077+/-0.005</td>\n",
       "      <td>0.0289+/-0.0019</td>\n",
       "      <td>0.072+/-0.005</td>\n",
       "      <td>0.0271+/-0.0019</td>\n",
       "      <td>0.145+/-0.005</td>\n",
       "      <td>0.0545+/-0.0019</td>\n",
       "    </tr>\n",
       "    <tr>\n",
       "      <th>5</th>\n",
       "      <td>2.5</td>\n",
       "      <td>0.080</td>\n",
       "      <td>0.034</td>\n",
       "      <td>0.035</td>\n",
       "      <td>-0.054</td>\n",
       "      <td>0.050+/-0.005</td>\n",
       "      <td>0.0188+/-0.0019</td>\n",
       "      <td>0.096+/-0.005</td>\n",
       "      <td>0.0361+/-0.0019</td>\n",
       "      <td>0.092+/-0.005</td>\n",
       "      <td>0.0346+/-0.0019</td>\n",
       "      <td>0.179+/-0.005</td>\n",
       "      <td>0.0673+/-0.0019</td>\n",
       "    </tr>\n",
       "    <tr>\n",
       "      <th>6</th>\n",
       "      <td>3.0</td>\n",
       "      <td>0.073</td>\n",
       "      <td>0.017</td>\n",
       "      <td>0.018</td>\n",
       "      <td>-0.091</td>\n",
       "      <td>0.057+/-0.005</td>\n",
       "      <td>0.0214+/-0.0019</td>\n",
       "      <td>0.113+/-0.005</td>\n",
       "      <td>0.0425+/-0.0019</td>\n",
       "      <td>0.109+/-0.005</td>\n",
       "      <td>0.0410+/-0.0019</td>\n",
       "      <td>0.216+/-0.005</td>\n",
       "      <td>0.0812+/-0.0020</td>\n",
       "    </tr>\n",
       "    <tr>\n",
       "      <th>7</th>\n",
       "      <td>3.5</td>\n",
       "      <td>0.065</td>\n",
       "      <td>-0.003</td>\n",
       "      <td>0.001</td>\n",
       "      <td>-0.129</td>\n",
       "      <td>0.065+/-0.005</td>\n",
       "      <td>0.0244+/-0.0019</td>\n",
       "      <td>0.133+/-0.005</td>\n",
       "      <td>0.0500+/-0.0019</td>\n",
       "      <td>0.126+/-0.005</td>\n",
       "      <td>0.0474+/-0.0019</td>\n",
       "      <td>0.254+/-0.005</td>\n",
       "      <td>0.0955+/-0.0020</td>\n",
       "    </tr>\n",
       "    <tr>\n",
       "      <th>8</th>\n",
       "      <td>4.0</td>\n",
       "      <td>0.053</td>\n",
       "      <td>-0.022</td>\n",
       "      <td>-0.017</td>\n",
       "      <td>-0.166</td>\n",
       "      <td>0.077+/-0.005</td>\n",
       "      <td>0.0289+/-0.0019</td>\n",
       "      <td>0.152+/-0.005</td>\n",
       "      <td>0.0571+/-0.0019</td>\n",
       "      <td>0.144+/-0.005</td>\n",
       "      <td>0.0541+/-0.0019</td>\n",
       "      <td>0.291+/-0.005</td>\n",
       "      <td>0.1094+/-0.0021</td>\n",
       "    </tr>\n",
       "  </tbody>\n",
       "</table>\n",
       "</div>"
      ],
      "text/plain": [
       "     I     V5    V10     M5    M10           x_V5             a_V5  \\\n",
       "0  0.0  0.130  0.130  0.127  0.125  0.000+/-0.005  0.0000+/-0.0019   \n",
       "1  0.5  0.120  0.110  0.108  0.090  0.010+/-0.005  0.0038+/-0.0019   \n",
       "2  1.0  0.110  0.090  0.091  0.052  0.020+/-0.005  0.0075+/-0.0019   \n",
       "3  1.5  0.101  0.072  0.072  0.018  0.029+/-0.005  0.0109+/-0.0019   \n",
       "4  2.0  0.090  0.053  0.055 -0.020  0.040+/-0.005  0.0150+/-0.0019   \n",
       "5  2.5  0.080  0.034  0.035 -0.054  0.050+/-0.005  0.0188+/-0.0019   \n",
       "6  3.0  0.073  0.017  0.018 -0.091  0.057+/-0.005  0.0214+/-0.0019   \n",
       "7  3.5  0.065 -0.003  0.001 -0.129  0.065+/-0.005  0.0244+/-0.0019   \n",
       "8  4.0  0.053 -0.022 -0.017 -0.166  0.077+/-0.005  0.0289+/-0.0019   \n",
       "\n",
       "           x_V10            a_V10           x_M5             a_M5  \\\n",
       "0  0.000+/-0.005  0.0000+/-0.0019  0.000+/-0.005  0.0000+/-0.0019   \n",
       "1  0.020+/-0.005  0.0075+/-0.0019  0.019+/-0.005  0.0071+/-0.0019   \n",
       "2  0.040+/-0.005  0.0150+/-0.0019  0.036+/-0.005  0.0135+/-0.0019   \n",
       "3  0.058+/-0.005  0.0218+/-0.0019  0.055+/-0.005  0.0207+/-0.0019   \n",
       "4  0.077+/-0.005  0.0289+/-0.0019  0.072+/-0.005  0.0271+/-0.0019   \n",
       "5  0.096+/-0.005  0.0361+/-0.0019  0.092+/-0.005  0.0346+/-0.0019   \n",
       "6  0.113+/-0.005  0.0425+/-0.0019  0.109+/-0.005  0.0410+/-0.0019   \n",
       "7  0.133+/-0.005  0.0500+/-0.0019  0.126+/-0.005  0.0474+/-0.0019   \n",
       "8  0.152+/-0.005  0.0571+/-0.0019  0.144+/-0.005  0.0541+/-0.0019   \n",
       "\n",
       "           x_M10            a_M10  \n",
       "0  0.000+/-0.005  0.0000+/-0.0019  \n",
       "1  0.035+/-0.005  0.0132+/-0.0019  \n",
       "2  0.073+/-0.005  0.0274+/-0.0019  \n",
       "3  0.107+/-0.005  0.0402+/-0.0019  \n",
       "4  0.145+/-0.005  0.0545+/-0.0019  \n",
       "5  0.179+/-0.005  0.0673+/-0.0019  \n",
       "6  0.216+/-0.005  0.0812+/-0.0020  \n",
       "7  0.254+/-0.005  0.0955+/-0.0020  \n",
       "8  0.291+/-0.005  0.1094+/-0.0021  "
      ]
     },
     "execution_count": 73,
     "metadata": {},
     "output_type": "execute_result"
    }
   ],
   "source": [
    "df"
   ]
  },
  {
   "cell_type": "markdown",
   "metadata": {},
   "source": [
    "## Úkol 2"
   ]
  },
  {
   "cell_type": "code",
   "execution_count": 174,
   "metadata": {},
   "outputs": [
    {
     "data": {
      "image/png": "[encoded data removed]",
      "text/plain": [
       "<matplotlib.figure.Figure at 0x21de5cf8b38>"
      ]
     },
     "metadata": {},
     "output_type": "display_data"
    }
   ],
   "source": [
    "fig = plt.figure()\n",
    "ax = plt.axes()\n",
    "\n",
    "fit = FitCurve(f_line, df.I, noms(df.a_V5), sigma=stds(df.a_V5))\n",
    "S_V5 = fit.params[0]\n",
    "ax.plot(*fit.curve(overrun=0.05), \":\", c=\"gray\", label=\"$N = 5$\")\n",
    "ax.plot(df.I, noms(df.a_V5), \"kx\")\n",
    "\n",
    "# ----- #\n",
    "\n",
    "fit = FitCurve(f_line, df.I, noms(df.a_V10))\n",
    "S_V10 = fit.params[0]\n",
    "ax.plot(*fit.curve(overrun=0.05), \"--\", c=\"gray\", label=\"$N = 10$\")\n",
    "ax.plot(df.I, noms(df.a_V10), \"k+\", ms=7)\n",
    "\n",
    "ax.legend()\n",
    "ax.set_xlabel(r\"$I[\\si{A}]$\")\n",
    "ax.set_ylabel(r\"$\\alpha [\\si{\\rad}]$\")\n",
    "ax.margins(x=0)\n",
    "fig.tight_layout()\n",
    "fig.savefig(\"../plot/V.pdf\")"
   ]
  },
  {
   "cell_type": "code",
   "execution_count": 177,
   "metadata": {},
   "outputs": [
    {
     "data": {
      "image/png": "[encoded data removed]",
      "text/plain": [
       "<matplotlib.figure.Figure at 0x21de63a4470>"
      ]
     },
     "metadata": {},
     "output_type": "display_data"
    }
   ],
   "source": [
    "fig = plt.figure()\n",
    "ax = plt.axes()\n",
    "\n",
    "fit = FitCurve(f_line, df.I, noms(df.a_M5), sigma=stds(df.a_M5))\n",
    "S_M5 = fit.params[0]\n",
    "ax.plot(*fit.curve(overrun=0.05), \":\", c=\"gray\", label=\"$N = 5$\")\n",
    "ax.plot(df.I, noms(df.a_M5), \"kx\")\n",
    "\n",
    "# ----- #\n",
    "\n",
    "fit = FitCurve(f_line, df.I, noms(df.a_M10))\n",
    "ax.plot(*fit.curve(overrun=0.05), \"--\", c=\"gray\", label=\"$N = 10$\")\n",
    "ax.plot(df.I, noms(df.a_M10), \"k+\", ms=7)\n",
    "alpha_o_I = fit.params[0]\n",
    "S_M10 = fit.params[0]\n",
    "\n",
    "ax.legend()\n",
    "ax.set_xlabel(r\"$I[\\si{A}]$\")\n",
    "ax.set_ylabel(r\"$\\alpha [\\si{\\rad}]$\")\n",
    "ax.margins(x=0)\n",
    "fig.tight_layout()\n",
    "fig.savefig(\"../plot/M.pdf\")"
   ]
  },
  {
   "cell_type": "markdown",
   "metadata": {},
   "source": [
    "## Úkol 4"
   ]
  },
  {
   "cell_type": "code",
   "execution_count": 187,
   "metadata": {
    "hide_input": false
   },
   "outputs": [
    {
     "name": "stdout",
     "output_type": "stream",
     "text": [
      "[ 4.032  4.05   4.018  4.032  4.018]\n",
      "T_kmitu = 4.03+/-0.04\n"
     ]
    }
   ],
   "source": [
    "T_5_kmitu = arr([\n",
    "    20.16,\n",
    "    20.25,\n",
    "    20.09,\n",
    "    20.16,\n",
    "    20.09\n",
    "])\n",
    "print(T_5_kmitu / 5)\n",
    "T_kmitu = eval_mean(T_5_kmitu, 0.2, 1/5)\n",
    "print(f\"T_kmitu = {T_kmitu}\")"
   ]
  },
  {
   "cell_type": "code",
   "execution_count": 190,
   "metadata": {},
   "outputs": [
    {
     "name": "stdout",
     "output_type": "stream",
     "text": [
      "\\left(6.61 \\pm 0.13\\right) \\times 10^{-4}\n"
     ]
    }
   ],
   "source": [
    "D = (4 * sp.pi**2 * tycka[\"J\"]) / T_kmitu**2\n",
    "print(f\"{D:eL}\")"
   ]
  },
  {
   "cell_type": "markdown",
   "metadata": {},
   "source": [
    "## Úkol 5"
   ]
  },
  {
   "cell_type": "code",
   "execution_count": 191,
   "metadata": {},
   "outputs": [],
   "source": [
    "p = 2 * r_mala * D * alpha_o_I / 10"
   ]
  },
  {
   "cell_type": "code",
   "execution_count": 195,
   "metadata": {},
   "outputs": [
    {
     "name": "stdout",
     "output_type": "stream",
     "text": [
      "\\left(3.71 \\pm 0.08\\right) \\times 10^{-7}\n"
     ]
    }
   ],
   "source": [
    "print(f\"{p:eL}\")"
   ]
  },
  {
   "cell_type": "code",
   "execution_count": 193,
   "metadata": {},
   "outputs": [],
   "source": [
    "m = p / (4e-7*sp.pi)"
   ]
  },
  {
   "cell_type": "code",
   "execution_count": 199,
   "metadata": {},
   "outputs": [
    {
     "name": "stdout",
     "output_type": "stream",
     "text": [
      "0.000272\n"
     ]
    }
   ],
   "source": [
    "print(f\"{tycka['J']}\")"
   ]
  },
  {
   "cell_type": "code",
   "execution_count": 185,
   "metadata": {},
   "outputs": [
    {
     "name": "stdout",
     "output_type": "stream",
     "text": [
      "0.712 \\pm 0.012\n"
     ]
    }
   ],
   "source": [
    "print(f\"{S_V5*1e2:L}\")"
   ]
  },
  {
   "cell_type": "code",
   "execution_count": null,
   "metadata": {},
   "outputs": [],
   "source": []
  }
 ],
 "metadata": {
  "kernelspec": {
   "display_name": "Python 3",
   "language": "python",
   "name": "python3"
  },
  "language_info": {
   "codemirror_mode": {
    "name": "ipython",
    "version": 3
   },
   "file_extension": ".py",
   "mimetype": "text/x-python",
   "name": "python",
   "nbconvert_exporter": "python",
   "pygments_lexer": "ipython3",
   "version": "3.6.1"
  }
 },
 "nbformat": 4,
 "nbformat_minor": 2
}
