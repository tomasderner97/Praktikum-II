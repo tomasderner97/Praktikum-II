{
 "cells": [
  {
   "cell_type": "code",
   "execution_count": 7,
   "metadata": {},
   "outputs": [
    {
     "name": "stdout",
     "output_type": "stream",
     "text": [
      "              ch3cooh                hcl  c_hcl  c_ch3cooh             sm_hcl  \\\n",
      "1   0.00385+/-0.00010  0.00541+/-0.00010    0.5        0.1  0.01082+/-0.00020   \n",
      "2   0.00533+/-0.00010  0.01099+/-0.00011    1.0        0.2  0.01099+/-0.00011   \n",
      "4   0.00779+/-0.00011  0.02160+/-0.00014    2.0        0.4  0.01080+/-0.00007   \n",
      "6   0.00979+/-0.00011  0.03320+/-0.00019    3.0        0.6  0.01107+/-0.00006   \n",
      "8   0.01125+/-0.00011  0.04360+/-0.00023    4.0        0.8  0.01090+/-0.00006   \n",
      "10  0.01262+/-0.00012  0.05490+/-0.00029    5.0        1.0  0.01098+/-0.00006   \n",
      "\n",
      "           sm_ch3cooh  \n",
      "1     0.0385+/-0.0010  \n",
      "2     0.0266+/-0.0005  \n",
      "4   0.01948+/-0.00028  \n",
      "6   0.01632+/-0.00018  \n",
      "8   0.01406+/-0.00014  \n",
      "10  0.01262+/-0.00012  \n",
      "0.970824391947\n"
     ]
    }
   ],
   "source": [
    "%run zpracovani.py\n",
    "%matplotlib inline"
   ]
  },
  {
   "cell_type": "code",
   "execution_count": 16,
   "metadata": {},
   "outputs": [
    {
     "data": {
      "text/html": [
       "<div>\n",
       "<style>\n",
       "    .dataframe thead tr:only-child th {\n",
       "        text-align: right;\n",
       "    }\n",
       "\n",
       "    .dataframe thead th {\n",
       "        text-align: left;\n",
       "    }\n",
       "\n",
       "    .dataframe tbody tr th {\n",
       "        vertical-align: top;\n",
       "    }\n",
       "</style>\n",
       "<table border=\"1\" class=\"dataframe\">\n",
       "  <thead>\n",
       "    <tr style=\"text-align: right;\">\n",
       "      <th></th>\n",
       "      <th>ch3cooh</th>\n",
       "      <th>hcl</th>\n",
       "      <th>c_hcl</th>\n",
       "      <th>c_ch3cooh</th>\n",
       "      <th>sm_hcl</th>\n",
       "      <th>sm_ch3cooh</th>\n",
       "    </tr>\n",
       "  </thead>\n",
       "  <tbody>\n",
       "    <tr>\n",
       "      <th>1</th>\n",
       "      <td>0.00385+/-0.00010</td>\n",
       "      <td>0.00541+/-0.00010</td>\n",
       "      <td>0.5</td>\n",
       "      <td>0.1</td>\n",
       "      <td>0.01082+/-0.00020</td>\n",
       "      <td>0.0385+/-0.0010</td>\n",
       "    </tr>\n",
       "    <tr>\n",
       "      <th>2</th>\n",
       "      <td>0.00533+/-0.00010</td>\n",
       "      <td>0.01099+/-0.00011</td>\n",
       "      <td>1.0</td>\n",
       "      <td>0.2</td>\n",
       "      <td>0.01099+/-0.00011</td>\n",
       "      <td>0.0266+/-0.0005</td>\n",
       "    </tr>\n",
       "    <tr>\n",
       "      <th>4</th>\n",
       "      <td>0.00779+/-0.00011</td>\n",
       "      <td>0.02160+/-0.00014</td>\n",
       "      <td>2.0</td>\n",
       "      <td>0.4</td>\n",
       "      <td>0.01080+/-0.00007</td>\n",
       "      <td>0.01948+/-0.00028</td>\n",
       "    </tr>\n",
       "    <tr>\n",
       "      <th>6</th>\n",
       "      <td>0.00979+/-0.00011</td>\n",
       "      <td>0.03320+/-0.00019</td>\n",
       "      <td>3.0</td>\n",
       "      <td>0.6</td>\n",
       "      <td>0.01107+/-0.00006</td>\n",
       "      <td>0.01632+/-0.00018</td>\n",
       "    </tr>\n",
       "    <tr>\n",
       "      <th>8</th>\n",
       "      <td>0.01125+/-0.00011</td>\n",
       "      <td>0.04360+/-0.00023</td>\n",
       "      <td>4.0</td>\n",
       "      <td>0.8</td>\n",
       "      <td>0.01090+/-0.00006</td>\n",
       "      <td>0.01406+/-0.00014</td>\n",
       "    </tr>\n",
       "    <tr>\n",
       "      <th>10</th>\n",
       "      <td>0.01262+/-0.00012</td>\n",
       "      <td>0.05490+/-0.00029</td>\n",
       "      <td>5.0</td>\n",
       "      <td>1.0</td>\n",
       "      <td>0.01098+/-0.00006</td>\n",
       "      <td>0.01262+/-0.00012</td>\n",
       "    </tr>\n",
       "  </tbody>\n",
       "</table>\n",
       "</div>"
      ],
      "text/plain": [
       "              ch3cooh                hcl  c_hcl  c_ch3cooh             sm_hcl  \\\n",
       "1   0.00385+/-0.00010  0.00541+/-0.00010    0.5        0.1  0.01082+/-0.00020   \n",
       "2   0.00533+/-0.00010  0.01099+/-0.00011    1.0        0.2  0.01099+/-0.00011   \n",
       "4   0.00779+/-0.00011  0.02160+/-0.00014    2.0        0.4  0.01080+/-0.00007   \n",
       "6   0.00979+/-0.00011  0.03320+/-0.00019    3.0        0.6  0.01107+/-0.00006   \n",
       "8   0.01125+/-0.00011  0.04360+/-0.00023    4.0        0.8  0.01090+/-0.00006   \n",
       "10  0.01262+/-0.00012  0.05490+/-0.00029    5.0        1.0  0.01098+/-0.00006   \n",
       "\n",
       "           sm_ch3cooh  \n",
       "1     0.0385+/-0.0010  \n",
       "2     0.0266+/-0.0005  \n",
       "4   0.01948+/-0.00028  \n",
       "6   0.01632+/-0.00018  \n",
       "8   0.01406+/-0.00014  \n",
       "10  0.01262+/-0.00012  "
      ]
     },
     "execution_count": 16,
     "metadata": {},
     "output_type": "execute_result"
    }
   ],
   "source": [
    "df"
   ]
  },
  {
   "cell_type": "code",
   "execution_count": 25,
   "metadata": {},
   "outputs": [],
   "source": [
    "plt.rcParams[\"figure.figsize\"] = (4*1.5,2.5*1.5*0.95)"
   ]
  },
  {
   "cell_type": "code",
   "execution_count": 26,
   "metadata": {},
   "outputs": [
    {
     "name": "stdout",
     "output_type": "stream",
     "text": [
      "0.01083+/-0.00020\n"
     ]
    },
    {
     "data": {
      "image/png": "[encoded data removed]",
      "text/plain": [
       "<matplotlib.figure.Figure at 0x28dcf11d6d8>"
      ]
     },
     "metadata": {},
     "output_type": "display_data"
    }
   ],
   "source": [
    "fit = FitCurve(f_line, sp.sqrt(df.c_hcl), noms(df.sm_hcl), sigma=stds(df.sm_hcl))\n",
    "\n",
    "plt.plot(*fit.curve(overrun=0.05), c=\"gray\")\n",
    "print(fit.params[1])\n",
    "plt.plot(sp.sqrt(df.c_hcl), noms(df.sm_hcl), \"kx\")\n",
    "\n",
    "plt.xlabel(r\"$\\sqrt{c_{M_{HCl}}} [\\si{\\mole\\per\\cubic\\metre}]$\")\n",
    "plt.ylabel(r\"$\\Lambda_{HCl} [\\si{\\siemens\\metre\\squared\\per\\mole}]$\")\n",
    "\n",
    "\n",
    "plt.tight_layout()\n",
    "plt.savefig(\"../plot/silny.pdf\")"
   ]
  },
  {
   "cell_type": "code",
   "execution_count": 27,
   "metadata": {},
   "outputs": [
    {
     "name": "stdout",
     "output_type": "stream",
     "text": [
      "0.045+/-0.004\n"
     ]
    },
    {
     "data": {
      "image/png": "[encoded data removed]",
      "text/plain": [
       "<matplotlib.figure.Figure at 0x28dcf251198>"
      ]
     },
     "metadata": {},
     "output_type": "display_data"
    }
   ],
   "source": [
    "fit = FitCurve(f_line, sp.sqrt(df.c_ch3cooh), noms(df.sm_ch3cooh))\n",
    "\n",
    "plt.plot(*fit.curve(overrun=0.05), c=\"gray\")\n",
    "print(fit.params[1])\n",
    "plt.plot(sp.sqrt(df.c_ch3cooh), noms(df.sm_ch3cooh), \"kx\")\n",
    "\n",
    "plt.xlabel(r\"$\\sqrt{c_{M_{CH_3COOH}}} [\\si{\\mole\\per\\cubic\\metre}]$\")\n",
    "plt.ylabel(r\"$\\Lambda_{CH_3COOH} [\\si{\\siemens\\metre\\squared\\per\\mole}]$\")\n",
    "\n",
    "plt.tight_layout()\n",
    "plt.savefig(\"../plot/slaby.pdf\")"
   ]
  },
  {
   "cell_type": "code",
   "execution_count": 29,
   "metadata": {},
   "outputs": [
    {
     "data": {
      "text/plain": [
       "[<matplotlib.lines.Line2D at 0x28dcf9ff898>]"
      ]
     },
     "execution_count": 29,
     "metadata": {},
     "output_type": "execute_result"
    },
    {
     "data": {
      "image/png": "[encoded data removed]",
      "text/plain": [
       "<matplotlib.figure.Figure at 0x28dcfcb83c8>"
      ]
     },
     "metadata": {},
     "output_type": "display_data"
    }
   ],
   "source": [
    "plt.plot(df.c_hcl, noms(df.sm_hcl))"
   ]
  },
  {
   "cell_type": "code",
   "execution_count": 30,
   "metadata": {},
   "outputs": [
    {
     "data": {
      "text/plain": [
       "[<matplotlib.lines.Line2D at 0x28dcf7fc3c8>]"
      ]
     },
     "execution_count": 30,
     "metadata": {},
     "output_type": "execute_result"
    },
    {
     "data": {
      "image/png": "[encoded data removed]",
      "text/plain": [
       "<matplotlib.figure.Figure at 0x28dcfb88208>"
      ]
     },
     "metadata": {},
     "output_type": "display_data"
    }
   ],
   "source": [
    "plt.plot(df.c_ch3cooh, noms(df.sm_ch3cooh))"
   ]
  },
  {
   "cell_type": "code",
   "execution_count": null,
   "metadata": {},
   "outputs": [],
   "source": []
  }
 ],
 "metadata": {
  "kernelspec": {
   "display_name": "Python 3",
   "language": "python",
   "name": "python3"
  },
  "language_info": {
   "codemirror_mode": {
    "name": "ipython",
    "version": 3
   },
   "file_extension": ".py",
   "mimetype": "text/x-python",
   "name": "python",
   "nbconvert_exporter": "python",
   "pygments_lexer": "ipython3",
   "version": "3.6.1"
  }
 },
 "nbformat": 4,
 "nbformat_minor": 2
}
